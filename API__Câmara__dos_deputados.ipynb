{
  "nbformat": 4,
  "nbformat_minor": 0,
  "metadata": {
    "colab": {
      "name": "API_ Câmara _dos_deputados.ipynb",
      "provenance": [],
      "collapsed_sections": [],
      "authorship_tag": "ABX9TyODgxlDSI+5T1FAsRVrv706",
      "include_colab_link": true
    },
    "kernelspec": {
      "name": "python3",
      "display_name": "Python 3"
    }
  },
  "cells": [
    {
      "cell_type": "markdown",
      "metadata": {
        "id": "view-in-github",
        "colab_type": "text"
      },
      "source": [
        "<a href=\"https://colab.research.google.com/github/Daniel-ASG/Aulas_de_cursos/blob/main/API__C%C3%A2mara__dos_deputados.ipynb\" target=\"_parent\"><img src=\"https://colab.research.google.com/assets/colab-badge.svg\" alt=\"Open In Colab\"/></a>"
      ]
    },
    {
      "cell_type": "markdown",
      "metadata": {
        "id": "9I5jWclzMpDt"
      },
      "source": [
        "# Análise dos dados da API de partidos da Câmara dos Deputados\r\n",
        "\r\n",
        "link - https://dadosabertos.camara.leg.br/api/v2/partidos?ordem=ASC&ordenarPor=sigla\r\n",
        "\r\n"
      ]
    },
    {
      "cell_type": "code",
      "metadata": {
        "id": "wsUFdC6xMkKI"
      },
      "source": [
        "import pandas as pd\r\n",
        "import requests"
      ],
      "execution_count": 1,
      "outputs": []
    },
    {
      "cell_type": "code",
      "metadata": {
        "id": "4ixE4ss8M5Ua"
      },
      "source": [
        "url = 'https://dadosabertos.camara.leg.br/api/v2/partidos?ordem=ASC&ordenarPor=sigla'"
      ],
      "execution_count": 2,
      "outputs": []
    },
    {
      "cell_type": "code",
      "metadata": {
        "colab": {
          "base_uri": "https://localhost:8080/",
          "height": 238
        },
        "id": "4LN7lJLwM-xK",
        "outputId": "7f6852c8-0ca8-42f1-a286-bd7c2f9cf663"
      },
      "source": [
        "resposta = requests.get(url)\r\n",
        "resposta.text"
      ],
      "execution_count": 3,
      "outputs": [
        {
          "output_type": "execute_result",
          "data": {
            "application/vnd.google.colaboratory.intrinsic+json": {
              "type": "string"
            },
            "text/plain": [
              "'{\"dados\":[{\"id\":36898,\"sigla\":\"AVANTE\",\"nome\":\"Avante\",\"uri\":\"https://dadosabertos.camara.leg.br/api/v2/partidos/36898\"},{\"id\":37905,\"sigla\":\"CIDADANIA\",\"nome\":\"Cidadania\",\"uri\":\"https://dadosabertos.camara.leg.br/api/v2/partidos/37905\"},{\"id\":37902,\"sigla\":\"DC\",\"nome\":\"Democracia Cristã\",\"uri\":\"https://dadosabertos.camara.leg.br/api/v2/partidos/37902\"},{\"id\":36769,\"sigla\":\"DEM\",\"nome\":\"Democratas\",\"uri\":\"https://dadosabertos.camara.leg.br/api/v2/partidos/36769\"},{\"id\":36899,\"sigla\":\"MDB\",\"nome\":\"Movimento Democrático Brasileiro\",\"uri\":\"https://dadosabertos.camara.leg.br/api/v2/partidos/36899\"},{\"id\":37901,\"sigla\":\"NOVO\",\"nome\":\"Partido Novo\",\"uri\":\"https://dadosabertos.camara.leg.br/api/v2/partidos/37901\"},{\"id\":37900,\"sigla\":\"PATRI\",\"nome\":\"Patriota\",\"uri\":\"https://dadosabertos.camara.leg.br/api/v2/partidos/37900\"},{\"id\":37907,\"sigla\":\"PATRIOTA\",\"nome\":\"Patriota\",\"uri\":\"https://dadosabertos.camara.leg.br/api/v2/partidos/37907\"},{\"id\":36863,\"sigla\":\"PCB\",\"nome\":\"Partido Constitucionalista Brasileiro\",\"uri\":\"https://dadosabertos.camara.leg.br/api/v2/partidos/36863\"},{\"id\":36779,\"sigla\":\"PCdoB\",\"nome\":\"Partido Comunista do Brasil\",\"uri\":\"https://dadosabertos.camara.leg.br/api/v2/partidos/36779\"},{\"id\":36781,\"sigla\":\"PCO\",\"nome\":\"Partido da Causa Operária\",\"uri\":\"https://dadosabertos.camara.leg.br/api/v2/partidos/36781\"},{\"id\":36786,\"sigla\":\"PDT\",\"nome\":\"Partido Democrático Trabalhista\",\"uri\":\"https://dadosabertos.camara.leg.br/api/v2/partidos/36786\"},{\"id\":36793,\"sigla\":\"PHS\",\"nome\":\"Partido Humanista da Solidariedade\",\"uri\":\"https://dadosabertos.camara.leg.br/api/v2/partidos/36793\"},{\"id\":37906,\"sigla\":\"PL\",\"nome\":\"Partido Liberal\",\"uri\":\"https://dadosabertos.camara.leg.br/api/v2/partidos/37906\"},{\"id\":36887,\"sigla\":\"PMB\",\"nome\":\"Partido da Mulher Brasileira\",\"uri\":\"https://dadosabertos.camara.leg.br/api/v2/partidos/36887\"}],\"links\":[{\"rel\":\"self\",\"href\":\"https://dadosabertos.camara.leg.br/api/v2/partidos?ordem=ASC&ordenarPor=sigla\"},{\"rel\":\"next\",\"href\":\"https://dadosabertos.camara.leg.br/api/v2/partidos?ordem=ASC&ordenarPor=sigla&pagina=2&itens=15\"},{\"rel\":\"first\",\"href\":\"https://dadosabertos.camara.leg.br/api/v2/partidos?ordem=ASC&ordenarPor=sigla&pagina=1&itens=15\"},{\"rel\":\"last\",\"href\":\"https://dadosabertos.camara.leg.br/api/v2/partidos?ordem=ASC&ordenarPor=sigla&pagina=3&itens=15\"}]}'"
            ]
          },
          "metadata": {
            "tags": []
          },
          "execution_count": 3
        }
      ]
    },
    {
      "cell_type": "code",
      "metadata": {
        "colab": {
          "base_uri": "https://localhost:8080/",
          "height": 212
        },
        "id": "nQpkUO4-NHuv",
        "outputId": "7b1a6026-d019-472b-c37f-ae92e64883f8"
      },
      "source": [
        "df = pd.DataFrame(resposta.json()['dados'])\r\n",
        "df.head()"
      ],
      "execution_count": 4,
      "outputs": [
        {
          "output_type": "execute_result",
          "data": {
            "text/html": [
              "<div>\n",
              "<style scoped>\n",
              "    .dataframe tbody tr th:only-of-type {\n",
              "        vertical-align: middle;\n",
              "    }\n",
              "\n",
              "    .dataframe tbody tr th {\n",
              "        vertical-align: top;\n",
              "    }\n",
              "\n",
              "    .dataframe thead th {\n",
              "        text-align: right;\n",
              "    }\n",
              "</style>\n",
              "<table border=\"1\" class=\"dataframe\">\n",
              "  <thead>\n",
              "    <tr style=\"text-align: right;\">\n",
              "      <th></th>\n",
              "      <th>id</th>\n",
              "      <th>sigla</th>\n",
              "      <th>nome</th>\n",
              "      <th>uri</th>\n",
              "    </tr>\n",
              "  </thead>\n",
              "  <tbody>\n",
              "    <tr>\n",
              "      <th>0</th>\n",
              "      <td>36898</td>\n",
              "      <td>AVANTE</td>\n",
              "      <td>Avante</td>\n",
              "      <td>https://dadosabertos.camara.leg.br/api/v2/part...</td>\n",
              "    </tr>\n",
              "    <tr>\n",
              "      <th>1</th>\n",
              "      <td>37905</td>\n",
              "      <td>CIDADANIA</td>\n",
              "      <td>Cidadania</td>\n",
              "      <td>https://dadosabertos.camara.leg.br/api/v2/part...</td>\n",
              "    </tr>\n",
              "    <tr>\n",
              "      <th>2</th>\n",
              "      <td>37902</td>\n",
              "      <td>DC</td>\n",
              "      <td>Democracia Cristã</td>\n",
              "      <td>https://dadosabertos.camara.leg.br/api/v2/part...</td>\n",
              "    </tr>\n",
              "    <tr>\n",
              "      <th>3</th>\n",
              "      <td>36769</td>\n",
              "      <td>DEM</td>\n",
              "      <td>Democratas</td>\n",
              "      <td>https://dadosabertos.camara.leg.br/api/v2/part...</td>\n",
              "    </tr>\n",
              "    <tr>\n",
              "      <th>4</th>\n",
              "      <td>36899</td>\n",
              "      <td>MDB</td>\n",
              "      <td>Movimento Democrático Brasileiro</td>\n",
              "      <td>https://dadosabertos.camara.leg.br/api/v2/part...</td>\n",
              "    </tr>\n",
              "  </tbody>\n",
              "</table>\n",
              "</div>"
            ],
            "text/plain": [
              "      id  ...                                                uri\n",
              "0  36898  ...  https://dadosabertos.camara.leg.br/api/v2/part...\n",
              "1  37905  ...  https://dadosabertos.camara.leg.br/api/v2/part...\n",
              "2  37902  ...  https://dadosabertos.camara.leg.br/api/v2/part...\n",
              "3  36769  ...  https://dadosabertos.camara.leg.br/api/v2/part...\n",
              "4  36899  ...  https://dadosabertos.camara.leg.br/api/v2/part...\n",
              "\n",
              "[5 rows x 4 columns]"
            ]
          },
          "metadata": {
            "tags": []
          },
          "execution_count": 4
        }
      ]
    },
    {
      "cell_type": "code",
      "metadata": {
        "colab": {
          "base_uri": "https://localhost:8080/"
        },
        "id": "KMFX_wKfN9AT",
        "outputId": "a9def1d5-4e08-4e76-a90d-8cc040f2b843"
      },
      "source": [
        "df['sigla'].count()"
      ],
      "execution_count": 5,
      "outputs": [
        {
          "output_type": "execute_result",
          "data": {
            "text/plain": [
              "15"
            ]
          },
          "metadata": {
            "tags": []
          },
          "execution_count": 5
        }
      ]
    },
    {
      "cell_type": "code",
      "metadata": {
        "colab": {
          "base_uri": "https://localhost:8080/"
        },
        "id": "mPGfzmoYOTdg",
        "outputId": "2b73936e-d715-41e2-e1fb-d33f0d5c8f01"
      },
      "source": [
        "df['nome']"
      ],
      "execution_count": 6,
      "outputs": [
        {
          "output_type": "execute_result",
          "data": {
            "text/plain": [
              "0                                    Avante\n",
              "1                                 Cidadania\n",
              "2                         Democracia Cristã\n",
              "3                                Democratas\n",
              "4          Movimento Democrático Brasileiro\n",
              "5                              Partido Novo\n",
              "6                                  Patriota\n",
              "7                                  Patriota\n",
              "8     Partido Constitucionalista Brasileiro\n",
              "9               Partido Comunista do Brasil\n",
              "10                Partido da Causa Operária\n",
              "11          Partido Democrático Trabalhista\n",
              "12       Partido Humanista da Solidariedade\n",
              "13                          Partido Liberal\n",
              "14             Partido da Mulher Brasileira\n",
              "Name: nome, dtype: object"
            ]
          },
          "metadata": {
            "tags": []
          },
          "execution_count": 6
        }
      ]
    },
    {
      "cell_type": "code",
      "metadata": {
        "id": "d6oUNi0hOpBA",
        "colab": {
          "base_uri": "https://localhost:8080/",
          "height": 35
        },
        "outputId": "1fd05aba-90b8-4ad3-f5b8-63aee23dea74"
      },
      "source": [
        "df.iloc[0,3]"
      ],
      "execution_count": 9,
      "outputs": [
        {
          "output_type": "execute_result",
          "data": {
            "application/vnd.google.colaboratory.intrinsic+json": {
              "type": "string"
            },
            "text/plain": [
              "'https://dadosabertos.camara.leg.br/api/v2/partidos/36898'"
            ]
          },
          "metadata": {
            "tags": []
          },
          "execution_count": 9
        }
      ]
    },
    {
      "cell_type": "code",
      "metadata": {
        "colab": {
          "base_uri": "https://localhost:8080/",
          "height": 35
        },
        "id": "VLcACCYghQ1l",
        "outputId": "df873980-9559-443b-b3f6-ce37ea38fe86"
      },
      "source": [
        "df.loc[0,'uri']"
      ],
      "execution_count": 11,
      "outputs": [
        {
          "output_type": "execute_result",
          "data": {
            "application/vnd.google.colaboratory.intrinsic+json": {
              "type": "string"
            },
            "text/plain": [
              "'https://dadosabertos.camara.leg.br/api/v2/partidos/36898'"
            ]
          },
          "metadata": {
            "tags": []
          },
          "execution_count": 11
        }
      ]
    },
    {
      "cell_type": "code",
      "metadata": {
        "id": "Q_30NsLXhr_5"
      },
      "source": [
        ""
      ],
      "execution_count": null,
      "outputs": []
    }
  ]
}