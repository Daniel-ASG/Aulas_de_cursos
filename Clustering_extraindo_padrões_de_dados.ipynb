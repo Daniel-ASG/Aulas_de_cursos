{
  "nbformat": 4,
  "nbformat_minor": 0,
  "metadata": {
    "colab": {
      "name": "Clustering: extraindo padrões de dados.ipynb",
      "provenance": [],
      "authorship_tag": "ABX9TyPMpc58+vp1pY2m76kfIC6Q",
      "include_colab_link": true
    },
    "kernelspec": {
      "name": "python3",
      "display_name": "Python 3"
    },
    "language_info": {
      "name": "python"
    }
  },
  "cells": [
    {
      "cell_type": "markdown",
      "metadata": {
        "id": "view-in-github",
        "colab_type": "text"
      },
      "source": [
        "<a href=\"https://colab.research.google.com/github/Daniel-ASG/Aulas_de_cursos/blob/main/Clustering_extraindo_padr%C3%B5es_de_dados.ipynb\" target=\"_parent\"><img src=\"https://colab.research.google.com/assets/colab-badge.svg\" alt=\"Open In Colab\"/></a>"
      ]
    },
    {
      "cell_type": "code",
      "metadata": {
        "id": "YDlxQ-YSSj5H"
      },
      "source": [
        "import pandas as pd\n",
        "import matplotlib.pyplot as plt\n",
        "import numpy as np\n",
        "import seaborn as sns"
      ],
      "execution_count": 70,
      "outputs": []
    },
    {
      "cell_type": "code",
      "metadata": {
        "colab": {
          "base_uri": "https://localhost:8080/",
          "height": 215
        },
        "id": "dObEHMOhSpF_",
        "outputId": "6c8415fc-99ca-4ea4-cb21-d2cff07137b5"
      },
      "source": [
        "dataframe = pd.read_csv('https://raw.githubusercontent.com/alura-cursos/alura-clustering-validation/base-de-dados/CC%20GENERAL.csv')\n",
        "dataframe.drop(columns=['CUST_ID', 'TENURE'], inplace=True)\n",
        "dataframe.fillna(dataframe.median(), inplace=True)\n",
        "dataframe.head()"
      ],
      "execution_count": 50,
      "outputs": [
        {
          "output_type": "execute_result",
          "data": {
            "text/html": [
              "<div>\n",
              "<style scoped>\n",
              "    .dataframe tbody tr th:only-of-type {\n",
              "        vertical-align: middle;\n",
              "    }\n",
              "\n",
              "    .dataframe tbody tr th {\n",
              "        vertical-align: top;\n",
              "    }\n",
              "\n",
              "    .dataframe thead th {\n",
              "        text-align: right;\n",
              "    }\n",
              "</style>\n",
              "<table border=\"1\" class=\"dataframe\">\n",
              "  <thead>\n",
              "    <tr style=\"text-align: right;\">\n",
              "      <th></th>\n",
              "      <th>BALANCE</th>\n",
              "      <th>BALANCE_FREQUENCY</th>\n",
              "      <th>PURCHASES</th>\n",
              "      <th>ONEOFF_PURCHASES</th>\n",
              "      <th>INSTALLMENTS_PURCHASES</th>\n",
              "      <th>CASH_ADVANCE</th>\n",
              "      <th>PURCHASES_FREQUENCY</th>\n",
              "      <th>ONEOFF_PURCHASES_FREQUENCY</th>\n",
              "      <th>PURCHASES_INSTALLMENTS_FREQUENCY</th>\n",
              "      <th>CASH_ADVANCE_FREQUENCY</th>\n",
              "      <th>CASH_ADVANCE_TRX</th>\n",
              "      <th>PURCHASES_TRX</th>\n",
              "      <th>CREDIT_LIMIT</th>\n",
              "      <th>PAYMENTS</th>\n",
              "      <th>MINIMUM_PAYMENTS</th>\n",
              "      <th>PRC_FULL_PAYMENT</th>\n",
              "    </tr>\n",
              "  </thead>\n",
              "  <tbody>\n",
              "    <tr>\n",
              "      <th>0</th>\n",
              "      <td>40.900749</td>\n",
              "      <td>0.818182</td>\n",
              "      <td>95.40</td>\n",
              "      <td>0.00</td>\n",
              "      <td>95.4</td>\n",
              "      <td>0.000000</td>\n",
              "      <td>0.166667</td>\n",
              "      <td>0.000000</td>\n",
              "      <td>0.083333</td>\n",
              "      <td>0.000000</td>\n",
              "      <td>0</td>\n",
              "      <td>2</td>\n",
              "      <td>1000.0</td>\n",
              "      <td>201.802084</td>\n",
              "      <td>139.509787</td>\n",
              "      <td>0.000000</td>\n",
              "    </tr>\n",
              "    <tr>\n",
              "      <th>1</th>\n",
              "      <td>3202.467416</td>\n",
              "      <td>0.909091</td>\n",
              "      <td>0.00</td>\n",
              "      <td>0.00</td>\n",
              "      <td>0.0</td>\n",
              "      <td>6442.945483</td>\n",
              "      <td>0.000000</td>\n",
              "      <td>0.000000</td>\n",
              "      <td>0.000000</td>\n",
              "      <td>0.250000</td>\n",
              "      <td>4</td>\n",
              "      <td>0</td>\n",
              "      <td>7000.0</td>\n",
              "      <td>4103.032597</td>\n",
              "      <td>1072.340217</td>\n",
              "      <td>0.222222</td>\n",
              "    </tr>\n",
              "    <tr>\n",
              "      <th>2</th>\n",
              "      <td>2495.148862</td>\n",
              "      <td>1.000000</td>\n",
              "      <td>773.17</td>\n",
              "      <td>773.17</td>\n",
              "      <td>0.0</td>\n",
              "      <td>0.000000</td>\n",
              "      <td>1.000000</td>\n",
              "      <td>1.000000</td>\n",
              "      <td>0.000000</td>\n",
              "      <td>0.000000</td>\n",
              "      <td>0</td>\n",
              "      <td>12</td>\n",
              "      <td>7500.0</td>\n",
              "      <td>622.066742</td>\n",
              "      <td>627.284787</td>\n",
              "      <td>0.000000</td>\n",
              "    </tr>\n",
              "    <tr>\n",
              "      <th>3</th>\n",
              "      <td>1666.670542</td>\n",
              "      <td>0.636364</td>\n",
              "      <td>1499.00</td>\n",
              "      <td>1499.00</td>\n",
              "      <td>0.0</td>\n",
              "      <td>205.788017</td>\n",
              "      <td>0.083333</td>\n",
              "      <td>0.083333</td>\n",
              "      <td>0.000000</td>\n",
              "      <td>0.083333</td>\n",
              "      <td>1</td>\n",
              "      <td>1</td>\n",
              "      <td>7500.0</td>\n",
              "      <td>0.000000</td>\n",
              "      <td>312.343947</td>\n",
              "      <td>0.000000</td>\n",
              "    </tr>\n",
              "    <tr>\n",
              "      <th>4</th>\n",
              "      <td>817.714335</td>\n",
              "      <td>1.000000</td>\n",
              "      <td>16.00</td>\n",
              "      <td>16.00</td>\n",
              "      <td>0.0</td>\n",
              "      <td>0.000000</td>\n",
              "      <td>0.083333</td>\n",
              "      <td>0.083333</td>\n",
              "      <td>0.000000</td>\n",
              "      <td>0.000000</td>\n",
              "      <td>0</td>\n",
              "      <td>1</td>\n",
              "      <td>1200.0</td>\n",
              "      <td>678.334763</td>\n",
              "      <td>244.791237</td>\n",
              "      <td>0.000000</td>\n",
              "    </tr>\n",
              "  </tbody>\n",
              "</table>\n",
              "</div>"
            ],
            "text/plain": [
              "       BALANCE  BALANCE_FREQUENCY  ...  MINIMUM_PAYMENTS  PRC_FULL_PAYMENT\n",
              "0    40.900749           0.818182  ...        139.509787          0.000000\n",
              "1  3202.467416           0.909091  ...       1072.340217          0.222222\n",
              "2  2495.148862           1.000000  ...        627.284787          0.000000\n",
              "3  1666.670542           0.636364  ...        312.343947          0.000000\n",
              "4   817.714335           1.000000  ...        244.791237          0.000000\n",
              "\n",
              "[5 rows x 16 columns]"
            ]
          },
          "metadata": {
            "tags": []
          },
          "execution_count": 50
        }
      ]
    },
    {
      "cell_type": "code",
      "metadata": {
        "colab": {
          "base_uri": "https://localhost:8080/"
        },
        "id": "_L4plq14S1oV",
        "outputId": "f81ea74d-1ce8-458d-a517-6441b03c3a19"
      },
      "source": [
        "from sklearn.preprocessing import Normalizer\n",
        "values = Normalizer().fit_transform(dataframe.values)\n",
        "values"
      ],
      "execution_count": 51,
      "outputs": [
        {
          "output_type": "execute_result",
          "data": {
            "text/plain": [
              "array([[3.93555441e-02, 7.87271593e-04, 9.17958473e-02, ...,\n",
              "        1.94178127e-01, 1.34239194e-01, 0.00000000e+00],\n",
              "       [2.93875903e-01, 8.34231560e-05, 0.00000000e+00, ...,\n",
              "        3.76516684e-01, 9.84037959e-02, 2.03923046e-05],\n",
              "       [3.10798149e-01, 1.24560965e-04, 9.63068011e-02, ...,\n",
              "        7.74852335e-02, 7.81351982e-02, 0.00000000e+00],\n",
              "       ...,\n",
              "       [2.27733092e-02, 8.11060955e-04, 1.40540698e-01, ...,\n",
              "        7.90986945e-02, 8.02156174e-02, 2.43318384e-04],\n",
              "       [2.65257948e-02, 1.64255731e-03, 0.00000000e+00, ...,\n",
              "        1.03579625e-01, 1.09898221e-01, 4.92767391e-04],\n",
              "       [1.86406219e-01, 3.33426837e-04, 5.46778061e-01, ...,\n",
              "        3.15915455e-02, 4.41568390e-02, 0.00000000e+00]])"
            ]
          },
          "metadata": {
            "tags": []
          },
          "execution_count": 51
        }
      ]
    },
    {
      "cell_type": "code",
      "metadata": {
        "id": "1RiXxwGhVktC",
        "colab": {
          "base_uri": "https://localhost:8080/"
        },
        "outputId": "203fc733-ef91-4de5-bdb1-44c32f16da07"
      },
      "source": [
        "from sklearn.cluster import KMeans\n",
        "kmeans = KMeans(n_clusters=5, n_init=10, max_iter=300)\n",
        "y_pred = kmeans.fit_predict(values)\n",
        "y_pred"
      ],
      "execution_count": 52,
      "outputs": [
        {
          "output_type": "execute_result",
          "data": {
            "text/plain": [
              "array([1, 0, 1, ..., 1, 1, 4], dtype=int32)"
            ]
          },
          "metadata": {
            "tags": []
          },
          "execution_count": 52
        }
      ]
    },
    {
      "cell_type": "code",
      "metadata": {
        "colab": {
          "base_uri": "https://localhost:8080/"
        },
        "id": "l8spaur1b9kl",
        "outputId": "75e432b2-1be8-4d37-8c61-b09546f0ad41"
      },
      "source": [
        "from sklearn import metrics\n",
        "labels = kmeans.labels_\n",
        "silhouette = metrics.silhouette_score(values, labels, metric='euclidean')\n",
        "silhouette"
      ],
      "execution_count": 53,
      "outputs": [
        {
          "output_type": "execute_result",
          "data": {
            "text/plain": [
              "0.3485292820452357"
            ]
          },
          "metadata": {
            "tags": []
          },
          "execution_count": 53
        }
      ]
    },
    {
      "cell_type": "code",
      "metadata": {
        "colab": {
          "base_uri": "https://localhost:8080/"
        },
        "id": "F1fg-JT8egJq",
        "outputId": "c3eadf11-ac24-4211-9671-e0635ded97e7"
      },
      "source": [
        "dbs = metrics.davies_bouldin_score(values, labels)\n",
        "dbs"
      ],
      "execution_count": 54,
      "outputs": [
        {
          "output_type": "execute_result",
          "data": {
            "text/plain": [
              "1.1527134855876944"
            ]
          },
          "metadata": {
            "tags": []
          },
          "execution_count": 54
        }
      ]
    },
    {
      "cell_type": "code",
      "metadata": {
        "colab": {
          "base_uri": "https://localhost:8080/"
        },
        "id": "l_ksa-iog3-Q",
        "outputId": "9e6a8475-b7de-4556-e809-9cee0feba667"
      },
      "source": [
        "calinski = metrics.calinski_harabasz_score(values, labels)\n",
        "calinski"
      ],
      "execution_count": 55,
      "outputs": [
        {
          "output_type": "execute_result",
          "data": {
            "text/plain": [
              "3422.838208337746"
            ]
          },
          "metadata": {
            "tags": []
          },
          "execution_count": 55
        }
      ]
    },
    {
      "cell_type": "code",
      "metadata": {
        "id": "1jTaAUMBjbuv"
      },
      "source": [
        "def clustering_algorithm(n_clusters, dataset):\n",
        "    kmeans = KMeans(n_clusters=n_clusters, n_init=10, max_iter=300)\n",
        "    labels = kmeans.fit_predict(dataset)\n",
        "    s = metrics.silhouette_score(dataset, labels, metric='euclidean')\n",
        "    dbs = metrics.davies_bouldin_score(dataset, labels)\n",
        "    calinski = metrics.calinski_harabasz_score(dataset, labels)\n",
        "    return s, dbs, calinski"
      ],
      "execution_count": 56,
      "outputs": []
    },
    {
      "cell_type": "code",
      "metadata": {
        "colab": {
          "base_uri": "https://localhost:8080/"
        },
        "id": "p68Bwst2n37b",
        "outputId": "078d3195-a57b-4c22-bddb-d088890c7ddf"
      },
      "source": [
        "s1, dbs1, calinski1 = clustering_algorithm(3, values)\n",
        "print(s1, dbs1, calinski1)"
      ],
      "execution_count": 57,
      "outputs": [
        {
          "output_type": "stream",
          "text": [
            "0.3272203126696238 1.309607364008843 3526.4405199082735\n"
          ],
          "name": "stdout"
        }
      ]
    },
    {
      "cell_type": "code",
      "metadata": {
        "colab": {
          "base_uri": "https://localhost:8080/"
        },
        "id": "-Yy5zOKQoHld",
        "outputId": "6d57afaf-f4b0-4134-e8f4-d18792c994b7"
      },
      "source": [
        "s2, dbs2, calinski2 = clustering_algorithm(5, values)\n",
        "print(s2, dbs2, calinski2)"
      ],
      "execution_count": 58,
      "outputs": [
        {
          "output_type": "stream",
          "text": [
            "0.36454479258047573 1.076046490609319 3431.790347716922\n"
          ],
          "name": "stdout"
        }
      ]
    },
    {
      "cell_type": "code",
      "metadata": {
        "colab": {
          "base_uri": "https://localhost:8080/"
        },
        "id": "GR9MmHXeo7LF",
        "outputId": "db88f3fe-b184-4961-d620-73be881a2833"
      },
      "source": [
        "s3, dbs3, calinski3 = clustering_algorithm(50, values)\n",
        "print(s3, dbs3, calinski3)"
      ],
      "execution_count": 59,
      "outputs": [
        {
          "output_type": "stream",
          "text": [
            "0.24794281752725805 1.2112960490952471 1615.5152475659643\n"
          ],
          "name": "stdout"
        }
      ]
    },
    {
      "cell_type": "code",
      "metadata": {
        "id": "ke4PcJtoQIsu"
      },
      "source": [
        "valores = np.array([clustering_algorithm(i, values) for i in range(2, 15)])"
      ],
      "execution_count": 60,
      "outputs": []
    },
    {
      "cell_type": "code",
      "metadata": {
        "colab": {
          "base_uri": "https://localhost:8080/",
          "height": 878
        },
        "id": "lz6JD36KWoRX",
        "outputId": "fea76e7a-9626-497e-e4c1-34da45a2a88d"
      },
      "source": [
        "plt.figure(figsize=(15,15))\n",
        "plt.subplot(3, 1, 1)\n",
        "plt.plot(valores[:,0], label='silhouette_score')\n",
        "plt.legend()\n",
        "plt.subplot(3, 1, 2)\n",
        "plt.plot(valores[:,1], label='davies_bouldin_score')\n",
        "plt.legend()\n",
        "plt.subplot(3, 1, 3)\n",
        "plt.plot(valores[:,2], label='calinski_harabasz_score')\n",
        "plt.xlabel('n_clusters')\n",
        "\n",
        "plt.legend();"
      ],
      "execution_count": 61,
      "outputs": [
        {
          "output_type": "display_data",
          "data": {
            "image/png": "[encoded data removed]",
            "text/plain": [
              "<Figure size 1080x1080 with 3 Axes>"
            ]
          },
          "metadata": {
            "tags": [],
            "needs_background": "light"
          }
        }
      ]
    },
    {
      "cell_type": "code",
      "metadata": {
        "colab": {
          "base_uri": "https://localhost:8080/"
        },
        "id": "Hmc-6kW6ZQ77",
        "outputId": "fc1be201-9fbc-4790-f961-492f4b959bf8"
      },
      "source": [
        "random_data = np.random.rand(8950,16)\n",
        "s, dbs, calinski = clustering_algorithm(5, random_data)\n",
        "print(s, dbs, calinski)\n",
        "print(s2, dbs2, calinski2)"
      ],
      "execution_count": 129,
      "outputs": [
        {
          "output_type": "stream",
          "text": [
            "0.039454453611787565 3.5468608561319357 302.8378101153035\n",
            "0.35416642754504835 1.1382306445993164 1194.9519865048883\n"
          ],
          "name": "stdout"
        }
      ]
    },
    {
      "cell_type": "code",
      "metadata": {
        "colab": {
          "base_uri": "https://localhost:8080/"
        },
        "id": "xuqIpi0PaeDa",
        "outputId": "c8957d3b-80a9-481f-930f-0ea5e8cac4bc"
      },
      "source": [
        "set1, set2, set3 = np.array_split(values, 3)\n",
        "s1, dbs1, calinski1 = clustering_algorithm(5, set1)\n",
        "print(s1, dbs1, calinski1)\n",
        "s2, dbs2, calinski2 = clustering_algorithm(5, set2)\n",
        "print(s2, dbs2, calinski2)\n",
        "s3, dbs3, calinski3 = clustering_algorithm(5, set3)\n",
        "print(s3, dbs3, calinski3)"
      ],
      "execution_count": 130,
      "outputs": [
        {
          "output_type": "stream",
          "text": [
            "0.36860891867648515 1.0563346979449357 1204.111582769171\n",
            "0.3538037064965953 1.1394936582652306 1194.948634553892\n",
            "0.3670355256183802 1.0993767580167497 1167.531382836454\n"
          ],
          "name": "stdout"
        }
      ]
    },
    {
      "cell_type": "code",
      "metadata": {
        "colab": {
          "base_uri": "https://localhost:8080/",
          "height": 606
        },
        "id": "dhPTfq0o1nPs",
        "outputId": "1848c330-f6a0-4bd3-e943-d3dab17fc96b"
      },
      "source": [
        "plt.figure(figsize=(15,10))\n",
        "plt.scatter(dataframe.PURCHASES, dataframe.PAYMENTS, c=labels, s=5, cmap='rainbow')\n",
        "plt.xlabel('Valor total pago')\n",
        "plt.ylabel('Valor total gasto');"
      ],
      "execution_count": 131,
      "outputs": [
        {
          "output_type": "display_data",
          "data": {
            "image/png": "[encoded data removed]",
            "text/plain": [
              "<Figure size 1080x720 with 1 Axes>"
            ]
          },
          "metadata": {
            "tags": [],
            "needs_background": "light"
          }
        }
      ]
    },
    {
      "cell_type": "code",
      "metadata": {
        "id": "UNBUxRXI3FSC"
      },
      "source": [
        "dataframe['cluster'] = labels"
      ],
      "execution_count": 132,
      "outputs": []
    },
    {
      "cell_type": "code",
      "metadata": {
        "colab": {
          "base_uri": "https://localhost:8080/",
          "height": 402
        },
        "id": "nkX0E6Mc3FvB",
        "outputId": "bc787d59-f7ad-4aec-cb7d-da45a41510c9"
      },
      "source": [
        "dataframe.groupby('cluster').describe().T"
      ],
      "execution_count": 133,
      "outputs": [
        {
          "output_type": "execute_result",
          "data": {
            "text/html": [
              "<div>\n",
              "<style scoped>\n",
              "    .dataframe tbody tr th:only-of-type {\n",
              "        vertical-align: middle;\n",
              "    }\n",
              "\n",
              "    .dataframe tbody tr th {\n",
              "        vertical-align: top;\n",
              "    }\n",
              "\n",
              "    .dataframe thead th {\n",
              "        text-align: right;\n",
              "    }\n",
              "</style>\n",
              "<table border=\"1\" class=\"dataframe\">\n",
              "  <thead>\n",
              "    <tr style=\"text-align: right;\">\n",
              "      <th></th>\n",
              "      <th>cluster</th>\n",
              "      <th>0</th>\n",
              "      <th>1</th>\n",
              "      <th>2</th>\n",
              "      <th>3</th>\n",
              "      <th>4</th>\n",
              "    </tr>\n",
              "  </thead>\n",
              "  <tbody>\n",
              "    <tr>\n",
              "      <th rowspan=\"5\" valign=\"top\">BALANCE</th>\n",
              "      <th>count</th>\n",
              "      <td>1315.000000</td>\n",
              "      <td>3311.000000</td>\n",
              "      <td>1825.000000</td>\n",
              "      <td>1001.000000</td>\n",
              "      <td>1498.000000</td>\n",
              "    </tr>\n",
              "    <tr>\n",
              "      <th>mean</th>\n",
              "      <td>2719.616192</td>\n",
              "      <td>488.867396</td>\n",
              "      <td>2949.582558</td>\n",
              "      <td>1748.854674</td>\n",
              "      <td>1117.171407</td>\n",
              "    </tr>\n",
              "    <tr>\n",
              "      <th>std</th>\n",
              "      <td>2230.337145</td>\n",
              "      <td>936.898299</td>\n",
              "      <td>2565.494710</td>\n",
              "      <td>1987.975020</td>\n",
              "      <td>1625.342446</td>\n",
              "    </tr>\n",
              "    <tr>\n",
              "      <th>min</th>\n",
              "      <td>1.691842</td>\n",
              "      <td>0.000000</td>\n",
              "      <td>114.523682</td>\n",
              "      <td>0.000000</td>\n",
              "      <td>0.000000</td>\n",
              "    </tr>\n",
              "    <tr>\n",
              "      <th>25%</th>\n",
              "      <td>1035.647960</td>\n",
              "      <td>24.007416</td>\n",
              "      <td>1216.893766</td>\n",
              "      <td>486.170360</td>\n",
              "      <td>211.969615</td>\n",
              "    </tr>\n",
              "    <tr>\n",
              "      <th>...</th>\n",
              "      <th>...</th>\n",
              "      <td>...</td>\n",
              "      <td>...</td>\n",
              "      <td>...</td>\n",
              "      <td>...</td>\n",
              "      <td>...</td>\n",
              "    </tr>\n",
              "    <tr>\n",
              "      <th rowspan=\"5\" valign=\"top\">PRC_FULL_PAYMENT</th>\n",
              "      <th>min</th>\n",
              "      <td>0.000000</td>\n",
              "      <td>0.000000</td>\n",
              "      <td>0.000000</td>\n",
              "      <td>0.000000</td>\n",
              "      <td>0.000000</td>\n",
              "    </tr>\n",
              "    <tr>\n",
              "      <th>25%</th>\n",
              "      <td>0.000000</td>\n",
              "      <td>0.000000</td>\n",
              "      <td>0.000000</td>\n",
              "      <td>0.000000</td>\n",
              "      <td>0.000000</td>\n",
              "    </tr>\n",
              "    <tr>\n",
              "      <th>50%</th>\n",
              "      <td>0.000000</td>\n",
              "      <td>0.000000</td>\n",
              "      <td>0.000000</td>\n",
              "      <td>0.083333</td>\n",
              "      <td>0.083333</td>\n",
              "    </tr>\n",
              "    <tr>\n",
              "      <th>75%</th>\n",
              "      <td>0.000000</td>\n",
              "      <td>0.436507</td>\n",
              "      <td>0.000000</td>\n",
              "      <td>0.166667</td>\n",
              "      <td>0.567461</td>\n",
              "    </tr>\n",
              "    <tr>\n",
              "      <th>max</th>\n",
              "      <td>0.600000</td>\n",
              "      <td>1.000000</td>\n",
              "      <td>0.416667</td>\n",
              "      <td>1.000000</td>\n",
              "      <td>1.000000</td>\n",
              "    </tr>\n",
              "  </tbody>\n",
              "</table>\n",
              "<p>128 rows × 5 columns</p>\n",
              "</div>"
            ],
            "text/plain": [
              "cluster                           0            1  ...            3            4\n",
              "BALANCE          count  1315.000000  3311.000000  ...  1001.000000  1498.000000\n",
              "                 mean   2719.616192   488.867396  ...  1748.854674  1117.171407\n",
              "                 std    2230.337145   936.898299  ...  1987.975020  1625.342446\n",
              "                 min       1.691842     0.000000  ...     0.000000     0.000000\n",
              "                 25%    1035.647960    24.007416  ...   486.170360   211.969615\n",
              "...                             ...          ...  ...          ...          ...\n",
              "PRC_FULL_PAYMENT min       0.000000     0.000000  ...     0.000000     0.000000\n",
              "                 25%       0.000000     0.000000  ...     0.000000     0.000000\n",
              "                 50%       0.000000     0.000000  ...     0.083333     0.083333\n",
              "                 75%       0.000000     0.436507  ...     0.166667     0.567461\n",
              "                 max       0.600000     1.000000  ...     1.000000     1.000000\n",
              "\n",
              "[128 rows x 5 columns]"
            ]
          },
          "metadata": {
            "tags": []
          },
          "execution_count": 133
        }
      ]
    },
    {
      "cell_type": "code",
      "metadata": {
        "colab": {
          "base_uri": "https://localhost:8080/"
        },
        "id": "HlhIO-b83Fxs",
        "outputId": "712c5ebb-b6ed-41eb-9f1b-f6bbe4f5a614"
      },
      "source": [
        "centroids = kmeans.cluster_centers_\n",
        "centroids"
      ],
      "execution_count": 134,
      "outputs": [
        {
          "output_type": "execute_result",
          "data": {
            "text/plain": [
              "array([[3.92487569e-01, 2.21860804e-04, 4.09098804e-02, 2.41007933e-02,\n",
              "        1.68131725e-02, 4.69520034e-01, 4.57363938e-05, 1.59983052e-05,\n",
              "        3.02438944e-05, 7.73988118e-05, 1.73779582e-03, 7.90105978e-04,\n",
              "        7.16382232e-01, 1.49404205e-01, 1.32351222e-01, 2.04165312e-06],\n",
              "       [7.41256976e-02, 2.30562257e-04, 1.22384952e-01, 4.90559177e-02,\n",
              "        7.34297204e-02, 2.02256210e-02, 1.72049266e-04, 3.40191371e-05,\n",
              "        1.39349370e-04, 7.57499670e-06, 1.18862126e-04, 2.86787207e-03,\n",
              "        9.43224328e-01, 1.54777074e-01, 5.72195798e-02, 7.55204087e-05],\n",
              "       [5.34687210e-01, 3.07650208e-04, 9.40629597e-02, 4.50945616e-02,\n",
              "        4.90836013e-02, 8.40386909e-02, 1.03622694e-04, 3.29090827e-05,\n",
              "        7.70582927e-05, 3.86156491e-05, 6.69712678e-04, 2.24253925e-03,\n",
              "        6.47433252e-01, 1.99966849e-01, 3.11387835e-01, 2.85888844e-07],\n",
              "       [2.27283461e-01, 2.12919599e-04, 6.90552841e-02, 3.82103280e-02,\n",
              "        3.08505405e-02, 3.64415621e-01, 5.84848743e-05, 2.24756747e-05,\n",
              "        3.97948056e-05, 5.90776324e-05, 1.43098394e-03, 1.30916105e-03,\n",
              "        5.19057140e-01, 6.31517578e-01, 1.13827521e-01, 3.10899781e-05],\n",
              "       [1.55263566e-01, 2.45567859e-04, 4.44909827e-01, 2.57480038e-01,\n",
              "        1.87602909e-01, 2.66338231e-02, 2.04977764e-04, 8.81458334e-05,\n",
              "        1.52022197e-04, 9.51547795e-06, 1.73533555e-04, 6.18686273e-03,\n",
              "        5.94714350e-01, 4.02343515e-01, 9.24068050e-02, 7.27235416e-05]])"
            ]
          },
          "metadata": {
            "tags": []
          },
          "execution_count": 134
        }
      ]
    },
    {
      "cell_type": "code",
      "metadata": {
        "colab": {
          "base_uri": "https://localhost:8080/"
        },
        "id": "gtbMgdKS3F2S",
        "outputId": "60267640-5ae2-40ff-8a63-020d5dbeb8f0"
      },
      "source": [
        "max = len(centroids[0])\n",
        "print('Valores da variância:\\n')\n",
        "for i in range(max):\n",
        "    print(f'{dataframe.columns.values[i]:32} {centroids[:,i].var():.4f}', )"
      ],
      "execution_count": 135,
      "outputs": [
        {
          "output_type": "stream",
          "text": [
            "Valores da variância:\n",
            "\n",
            "BALANCE                          0.0276\n",
            "BALANCE_FREQUENCY                0.0000\n",
            "PURCHASES                        0.0218\n",
            "ONEOFF_PURCHASES                 0.0077\n",
            "INSTALLMENTS_PURCHASES           0.0037\n",
            "CASH_ADVANCE                     0.0350\n",
            "PURCHASES_FREQUENCY              0.0000\n",
            "ONEOFF_PURCHASES_FREQUENCY       0.0000\n",
            "PURCHASES_INSTALLMENTS_FREQUENCY 0.0000\n",
            "CASH_ADVANCE_FREQUENCY           0.0000\n",
            "CASH_ADVANCE_TRX                 0.0000\n",
            "PURCHASES_TRX                    0.0000\n",
            "CREDIT_LIMIT                     0.0210\n",
            "PAYMENTS                         0.0348\n",
            "MINIMUM_PAYMENTS                 0.0078\n",
            "PRC_FULL_PAYMENT                 0.0000\n"
          ],
          "name": "stdout"
        }
      ]
    },
    {
      "cell_type": "code",
      "metadata": {
        "colab": {
          "base_uri": "https://localhost:8080/"
        },
        "id": "OnS7X6qU3F4q",
        "outputId": "ff2d2f38-371f-442a-9ef2-3574ea44aedf"
      },
      "source": [
        "max = len(centroids[0])\n",
        "print('Valores da variância acima de 0.009:\\n')\n",
        "for i in range(max):\n",
        "    if centroids[:,i].var() > 0.009:\n",
        "        print(f'{dataframe.columns.values[i]:32} {centroids[:,i].var():.4f}', )"
      ],
      "execution_count": 136,
      "outputs": [
        {
          "output_type": "stream",
          "text": [
            "Valores da variância acima de 0.009:\n",
            "\n",
            "BALANCE                          0.0276\n",
            "PURCHASES                        0.0218\n",
            "CASH_ADVANCE                     0.0350\n",
            "CREDIT_LIMIT                     0.0210\n",
            "PAYMENTS                         0.0348\n"
          ],
          "name": "stdout"
        }
      ]
    },
    {
      "cell_type": "code",
      "metadata": {
        "colab": {
          "base_uri": "https://localhost:8080/",
          "height": 225
        },
        "id": "px97Yyoh3F7N",
        "outputId": "e071f74b-2908-4986-dd48-6b70e7daf8bc"
      },
      "source": [
        "description = dataframe.groupby('cluster')[['BALANCE', 'PURCHASES', 'CASH_ADVANCE','CREDIT_LIMIT', 'PAYMENTS']]\n",
        "n_clients = description.size()\n",
        "description = description.mean()\n",
        "description['n_clients'] = n_clients\n",
        "description"
      ],
      "execution_count": 137,
      "outputs": [
        {
          "output_type": "execute_result",
          "data": {
            "text/html": [
              "<div>\n",
              "<style scoped>\n",
              "    .dataframe tbody tr th:only-of-type {\n",
              "        vertical-align: middle;\n",
              "    }\n",
              "\n",
              "    .dataframe tbody tr th {\n",
              "        vertical-align: top;\n",
              "    }\n",
              "\n",
              "    .dataframe thead th {\n",
              "        text-align: right;\n",
              "    }\n",
              "</style>\n",
              "<table border=\"1\" class=\"dataframe\">\n",
              "  <thead>\n",
              "    <tr style=\"text-align: right;\">\n",
              "      <th></th>\n",
              "      <th>BALANCE</th>\n",
              "      <th>PURCHASES</th>\n",
              "      <th>CASH_ADVANCE</th>\n",
              "      <th>CREDIT_LIMIT</th>\n",
              "      <th>PAYMENTS</th>\n",
              "      <th>n_clients</th>\n",
              "    </tr>\n",
              "    <tr>\n",
              "      <th>cluster</th>\n",
              "      <th></th>\n",
              "      <th></th>\n",
              "      <th></th>\n",
              "      <th></th>\n",
              "      <th></th>\n",
              "      <th></th>\n",
              "    </tr>\n",
              "  </thead>\n",
              "  <tbody>\n",
              "    <tr>\n",
              "      <th>0</th>\n",
              "      <td>2719.616192</td>\n",
              "      <td>251.530144</td>\n",
              "      <td>3004.448265</td>\n",
              "      <td>4782.091255</td>\n",
              "      <td>1008.915227</td>\n",
              "      <td>1315</td>\n",
              "    </tr>\n",
              "    <tr>\n",
              "      <th>1</th>\n",
              "      <td>488.867396</td>\n",
              "      <td>639.142794</td>\n",
              "      <td>126.249939</td>\n",
              "      <td>5180.291987</td>\n",
              "      <td>827.304607</td>\n",
              "      <td>3311</td>\n",
              "    </tr>\n",
              "    <tr>\n",
              "      <th>2</th>\n",
              "      <td>2949.582558</td>\n",
              "      <td>559.479945</td>\n",
              "      <td>573.495675</td>\n",
              "      <td>3730.000000</td>\n",
              "      <td>1050.324877</td>\n",
              "      <td>1825</td>\n",
              "    </tr>\n",
              "    <tr>\n",
              "      <th>3</th>\n",
              "      <td>1748.854674</td>\n",
              "      <td>531.250120</td>\n",
              "      <td>3064.439069</td>\n",
              "      <td>3914.956256</td>\n",
              "      <td>4961.223005</td>\n",
              "      <td>1001</td>\n",
              "    </tr>\n",
              "    <tr>\n",
              "      <th>4</th>\n",
              "      <td>1117.171407</td>\n",
              "      <td>3323.689626</td>\n",
              "      <td>185.514237</td>\n",
              "      <td>4043.598232</td>\n",
              "      <td>3045.848646</td>\n",
              "      <td>1498</td>\n",
              "    </tr>\n",
              "  </tbody>\n",
              "</table>\n",
              "</div>"
            ],
            "text/plain": [
              "             BALANCE    PURCHASES  ...     PAYMENTS  n_clients\n",
              "cluster                            ...                        \n",
              "0        2719.616192   251.530144  ...  1008.915227       1315\n",
              "1         488.867396   639.142794  ...   827.304607       3311\n",
              "2        2949.582558   559.479945  ...  1050.324877       1825\n",
              "3        1748.854674   531.250120  ...  4961.223005       1001\n",
              "4        1117.171407  3323.689626  ...  3045.848646       1498\n",
              "\n",
              "[5 rows x 6 columns]"
            ]
          },
          "metadata": {
            "tags": []
          },
          "execution_count": 137
        }
      ]
    },
    {
      "cell_type": "code",
      "metadata": {
        "colab": {
          "base_uri": "https://localhost:8080/",
          "height": 225
        },
        "id": "p-Gzm6O53F-J",
        "outputId": "5ad2fdae-8ab5-4403-a11e-dafdd0e70ef4"
      },
      "source": [
        "description = dataframe.groupby('cluster')[['BALANCE', 'PURCHASES', 'CASH_ADVANCE','CREDIT_LIMIT', 'PAYMENTS', 'PRC_FULL_PAYMENT']]\n",
        "n_clients = description.size()\n",
        "description = description.mean()\n",
        "description['n_clients'] = n_clients\n",
        "description"
      ],
      "execution_count": 138,
      "outputs": [
        {
          "output_type": "execute_result",
          "data": {
            "text/html": [
              "<div>\n",
              "<style scoped>\n",
              "    .dataframe tbody tr th:only-of-type {\n",
              "        vertical-align: middle;\n",
              "    }\n",
              "\n",
              "    .dataframe tbody tr th {\n",
              "        vertical-align: top;\n",
              "    }\n",
              "\n",
              "    .dataframe thead th {\n",
              "        text-align: right;\n",
              "    }\n",
              "</style>\n",
              "<table border=\"1\" class=\"dataframe\">\n",
              "  <thead>\n",
              "    <tr style=\"text-align: right;\">\n",
              "      <th></th>\n",
              "      <th>BALANCE</th>\n",
              "      <th>PURCHASES</th>\n",
              "      <th>CASH_ADVANCE</th>\n",
              "      <th>CREDIT_LIMIT</th>\n",
              "      <th>PAYMENTS</th>\n",
              "      <th>PRC_FULL_PAYMENT</th>\n",
              "      <th>n_clients</th>\n",
              "    </tr>\n",
              "    <tr>\n",
              "      <th>cluster</th>\n",
              "      <th></th>\n",
              "      <th></th>\n",
              "      <th></th>\n",
              "      <th></th>\n",
              "      <th></th>\n",
              "      <th></th>\n",
              "      <th></th>\n",
              "    </tr>\n",
              "  </thead>\n",
              "  <tbody>\n",
              "    <tr>\n",
              "      <th>0</th>\n",
              "      <td>2719.616192</td>\n",
              "      <td>251.530144</td>\n",
              "      <td>3004.448265</td>\n",
              "      <td>4782.091255</td>\n",
              "      <td>1008.915227</td>\n",
              "      <td>0.007450</td>\n",
              "      <td>1315</td>\n",
              "    </tr>\n",
              "    <tr>\n",
              "      <th>1</th>\n",
              "      <td>488.867396</td>\n",
              "      <td>639.142794</td>\n",
              "      <td>126.249939</td>\n",
              "      <td>5180.291987</td>\n",
              "      <td>827.304607</td>\n",
              "      <td>0.244968</td>\n",
              "      <td>3311</td>\n",
              "    </tr>\n",
              "    <tr>\n",
              "      <th>2</th>\n",
              "      <td>2949.582558</td>\n",
              "      <td>559.479945</td>\n",
              "      <td>573.495675</td>\n",
              "      <td>3730.000000</td>\n",
              "      <td>1050.324877</td>\n",
              "      <td>0.001062</td>\n",
              "      <td>1825</td>\n",
              "    </tr>\n",
              "    <tr>\n",
              "      <th>3</th>\n",
              "      <td>1748.854674</td>\n",
              "      <td>531.250120</td>\n",
              "      <td>3064.439069</td>\n",
              "      <td>3914.956256</td>\n",
              "      <td>4961.223005</td>\n",
              "      <td>0.129974</td>\n",
              "      <td>1001</td>\n",
              "    </tr>\n",
              "    <tr>\n",
              "      <th>4</th>\n",
              "      <td>1117.171407</td>\n",
              "      <td>3323.689626</td>\n",
              "      <td>185.514237</td>\n",
              "      <td>4043.598232</td>\n",
              "      <td>3045.848646</td>\n",
              "      <td>0.282255</td>\n",
              "      <td>1498</td>\n",
              "    </tr>\n",
              "  </tbody>\n",
              "</table>\n",
              "</div>"
            ],
            "text/plain": [
              "             BALANCE    PURCHASES  ...  PRC_FULL_PAYMENT  n_clients\n",
              "cluster                            ...                             \n",
              "0        2719.616192   251.530144  ...          0.007450       1315\n",
              "1         488.867396   639.142794  ...          0.244968       3311\n",
              "2        2949.582558   559.479945  ...          0.001062       1825\n",
              "3        1748.854674   531.250120  ...          0.129974       1001\n",
              "4        1117.171407  3323.689626  ...          0.282255       1498\n",
              "\n",
              "[5 rows x 7 columns]"
            ]
          },
          "metadata": {
            "tags": []
          },
          "execution_count": 138
        }
      ]
    },
    {
      "cell_type": "markdown",
      "metadata": {
        "id": "cAueMtViFN95"
      },
      "source": [
        "| cluster | BALANCE\t                  | PURCHASES\t                                | CASH_ADVANCE                 | CREDIT_LIMIT\t           | PAYMENTS\t                | Avaliação                                                                    |\n",
        "|:-------:|:-------------------------:|:-----------------------------------------:|:----------------------------:|:-----------------------:|:------------------------:|:----------------------------------------------------------------------------:|\n",
        "| 0       |                           | Menor valor em compras                    | Valor considerável em saques |                         |                          | compram pouco / bom volume de saque / não são bons pagadores / maior cluster |\n",
        "| 1       | menores valores em gastos |                                           | Menor valor em saques        | maior limite de crédito | menores pagamentos       | gastam pouco com maior limite de crédito / bons pagadores                    |\n",
        "| 2       | maiores valores em gastos |                                           |                              | menor limite de crédito |                          | muito gasto com menor limite de crédito / piores pagadores                   |\n",
        "| 3       |                           |                                           | Maior valor em saques        |                         | maiores pagamentos       | foco no saque / maiores pagamentos / menor cluster / melhores pagadores                          |\n",
        "| 4       |                           | Maior valor em compras / grande diferença |                              |                         | pagamentos consideráveis | foco em compras / bons pagadores                                         |\n"
      ]
    },
    {
      "cell_type": "code",
      "metadata": {
        "colab": {
          "base_uri": "https://localhost:8080/"
        },
        "id": "fjRIxLCLbZYR",
        "outputId": "141cbe2c-6efb-4a06-c1f7-c8ff504ff4e5"
      },
      "source": [
        "dataframe.columns"
      ],
      "execution_count": 64,
      "outputs": [
        {
          "output_type": "execute_result",
          "data": {
            "text/plain": [
              "Index(['BALANCE', 'BALANCE_FREQUENCY', 'PURCHASES', 'ONEOFF_PURCHASES',\n",
              "       'INSTALLMENTS_PURCHASES', 'CASH_ADVANCE', 'PURCHASES_FREQUENCY',\n",
              "       'ONEOFF_PURCHASES_FREQUENCY', 'PURCHASES_INSTALLMENTS_FREQUENCY',\n",
              "       'CASH_ADVANCE_FREQUENCY', 'CASH_ADVANCE_TRX', 'PURCHASES_TRX',\n",
              "       'CREDIT_LIMIT', 'PAYMENTS', 'MINIMUM_PAYMENTS', 'PRC_FULL_PAYMENT'],\n",
              "      dtype='object')"
            ]
          },
          "metadata": {
            "tags": []
          },
          "execution_count": 64
        }
      ]
    }
  ]
}