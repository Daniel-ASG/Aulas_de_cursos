{
  "nbformat": 4,
  "nbformat_minor": 0,
  "metadata": {
    "colab": {
      "name": "Pandas IO.ipynb",
      "provenance": [],
      "collapsed_sections": [
        "XkEtXXUtkB0U",
        "5I-DlXsykQjH",
        "TuUDMwiom7kb",
        "8_jnYBbxoXBZ",
        "CbXZFH89psS7",
        "kydfRjZ0rT90",
        "TBlHP35Pugbp",
        "N_BdGGEewyW-",
        "cYOzTblUyLEQ",
        "wHBud2_OzOeR",
        "chJ4m5YY3Taj",
        "qOi-gWfZ7hZn"
      ],
      "authorship_tag": "ABX9TyPBb6tsmZwuEDZtea/IID/V",
      "include_colab_link": true
    },
    "kernelspec": {
      "name": "python3",
      "display_name": "Python 3"
    }
  },
  "cells": [
    {
      "cell_type": "markdown",
      "metadata": {
        "id": "view-in-github",
        "colab_type": "text"
      },
      "source": [
        "<a href=\"https://colab.research.google.com/github/Daniel-ASG/Aulas_de_cursos/blob/main/Pandas_IO.ipynb\" target=\"_parent\"><img src=\"https://colab.research.google.com/assets/colab-badge.svg\" alt=\"Open In Colab\"/></a>"
      ]
    },
    {
      "cell_type": "markdown",
      "metadata": {
        "id": "XkEtXXUtkB0U"
      },
      "source": [
        "# **Criando os nomes**"
      ]
    },
    {
      "cell_type": "code",
      "metadata": {
        "id": "4MD8pbe9hLLH"
      },
      "source": [
        "import pandas as pd"
      ],
      "execution_count": null,
      "outputs": []
    },
    {
      "cell_type": "code",
      "metadata": {
        "id": "hYl8sRfmh3AU"
      },
      "source": [
        "# https://servicodados.ibge.gov.br/api/docs/censos/nomes?versao=2\n",
        "\n",
        "nomes_m = pd.read_json('https://servicodados.ibge.gov.br/api/v1/censos/nomes/ranking?qtd=200&sexo=m')\n",
        "nomes_f = pd.read_json('https://servicodados.ibge.gov.br/api/v1/censos/nomes/ranking?qtd=200&sexo=f')"
      ],
      "execution_count": null,
      "outputs": []
    },
    {
      "cell_type": "code",
      "metadata": {
        "id": "s28OuRgEiBdm",
        "colab": {
          "base_uri": "https://localhost:8080/"
        },
        "outputId": "3ac0f74f-d825-483f-a870-f14c009236eb"
      },
      "source": [
        "print(f'Quantidade de nomes: {len(nomes_f) + len(nomes_m)}')"
      ],
      "execution_count": null,
      "outputs": [
        {
          "output_type": "stream",
          "text": [
            "Quantidade de nomes: 400\n"
          ],
          "name": "stdout"
        }
      ]
    },
    {
      "cell_type": "code",
      "metadata": {
        "id": "zw_brfSXjA01"
      },
      "source": [
        "frames = [nomes_f, nomes_m]"
      ],
      "execution_count": null,
      "outputs": []
    },
    {
      "cell_type": "code",
      "metadata": {
        "id": "1fHRaI8rjQa5",
        "colab": {
          "base_uri": "https://localhost:8080/"
        },
        "outputId": "82004232-4e0f-439a-b55c-95d653ceedf7"
      },
      "source": [
        "frames"
      ],
      "execution_count": null,
      "outputs": [
        {
          "output_type": "execute_result",
          "data": {
            "text/plain": [
              "[          nome  regiao      freq  rank sexo\n",
              " 0        MARIA       0  11694738     1    F\n",
              " 1          ANA       0   3079729     2    F\n",
              " 2    FRANCISCA       0    721637     3    F\n",
              " 3      ANTONIA       0    588783     4    F\n",
              " 4      ADRIANA       0    565621     5    F\n",
              " ..         ...     ...       ...   ...  ...\n",
              " 195     ROSANE       0     82203   196    F\n",
              " 196    IVONETE       0     81878   197    F\n",
              " 197    LUCIANE       0     81230   198    F\n",
              " 198    ISADORA       0     81100   199    F\n",
              " 199      NILZA       0     80128   200    F\n",
              " \n",
              " [200 rows x 5 columns],           nome  regiao     freq  rank sexo\n",
              " 0         JOSE       0  5732508     1    M\n",
              " 1         JOAO       0  2971935     2    M\n",
              " 2      ANTONIO       0  2567494     3    M\n",
              " 3    FRANCISCO       0  1765197     4    M\n",
              " 4       CARLOS       0  1483121     5    M\n",
              " ..         ...     ...      ...   ...  ...\n",
              " 195     WALTER       0    67207   196    M\n",
              " 196    ARLINDO       0    66669   197    M\n",
              " 197    MICHAEL       0    65736   198    M\n",
              " 198     ALVARO       0    65444   199    M\n",
              " 199    GEOVANE       0    65435   200    M\n",
              " \n",
              " [200 rows x 5 columns]]"
            ]
          },
          "metadata": {
            "tags": []
          },
          "execution_count": 5
        }
      ]
    },
    {
      "cell_type": "code",
      "metadata": {
        "id": "hBp4rhHWjRoJ"
      },
      "source": [
        "nomes = pd.concat(frames)['nome'].to_frame()"
      ],
      "execution_count": null,
      "outputs": []
    },
    {
      "cell_type": "code",
      "metadata": {
        "id": "q_TwNwyijjbA",
        "colab": {
          "base_uri": "https://localhost:8080/"
        },
        "outputId": "e58894fc-0ef0-4ac4-d402-86dad391ecfc"
      },
      "source": [
        "nomes.sample(5)"
      ],
      "execution_count": null,
      "outputs": [
        {
          "output_type": "execute_result",
          "data": {
            "text/html": [
              "<div>\n",
              "<style scoped>\n",
              "    .dataframe tbody tr th:only-of-type {\n",
              "        vertical-align: middle;\n",
              "    }\n",
              "\n",
              "    .dataframe tbody tr th {\n",
              "        vertical-align: top;\n",
              "    }\n",
              "\n",
              "    .dataframe thead th {\n",
              "        text-align: right;\n",
              "    }\n",
              "</style>\n",
              "<table border=\"1\" class=\"dataframe\">\n",
              "  <thead>\n",
              "    <tr style=\"text-align: right;\">\n",
              "      <th></th>\n",
              "      <th>nome</th>\n",
              "    </tr>\n",
              "  </thead>\n",
              "  <tbody>\n",
              "    <tr>\n",
              "      <th>175</th>\n",
              "      <td>ALEXANDRA</td>\n",
              "    </tr>\n",
              "    <tr>\n",
              "      <th>180</th>\n",
              "      <td>LIDIA</td>\n",
              "    </tr>\n",
              "    <tr>\n",
              "      <th>105</th>\n",
              "      <td>PABLO</td>\n",
              "    </tr>\n",
              "    <tr>\n",
              "      <th>11</th>\n",
              "      <td>CAMILA</td>\n",
              "    </tr>\n",
              "    <tr>\n",
              "      <th>48</th>\n",
              "      <td>RAQUEL</td>\n",
              "    </tr>\n",
              "  </tbody>\n",
              "</table>\n",
              "</div>"
            ],
            "text/plain": [
              "          nome\n",
              "175  ALEXANDRA\n",
              "180      LIDIA\n",
              "105      PABLO\n",
              "11      CAMILA\n",
              "48      RAQUEL"
            ]
          },
          "metadata": {
            "tags": []
          },
          "execution_count": 7
        }
      ]
    },
    {
      "cell_type": "markdown",
      "metadata": {
        "id": "5I-DlXsykQjH"
      },
      "source": [
        "# **Incluindo ID dos alunos**"
      ]
    },
    {
      "cell_type": "code",
      "metadata": {
        "id": "RLQOdIrhjqsr"
      },
      "source": [
        "import numpy as np\n",
        "np.random.seed(123)"
      ],
      "execution_count": null,
      "outputs": []
    },
    {
      "cell_type": "code",
      "metadata": {
        "id": "3V3iA3lxktvm",
        "colab": {
          "base_uri": "https://localhost:8080/"
        },
        "outputId": "e449e8af-3564-41ec-a3d6-8e9fea134fae"
      },
      "source": [
        "total_alunos = len(nomes)\n",
        "total_alunos"
      ],
      "execution_count": null,
      "outputs": [
        {
          "output_type": "execute_result",
          "data": {
            "text/plain": [
              "400"
            ]
          },
          "metadata": {
            "tags": []
          },
          "execution_count": 9
        }
      ]
    },
    {
      "cell_type": "code",
      "metadata": {
        "id": "riB3QbmSkzFQ"
      },
      "source": [
        "nomes['id_aluno'] = np.random.permutation(total_alunos) + 1"
      ],
      "execution_count": null,
      "outputs": []
    },
    {
      "cell_type": "code",
      "metadata": {
        "id": "-WOnzei4lOZW"
      },
      "source": [
        "dominios = ['@dominiodoemail.com.br', '@servicodoemail.com']\n",
        "nomes['dominio'] = np.random.choice(dominios, total_alunos)"
      ],
      "execution_count": null,
      "outputs": []
    },
    {
      "cell_type": "code",
      "metadata": {
        "id": "7QwWEuy5l2XZ"
      },
      "source": [
        "nomes['email'] = nomes.nome.str.cat(nomes.dominio).str.lower()"
      ],
      "execution_count": null,
      "outputs": []
    },
    {
      "cell_type": "code",
      "metadata": {
        "id": "tbVrvFNylyCm",
        "colab": {
          "base_uri": "https://localhost:8080/",
          "height": 195
        },
        "outputId": "e3df83cd-d0db-45b2-9bf2-13aaccbc4626"
      },
      "source": [
        "nomes.sample(5)"
      ],
      "execution_count": null,
      "outputs": [
        {
          "output_type": "execute_result",
          "data": {
            "text/html": [
              "<div>\n",
              "<style scoped>\n",
              "    .dataframe tbody tr th:only-of-type {\n",
              "        vertical-align: middle;\n",
              "    }\n",
              "\n",
              "    .dataframe tbody tr th {\n",
              "        vertical-align: top;\n",
              "    }\n",
              "\n",
              "    .dataframe thead th {\n",
              "        text-align: right;\n",
              "    }\n",
              "</style>\n",
              "<table border=\"1\" class=\"dataframe\">\n",
              "  <thead>\n",
              "    <tr style=\"text-align: right;\">\n",
              "      <th></th>\n",
              "      <th>nome</th>\n",
              "      <th>id_aluno</th>\n",
              "      <th>dominio</th>\n",
              "      <th>email</th>\n",
              "    </tr>\n",
              "  </thead>\n",
              "  <tbody>\n",
              "    <tr>\n",
              "      <th>46</th>\n",
              "      <td>FABIANA</td>\n",
              "      <td>358</td>\n",
              "      <td>@servicodoemail.com</td>\n",
              "      <td>fabiana@servicodoemail.com</td>\n",
              "    </tr>\n",
              "    <tr>\n",
              "      <th>38</th>\n",
              "      <td>DIEGO</td>\n",
              "      <td>294</td>\n",
              "      <td>@dominiodoemail.com.br</td>\n",
              "      <td>diego@dominiodoemail.com.br</td>\n",
              "    </tr>\n",
              "    <tr>\n",
              "      <th>136</th>\n",
              "      <td>NILTON</td>\n",
              "      <td>271</td>\n",
              "      <td>@dominiodoemail.com.br</td>\n",
              "      <td>nilton@dominiodoemail.com.br</td>\n",
              "    </tr>\n",
              "    <tr>\n",
              "      <th>119</th>\n",
              "      <td>MOISES</td>\n",
              "      <td>4</td>\n",
              "      <td>@servicodoemail.com</td>\n",
              "      <td>moises@servicodoemail.com</td>\n",
              "    </tr>\n",
              "    <tr>\n",
              "      <th>101</th>\n",
              "      <td>GISELE</td>\n",
              "      <td>298</td>\n",
              "      <td>@servicodoemail.com</td>\n",
              "      <td>gisele@servicodoemail.com</td>\n",
              "    </tr>\n",
              "  </tbody>\n",
              "</table>\n",
              "</div>"
            ],
            "text/plain": [
              "        nome  id_aluno                 dominio                         email\n",
              "46   FABIANA       358     @servicodoemail.com    fabiana@servicodoemail.com\n",
              "38     DIEGO       294  @dominiodoemail.com.br   diego@dominiodoemail.com.br\n",
              "136   NILTON       271  @dominiodoemail.com.br  nilton@dominiodoemail.com.br\n",
              "119   MOISES         4     @servicodoemail.com     moises@servicodoemail.com\n",
              "101   GISELE       298     @servicodoemail.com     gisele@servicodoemail.com"
            ]
          },
          "metadata": {
            "tags": []
          },
          "execution_count": 13
        }
      ]
    },
    {
      "cell_type": "markdown",
      "metadata": {
        "id": "TuUDMwiom7kb"
      },
      "source": [
        "# **Criando a tabela Cursos**"
      ]
    },
    {
      "cell_type": "code",
      "metadata": {
        "id": "88JsgDvAmJoY",
        "colab": {
          "base_uri": "https://localhost:8080/"
        },
        "outputId": "655fd12f-36b1-47fa-ad48-1dd66266cbf0"
      },
      "source": [
        "!pip3 install html5lib\n",
        "!pip3 install lxml"
      ],
      "execution_count": null,
      "outputs": [
        {
          "output_type": "stream",
          "text": [
            "Requirement already satisfied: html5lib in /usr/local/lib/python3.6/dist-packages (1.0.1)\n",
            "Requirement already satisfied: webencodings in /usr/local/lib/python3.6/dist-packages (from html5lib) (0.5.1)\n",
            "Requirement already satisfied: six>=1.9 in /usr/local/lib/python3.6/dist-packages (from html5lib) (1.15.0)\n",
            "Requirement already satisfied: lxml in /usr/local/lib/python3.6/dist-packages (4.2.6)\n"
          ],
          "name": "stdout"
        }
      ]
    },
    {
      "cell_type": "code",
      "metadata": {
        "id": "46lsRA_pncbM"
      },
      "source": [
        "import html5lib"
      ],
      "execution_count": null,
      "outputs": []
    },
    {
      "cell_type": "code",
      "metadata": {
        "id": "9Ub8oTYSng4H"
      },
      "source": [
        "url = 'http://tabela-cursos.herokuapp.com/index.html'\n",
        "cursos = pd.read_html(url)"
      ],
      "execution_count": null,
      "outputs": []
    },
    {
      "cell_type": "code",
      "metadata": {
        "id": "otvl-XNOnpFL",
        "colab": {
          "base_uri": "https://localhost:8080/"
        },
        "outputId": "d3682730-bb8c-4da8-ac98-01dbd654b57c"
      },
      "source": [
        "cursos"
      ],
      "execution_count": null,
      "outputs": [
        {
          "output_type": "execute_result",
          "data": {
            "text/plain": [
              "[                          Nome do curso\n",
              " 0                 Lógica de programação\n",
              " 1                         Java para Web\n",
              " 2                           C# para Web\n",
              " 3                         Ruby on Rails\n",
              " 4                      Cursos de Python\n",
              " 5                         PHP com MySql\n",
              " 6                         .NET para web\n",
              " 7            Novas integrações com Java\n",
              " 8                          TDD com Java\n",
              " 9                   Código limpo com C#\n",
              " 10  Preparatório para certificação Java\n",
              " 11                      Hardware básico\n",
              " 12                Persistência com .NET\n",
              " 13                  Desenvolvendo jogos\n",
              " 14                     Análise de dados\n",
              " 15                   Estatística básica\n",
              " 16                  Internet das coisas\n",
              " 17                Programação funcional\n",
              " 18                Boas práticas em Java\n",
              " 19          Orientação objetos com Java]"
            ]
          },
          "metadata": {
            "tags": []
          },
          "execution_count": 17
        }
      ]
    },
    {
      "cell_type": "code",
      "metadata": {
        "id": "VuPgcRCfn5Mn"
      },
      "source": [
        "cursos = cursos[0]"
      ],
      "execution_count": null,
      "outputs": []
    },
    {
      "cell_type": "code",
      "metadata": {
        "id": "lKUBl9u-n02M",
        "colab": {
          "base_uri": "https://localhost:8080/"
        },
        "outputId": "9db18e29-314d-49da-ca7a-270a57f3c931"
      },
      "source": [
        "type(cursos)"
      ],
      "execution_count": null,
      "outputs": [
        {
          "output_type": "execute_result",
          "data": {
            "text/plain": [
              "pandas.core.frame.DataFrame"
            ]
          },
          "metadata": {
            "tags": []
          },
          "execution_count": 19
        }
      ]
    },
    {
      "cell_type": "markdown",
      "metadata": {
        "id": "8_jnYBbxoXBZ"
      },
      "source": [
        "# **Alterando o index de cursos**"
      ]
    },
    {
      "cell_type": "code",
      "metadata": {
        "id": "YETNS8SaoHmt"
      },
      "source": [
        "cursos = cursos.rename(columns={'Nome do curso': 'nome_do_curso'})"
      ],
      "execution_count": null,
      "outputs": []
    },
    {
      "cell_type": "code",
      "metadata": {
        "id": "pHNZz6gSosyk"
      },
      "source": [
        "cursos['id'] = cursos.index + 1"
      ],
      "execution_count": null,
      "outputs": []
    },
    {
      "cell_type": "code",
      "metadata": {
        "id": "mJpFwoLBn8Lq",
        "colab": {
          "base_uri": "https://localhost:8080/"
        },
        "outputId": "8fb80dc3-4241-46d4-bb3c-392f1d1d973a"
      },
      "source": [
        "cursos.head()"
      ],
      "execution_count": null,
      "outputs": [
        {
          "output_type": "execute_result",
          "data": {
            "text/html": [
              "<div>\n",
              "<style scoped>\n",
              "    .dataframe tbody tr th:only-of-type {\n",
              "        vertical-align: middle;\n",
              "    }\n",
              "\n",
              "    .dataframe tbody tr th {\n",
              "        vertical-align: top;\n",
              "    }\n",
              "\n",
              "    .dataframe thead th {\n",
              "        text-align: right;\n",
              "    }\n",
              "</style>\n",
              "<table border=\"1\" class=\"dataframe\">\n",
              "  <thead>\n",
              "    <tr style=\"text-align: right;\">\n",
              "      <th></th>\n",
              "      <th>nome_do_curso</th>\n",
              "      <th>id</th>\n",
              "    </tr>\n",
              "  </thead>\n",
              "  <tbody>\n",
              "    <tr>\n",
              "      <th>0</th>\n",
              "      <td>Lógica de programação</td>\n",
              "      <td>1</td>\n",
              "    </tr>\n",
              "    <tr>\n",
              "      <th>1</th>\n",
              "      <td>Java para Web</td>\n",
              "      <td>2</td>\n",
              "    </tr>\n",
              "    <tr>\n",
              "      <th>2</th>\n",
              "      <td>C# para Web</td>\n",
              "      <td>3</td>\n",
              "    </tr>\n",
              "    <tr>\n",
              "      <th>3</th>\n",
              "      <td>Ruby on Rails</td>\n",
              "      <td>4</td>\n",
              "    </tr>\n",
              "    <tr>\n",
              "      <th>4</th>\n",
              "      <td>Cursos de Python</td>\n",
              "      <td>5</td>\n",
              "    </tr>\n",
              "  </tbody>\n",
              "</table>\n",
              "</div>"
            ],
            "text/plain": [
              "           nome_do_curso  id\n",
              "0  Lógica de programação   1\n",
              "1          Java para Web   2\n",
              "2            C# para Web   3\n",
              "3          Ruby on Rails   4\n",
              "4       Cursos de Python   5"
            ]
          },
          "metadata": {
            "tags": []
          },
          "execution_count": 22
        }
      ]
    },
    {
      "cell_type": "code",
      "metadata": {
        "id": "OQRKmyR6o5b6"
      },
      "source": [
        "cursos = cursos.set_index('id')"
      ],
      "execution_count": null,
      "outputs": []
    },
    {
      "cell_type": "code",
      "metadata": {
        "id": "eGUwoLMnpF9P",
        "colab": {
          "base_uri": "https://localhost:8080/"
        },
        "outputId": "a68be04a-9b2e-4ea5-a090-330b235518d2"
      },
      "source": [
        "cursos.head()"
      ],
      "execution_count": null,
      "outputs": [
        {
          "output_type": "execute_result",
          "data": {
            "text/html": [
              "<div>\n",
              "<style scoped>\n",
              "    .dataframe tbody tr th:only-of-type {\n",
              "        vertical-align: middle;\n",
              "    }\n",
              "\n",
              "    .dataframe tbody tr th {\n",
              "        vertical-align: top;\n",
              "    }\n",
              "\n",
              "    .dataframe thead th {\n",
              "        text-align: right;\n",
              "    }\n",
              "</style>\n",
              "<table border=\"1\" class=\"dataframe\">\n",
              "  <thead>\n",
              "    <tr style=\"text-align: right;\">\n",
              "      <th></th>\n",
              "      <th>nome_do_curso</th>\n",
              "    </tr>\n",
              "    <tr>\n",
              "      <th>id</th>\n",
              "      <th></th>\n",
              "    </tr>\n",
              "  </thead>\n",
              "  <tbody>\n",
              "    <tr>\n",
              "      <th>1</th>\n",
              "      <td>Lógica de programação</td>\n",
              "    </tr>\n",
              "    <tr>\n",
              "      <th>2</th>\n",
              "      <td>Java para Web</td>\n",
              "    </tr>\n",
              "    <tr>\n",
              "      <th>3</th>\n",
              "      <td>C# para Web</td>\n",
              "    </tr>\n",
              "    <tr>\n",
              "      <th>4</th>\n",
              "      <td>Ruby on Rails</td>\n",
              "    </tr>\n",
              "    <tr>\n",
              "      <th>5</th>\n",
              "      <td>Cursos de Python</td>\n",
              "    </tr>\n",
              "  </tbody>\n",
              "</table>\n",
              "</div>"
            ],
            "text/plain": [
              "            nome_do_curso\n",
              "id                       \n",
              "1   Lógica de programação\n",
              "2           Java para Web\n",
              "3             C# para Web\n",
              "4           Ruby on Rails\n",
              "5        Cursos de Python"
            ]
          },
          "metadata": {
            "tags": []
          },
          "execution_count": 24
        }
      ]
    },
    {
      "cell_type": "markdown",
      "metadata": {
        "id": "CbXZFH89psS7"
      },
      "source": [
        "# **Matriculando os alunos nos cursos**"
      ]
    },
    {
      "cell_type": "code",
      "metadata": {
        "id": "nRGgSWn3pKjY",
        "colab": {
          "base_uri": "https://localhost:8080/"
        },
        "outputId": "ca372165-b309-4bf0-e137-6ccc06c6dc48"
      },
      "source": [
        "nomes.sample(5)"
      ],
      "execution_count": null,
      "outputs": [
        {
          "output_type": "execute_result",
          "data": {
            "text/html": [
              "<div>\n",
              "<style scoped>\n",
              "    .dataframe tbody tr th:only-of-type {\n",
              "        vertical-align: middle;\n",
              "    }\n",
              "\n",
              "    .dataframe tbody tr th {\n",
              "        vertical-align: top;\n",
              "    }\n",
              "\n",
              "    .dataframe thead th {\n",
              "        text-align: right;\n",
              "    }\n",
              "</style>\n",
              "<table border=\"1\" class=\"dataframe\">\n",
              "  <thead>\n",
              "    <tr style=\"text-align: right;\">\n",
              "      <th></th>\n",
              "      <th>nome</th>\n",
              "      <th>id_aluno</th>\n",
              "      <th>dominio</th>\n",
              "      <th>email</th>\n",
              "    </tr>\n",
              "  </thead>\n",
              "  <tbody>\n",
              "    <tr>\n",
              "      <th>42</th>\n",
              "      <td>MARLENE</td>\n",
              "      <td>268</td>\n",
              "      <td>@servicodoemail.com</td>\n",
              "      <td>marlene@servicodoemail.com</td>\n",
              "    </tr>\n",
              "    <tr>\n",
              "      <th>76</th>\n",
              "      <td>TATIANE</td>\n",
              "      <td>203</td>\n",
              "      <td>@servicodoemail.com</td>\n",
              "      <td>tatiane@servicodoemail.com</td>\n",
              "    </tr>\n",
              "    <tr>\n",
              "      <th>65</th>\n",
              "      <td>MAURICIO</td>\n",
              "      <td>395</td>\n",
              "      <td>@servicodoemail.com</td>\n",
              "      <td>mauricio@servicodoemail.com</td>\n",
              "    </tr>\n",
              "    <tr>\n",
              "      <th>52</th>\n",
              "      <td>SAMUEL</td>\n",
              "      <td>220</td>\n",
              "      <td>@dominiodoemail.com.br</td>\n",
              "      <td>samuel@dominiodoemail.com.br</td>\n",
              "    </tr>\n",
              "    <tr>\n",
              "      <th>187</th>\n",
              "      <td>ELTON</td>\n",
              "      <td>97</td>\n",
              "      <td>@dominiodoemail.com.br</td>\n",
              "      <td>elton@dominiodoemail.com.br</td>\n",
              "    </tr>\n",
              "  </tbody>\n",
              "</table>\n",
              "</div>"
            ],
            "text/plain": [
              "         nome  id_aluno                 dominio                         email\n",
              "42    MARLENE       268     @servicodoemail.com    marlene@servicodoemail.com\n",
              "76    TATIANE       203     @servicodoemail.com    tatiane@servicodoemail.com\n",
              "65   MAURICIO       395     @servicodoemail.com   mauricio@servicodoemail.com\n",
              "52     SAMUEL       220  @dominiodoemail.com.br  samuel@dominiodoemail.com.br\n",
              "187     ELTON        97  @dominiodoemail.com.br   elton@dominiodoemail.com.br"
            ]
          },
          "metadata": {
            "tags": []
          },
          "execution_count": 25
        }
      ]
    },
    {
      "cell_type": "code",
      "metadata": {
        "id": "mLpHkYlMp1Fu"
      },
      "source": [
        "nomes['matriculas'] = np.ceil(np.random.exponential(size=total_alunos) * 1.5).astype(int)"
      ],
      "execution_count": null,
      "outputs": []
    },
    {
      "cell_type": "code",
      "metadata": {
        "id": "WZjJXkm0qCDb",
        "colab": {
          "base_uri": "https://localhost:8080/"
        },
        "outputId": "2d2d5856-c073-4f94-e72d-35522b712891"
      },
      "source": [
        "nomes.sample(5)"
      ],
      "execution_count": null,
      "outputs": [
        {
          "output_type": "execute_result",
          "data": {
            "text/html": [
              "<div>\n",
              "<style scoped>\n",
              "    .dataframe tbody tr th:only-of-type {\n",
              "        vertical-align: middle;\n",
              "    }\n",
              "\n",
              "    .dataframe tbody tr th {\n",
              "        vertical-align: top;\n",
              "    }\n",
              "\n",
              "    .dataframe thead th {\n",
              "        text-align: right;\n",
              "    }\n",
              "</style>\n",
              "<table border=\"1\" class=\"dataframe\">\n",
              "  <thead>\n",
              "    <tr style=\"text-align: right;\">\n",
              "      <th></th>\n",
              "      <th>nome</th>\n",
              "      <th>id_aluno</th>\n",
              "      <th>dominio</th>\n",
              "      <th>email</th>\n",
              "      <th>matriculas</th>\n",
              "    </tr>\n",
              "  </thead>\n",
              "  <tbody>\n",
              "    <tr>\n",
              "      <th>194</th>\n",
              "      <td>CLARA</td>\n",
              "      <td>277</td>\n",
              "      <td>@servicodoemail.com</td>\n",
              "      <td>clara@servicodoemail.com</td>\n",
              "      <td>3</td>\n",
              "    </tr>\n",
              "    <tr>\n",
              "      <th>64</th>\n",
              "      <td>ROBSON</td>\n",
              "      <td>290</td>\n",
              "      <td>@servicodoemail.com</td>\n",
              "      <td>robson@servicodoemail.com</td>\n",
              "      <td>2</td>\n",
              "    </tr>\n",
              "    <tr>\n",
              "      <th>13</th>\n",
              "      <td>DANIEL</td>\n",
              "      <td>195</td>\n",
              "      <td>@servicodoemail.com</td>\n",
              "      <td>daniel@servicodoemail.com</td>\n",
              "      <td>4</td>\n",
              "    </tr>\n",
              "    <tr>\n",
              "      <th>98</th>\n",
              "      <td>GILSON</td>\n",
              "      <td>134</td>\n",
              "      <td>@dominiodoemail.com.br</td>\n",
              "      <td>gilson@dominiodoemail.com.br</td>\n",
              "      <td>1</td>\n",
              "    </tr>\n",
              "    <tr>\n",
              "      <th>33</th>\n",
              "      <td>NATALIA</td>\n",
              "      <td>192</td>\n",
              "      <td>@dominiodoemail.com.br</td>\n",
              "      <td>natalia@dominiodoemail.com.br</td>\n",
              "      <td>1</td>\n",
              "    </tr>\n",
              "  </tbody>\n",
              "</table>\n",
              "</div>"
            ],
            "text/plain": [
              "        nome  id_aluno  ...                          email matriculas\n",
              "194    CLARA       277  ...       clara@servicodoemail.com          3\n",
              "64    ROBSON       290  ...      robson@servicodoemail.com          2\n",
              "13    DANIEL       195  ...      daniel@servicodoemail.com          4\n",
              "98    GILSON       134  ...   gilson@dominiodoemail.com.br          1\n",
              "33   NATALIA       192  ...  natalia@dominiodoemail.com.br          1\n",
              "\n",
              "[5 rows x 5 columns]"
            ]
          },
          "metadata": {
            "tags": []
          },
          "execution_count": 27
        }
      ]
    },
    {
      "cell_type": "code",
      "metadata": {
        "id": "IxZ1e8TIqEhf",
        "colab": {
          "base_uri": "https://localhost:8080/"
        },
        "outputId": "22385ffb-5a05-4036-8483-33a2c8d576c6"
      },
      "source": [
        "nomes.matriculas.describe()"
      ],
      "execution_count": null,
      "outputs": [
        {
          "output_type": "execute_result",
          "data": {
            "text/plain": [
              "count    400.000000\n",
              "mean       2.017500\n",
              "std        1.422058\n",
              "min        1.000000\n",
              "25%        1.000000\n",
              "50%        1.500000\n",
              "75%        3.000000\n",
              "max        9.000000\n",
              "Name: matriculas, dtype: float64"
            ]
          },
          "metadata": {
            "tags": []
          },
          "execution_count": 28
        }
      ]
    },
    {
      "cell_type": "code",
      "metadata": {
        "id": "moXTfdzhquOf"
      },
      "source": [
        "import seaborn as sns"
      ],
      "execution_count": null,
      "outputs": []
    },
    {
      "cell_type": "code",
      "metadata": {
        "id": "rjZBU7S4qy9E",
        "colab": {
          "base_uri": "https://localhost:8080/"
        },
        "outputId": "02def218-12dc-45ee-ae5a-fc3aabc0e896"
      },
      "source": [
        "sns.distplot(nomes.matriculas)"
      ],
      "execution_count": null,
      "outputs": [
        {
          "output_type": "stream",
          "text": [
            "/usr/local/lib/python3.6/dist-packages/seaborn/distributions.py:2551: FutureWarning: `distplot` is a deprecated function and will be removed in a future version. Please adapt your code to use either `displot` (a figure-level function with similar flexibility) or `histplot` (an axes-level function for histograms).\n",
            "  warnings.warn(msg, FutureWarning)\n"
          ],
          "name": "stderr"
        },
        {
          "output_type": "execute_result",
          "data": {
            "text/plain": [
              "<matplotlib.axes._subplots.AxesSubplot at 0x7ff9daa468d0>"
            ]
          },
          "metadata": {
            "tags": []
          },
          "execution_count": 30
        },
        {
          "output_type": "display_data",
          "data": {
            "image/png": "[encoded data removed]",
            "text/plain": [
              "<Figure size 432x288 with 1 Axes>"
            ]
          },
          "metadata": {
            "tags": [],
            "needs_background": "light"
          }
        }
      ]
    },
    {
      "cell_type": "code",
      "metadata": {
        "id": "f8RcC8CNq3dU",
        "colab": {
          "base_uri": "https://localhost:8080/"
        },
        "outputId": "a72e0600-6515-41c0-d16d-b6d6662b3ccf"
      },
      "source": [
        "nomes.matriculas.value_counts()"
      ],
      "execution_count": null,
      "outputs": [
        {
          "output_type": "execute_result",
          "data": {
            "text/plain": [
              "1    200\n",
              "2     95\n",
              "3     55\n",
              "4     26\n",
              "5      9\n",
              "7      6\n",
              "6      6\n",
              "8      2\n",
              "9      1\n",
              "Name: matriculas, dtype: int64"
            ]
          },
          "metadata": {
            "tags": []
          },
          "execution_count": 31
        }
      ]
    },
    {
      "cell_type": "code",
      "metadata": {
        "id": "ee8eV-1pq9sB",
        "colab": {
          "base_uri": "https://localhost:8080/"
        },
        "outputId": "01a90fec-d4cb-4c93-9654-2a26655b94af"
      },
      "source": [
        "nomes.sample(5)"
      ],
      "execution_count": null,
      "outputs": [
        {
          "output_type": "execute_result",
          "data": {
            "text/html": [
              "<div>\n",
              "<style scoped>\n",
              "    .dataframe tbody tr th:only-of-type {\n",
              "        vertical-align: middle;\n",
              "    }\n",
              "\n",
              "    .dataframe tbody tr th {\n",
              "        vertical-align: top;\n",
              "    }\n",
              "\n",
              "    .dataframe thead th {\n",
              "        text-align: right;\n",
              "    }\n",
              "</style>\n",
              "<table border=\"1\" class=\"dataframe\">\n",
              "  <thead>\n",
              "    <tr style=\"text-align: right;\">\n",
              "      <th></th>\n",
              "      <th>nome</th>\n",
              "      <th>id_aluno</th>\n",
              "      <th>dominio</th>\n",
              "      <th>email</th>\n",
              "      <th>matriculas</th>\n",
              "    </tr>\n",
              "  </thead>\n",
              "  <tbody>\n",
              "    <tr>\n",
              "      <th>23</th>\n",
              "      <td>FERNANDO</td>\n",
              "      <td>321</td>\n",
              "      <td>@dominiodoemail.com.br</td>\n",
              "      <td>fernando@dominiodoemail.com.br</td>\n",
              "      <td>2</td>\n",
              "    </tr>\n",
              "    <tr>\n",
              "      <th>169</th>\n",
              "      <td>JOELMA</td>\n",
              "      <td>394</td>\n",
              "      <td>@dominiodoemail.com.br</td>\n",
              "      <td>joelma@dominiodoemail.com.br</td>\n",
              "      <td>1</td>\n",
              "    </tr>\n",
              "    <tr>\n",
              "      <th>148</th>\n",
              "      <td>APARECIDO</td>\n",
              "      <td>332</td>\n",
              "      <td>@dominiodoemail.com.br</td>\n",
              "      <td>aparecido@dominiodoemail.com.br</td>\n",
              "      <td>3</td>\n",
              "    </tr>\n",
              "    <tr>\n",
              "      <th>24</th>\n",
              "      <td>CLAUDIA</td>\n",
              "      <td>16</td>\n",
              "      <td>@dominiodoemail.com.br</td>\n",
              "      <td>claudia@dominiodoemail.com.br</td>\n",
              "      <td>4</td>\n",
              "    </tr>\n",
              "    <tr>\n",
              "      <th>105</th>\n",
              "      <td>MILENA</td>\n",
              "      <td>371</td>\n",
              "      <td>@dominiodoemail.com.br</td>\n",
              "      <td>milena@dominiodoemail.com.br</td>\n",
              "      <td>1</td>\n",
              "    </tr>\n",
              "  </tbody>\n",
              "</table>\n",
              "</div>"
            ],
            "text/plain": [
              "          nome  id_aluno  ...                            email matriculas\n",
              "23    FERNANDO       321  ...   fernando@dominiodoemail.com.br          2\n",
              "169     JOELMA       394  ...     joelma@dominiodoemail.com.br          1\n",
              "148  APARECIDO       332  ...  aparecido@dominiodoemail.com.br          3\n",
              "24     CLAUDIA        16  ...    claudia@dominiodoemail.com.br          4\n",
              "105     MILENA       371  ...     milena@dominiodoemail.com.br          1\n",
              "\n",
              "[5 rows x 5 columns]"
            ]
          },
          "metadata": {
            "tags": []
          },
          "execution_count": 32
        }
      ]
    },
    {
      "cell_type": "markdown",
      "metadata": {
        "id": "kydfRjZ0rT90"
      },
      "source": [
        "# **Selecionando cursos**"
      ]
    },
    {
      "cell_type": "code",
      "metadata": {
        "id": "WrzY3tzkrLN4",
        "colab": {
          "base_uri": "https://localhost:8080/"
        },
        "outputId": "aa227075-a10c-4937-adda-8f8d26835b14"
      },
      "source": [
        "nomes.sample(3)"
      ],
      "execution_count": null,
      "outputs": [
        {
          "output_type": "execute_result",
          "data": {
            "text/html": [
              "<div>\n",
              "<style scoped>\n",
              "    .dataframe tbody tr th:only-of-type {\n",
              "        vertical-align: middle;\n",
              "    }\n",
              "\n",
              "    .dataframe tbody tr th {\n",
              "        vertical-align: top;\n",
              "    }\n",
              "\n",
              "    .dataframe thead th {\n",
              "        text-align: right;\n",
              "    }\n",
              "</style>\n",
              "<table border=\"1\" class=\"dataframe\">\n",
              "  <thead>\n",
              "    <tr style=\"text-align: right;\">\n",
              "      <th></th>\n",
              "      <th>nome</th>\n",
              "      <th>id_aluno</th>\n",
              "      <th>dominio</th>\n",
              "      <th>email</th>\n",
              "      <th>matriculas</th>\n",
              "    </tr>\n",
              "  </thead>\n",
              "  <tbody>\n",
              "    <tr>\n",
              "      <th>175</th>\n",
              "      <td>RIAN</td>\n",
              "      <td>209</td>\n",
              "      <td>@dominiodoemail.com.br</td>\n",
              "      <td>rian@dominiodoemail.com.br</td>\n",
              "      <td>2</td>\n",
              "    </tr>\n",
              "    <tr>\n",
              "      <th>96</th>\n",
              "      <td>TANIA</td>\n",
              "      <td>211</td>\n",
              "      <td>@dominiodoemail.com.br</td>\n",
              "      <td>tania@dominiodoemail.com.br</td>\n",
              "      <td>4</td>\n",
              "    </tr>\n",
              "    <tr>\n",
              "      <th>116</th>\n",
              "      <td>DOMINGOS</td>\n",
              "      <td>150</td>\n",
              "      <td>@servicodoemail.com</td>\n",
              "      <td>domingos@servicodoemail.com</td>\n",
              "      <td>1</td>\n",
              "    </tr>\n",
              "  </tbody>\n",
              "</table>\n",
              "</div>"
            ],
            "text/plain": [
              "         nome  id_aluno  ...                        email matriculas\n",
              "175      RIAN       209  ...   rian@dominiodoemail.com.br          2\n",
              "96      TANIA       211  ...  tania@dominiodoemail.com.br          4\n",
              "116  DOMINGOS       150  ...  domingos@servicodoemail.com          1\n",
              "\n",
              "[3 rows x 5 columns]"
            ]
          },
          "metadata": {
            "tags": []
          },
          "execution_count": 33
        }
      ]
    },
    {
      "cell_type": "code",
      "metadata": {
        "id": "6QCQWaaprlCZ"
      },
      "source": [
        "todas_matriculas = []\n",
        "x = np.random.rand(20)\n",
        "prob = x / sum(x)"
      ],
      "execution_count": null,
      "outputs": []
    },
    {
      "cell_type": "code",
      "metadata": {
        "id": "_DQkTMQzrxxR"
      },
      "source": [
        "for index, row in nomes.iterrows():\n",
        "    id = row.id_aluno\n",
        "    matriculas = row.matriculas\n",
        "    for i in range(matriculas):\n",
        "        mat = [id, np.random.choice(cursos.index, p = prob)]\n",
        "        todas_matriculas.append(mat)\n",
        "\n",
        "matriculas = pd.DataFrame(todas_matriculas, columns=['id_aluno', 'id_curso'])"
      ],
      "execution_count": null,
      "outputs": []
    },
    {
      "cell_type": "code",
      "metadata": {
        "id": "P-BPOYEssvYw",
        "colab": {
          "base_uri": "https://localhost:8080/"
        },
        "outputId": "e9640806-a8f0-477a-d3e7-a9ddeac87576"
      },
      "source": [
        "matriculas.head()"
      ],
      "execution_count": null,
      "outputs": [
        {
          "output_type": "execute_result",
          "data": {
            "text/html": [
              "<div>\n",
              "<style scoped>\n",
              "    .dataframe tbody tr th:only-of-type {\n",
              "        vertical-align: middle;\n",
              "    }\n",
              "\n",
              "    .dataframe tbody tr th {\n",
              "        vertical-align: top;\n",
              "    }\n",
              "\n",
              "    .dataframe thead th {\n",
              "        text-align: right;\n",
              "    }\n",
              "</style>\n",
              "<table border=\"1\" class=\"dataframe\">\n",
              "  <thead>\n",
              "    <tr style=\"text-align: right;\">\n",
              "      <th></th>\n",
              "      <th>id_aluno</th>\n",
              "      <th>id_curso</th>\n",
              "    </tr>\n",
              "  </thead>\n",
              "  <tbody>\n",
              "    <tr>\n",
              "      <th>0</th>\n",
              "      <td>235</td>\n",
              "      <td>12</td>\n",
              "    </tr>\n",
              "    <tr>\n",
              "      <th>1</th>\n",
              "      <td>43</td>\n",
              "      <td>14</td>\n",
              "    </tr>\n",
              "    <tr>\n",
              "      <th>2</th>\n",
              "      <td>43</td>\n",
              "      <td>3</td>\n",
              "    </tr>\n",
              "    <tr>\n",
              "      <th>3</th>\n",
              "      <td>304</td>\n",
              "      <td>7</td>\n",
              "    </tr>\n",
              "    <tr>\n",
              "      <th>4</th>\n",
              "      <td>156</td>\n",
              "      <td>3</td>\n",
              "    </tr>\n",
              "  </tbody>\n",
              "</table>\n",
              "</div>"
            ],
            "text/plain": [
              "   id_aluno  id_curso\n",
              "0       235        12\n",
              "1        43        14\n",
              "2        43         3\n",
              "3       304         7\n",
              "4       156         3"
            ]
          },
          "metadata": {
            "tags": []
          },
          "execution_count": 36
        }
      ]
    },
    {
      "cell_type": "code",
      "metadata": {
        "id": "mYOUL7pOs0Cf",
        "colab": {
          "base_uri": "https://localhost:8080/"
        },
        "outputId": "d2767ab2-6c8a-447f-d618-c349c7a22870"
      },
      "source": [
        "matriculas.groupby('id_curso').count().join(cursos['nome_do_curso']).rename(columns={'id_aluno': 'quantidade_de_alunos'})"
      ],
      "execution_count": null,
      "outputs": [
        {
          "output_type": "execute_result",
          "data": {
            "text/html": [
              "<div>\n",
              "<style scoped>\n",
              "    .dataframe tbody tr th:only-of-type {\n",
              "        vertical-align: middle;\n",
              "    }\n",
              "\n",
              "    .dataframe tbody tr th {\n",
              "        vertical-align: top;\n",
              "    }\n",
              "\n",
              "    .dataframe thead th {\n",
              "        text-align: right;\n",
              "    }\n",
              "</style>\n",
              "<table border=\"1\" class=\"dataframe\">\n",
              "  <thead>\n",
              "    <tr style=\"text-align: right;\">\n",
              "      <th></th>\n",
              "      <th>quantidade_de_alunos</th>\n",
              "      <th>nome_do_curso</th>\n",
              "    </tr>\n",
              "    <tr>\n",
              "      <th>id_curso</th>\n",
              "      <th></th>\n",
              "      <th></th>\n",
              "    </tr>\n",
              "  </thead>\n",
              "  <tbody>\n",
              "    <tr>\n",
              "      <th>1</th>\n",
              "      <td>18</td>\n",
              "      <td>Lógica de programação</td>\n",
              "    </tr>\n",
              "    <tr>\n",
              "      <th>2</th>\n",
              "      <td>34</td>\n",
              "      <td>Java para Web</td>\n",
              "    </tr>\n",
              "    <tr>\n",
              "      <th>3</th>\n",
              "      <td>41</td>\n",
              "      <td>C# para Web</td>\n",
              "    </tr>\n",
              "    <tr>\n",
              "      <th>4</th>\n",
              "      <td>17</td>\n",
              "      <td>Ruby on Rails</td>\n",
              "    </tr>\n",
              "    <tr>\n",
              "      <th>5</th>\n",
              "      <td>53</td>\n",
              "      <td>Cursos de Python</td>\n",
              "    </tr>\n",
              "    <tr>\n",
              "      <th>6</th>\n",
              "      <td>63</td>\n",
              "      <td>PHP com MySql</td>\n",
              "    </tr>\n",
              "    <tr>\n",
              "      <th>7</th>\n",
              "      <td>36</td>\n",
              "      <td>.NET para web</td>\n",
              "    </tr>\n",
              "    <tr>\n",
              "      <th>8</th>\n",
              "      <td>50</td>\n",
              "      <td>Novas integrações com Java</td>\n",
              "    </tr>\n",
              "    <tr>\n",
              "      <th>9</th>\n",
              "      <td>11</td>\n",
              "      <td>TDD com Java</td>\n",
              "    </tr>\n",
              "    <tr>\n",
              "      <th>10</th>\n",
              "      <td>1</td>\n",
              "      <td>Código limpo com C#</td>\n",
              "    </tr>\n",
              "    <tr>\n",
              "      <th>11</th>\n",
              "      <td>20</td>\n",
              "      <td>Preparatório para certificação Java</td>\n",
              "    </tr>\n",
              "    <tr>\n",
              "      <th>12</th>\n",
              "      <td>69</td>\n",
              "      <td>Hardware básico</td>\n",
              "    </tr>\n",
              "    <tr>\n",
              "      <th>13</th>\n",
              "      <td>7</td>\n",
              "      <td>Persistência com .NET</td>\n",
              "    </tr>\n",
              "    <tr>\n",
              "      <th>14</th>\n",
              "      <td>63</td>\n",
              "      <td>Desenvolvendo jogos</td>\n",
              "    </tr>\n",
              "    <tr>\n",
              "      <th>15</th>\n",
              "      <td>81</td>\n",
              "      <td>Análise de dados</td>\n",
              "    </tr>\n",
              "    <tr>\n",
              "      <th>16</th>\n",
              "      <td>45</td>\n",
              "      <td>Estatística básica</td>\n",
              "    </tr>\n",
              "    <tr>\n",
              "      <th>17</th>\n",
              "      <td>70</td>\n",
              "      <td>Internet das coisas</td>\n",
              "    </tr>\n",
              "    <tr>\n",
              "      <th>18</th>\n",
              "      <td>17</td>\n",
              "      <td>Programação funcional</td>\n",
              "    </tr>\n",
              "    <tr>\n",
              "      <th>19</th>\n",
              "      <td>57</td>\n",
              "      <td>Boas práticas em Java</td>\n",
              "    </tr>\n",
              "    <tr>\n",
              "      <th>20</th>\n",
              "      <td>54</td>\n",
              "      <td>Orientação objetos com Java</td>\n",
              "    </tr>\n",
              "  </tbody>\n",
              "</table>\n",
              "</div>"
            ],
            "text/plain": [
              "          quantidade_de_alunos                        nome_do_curso\n",
              "id_curso                                                           \n",
              "1                           18                Lógica de programação\n",
              "2                           34                        Java para Web\n",
              "3                           41                          C# para Web\n",
              "4                           17                        Ruby on Rails\n",
              "5                           53                     Cursos de Python\n",
              "6                           63                        PHP com MySql\n",
              "7                           36                        .NET para web\n",
              "8                           50           Novas integrações com Java\n",
              "9                           11                         TDD com Java\n",
              "10                           1                  Código limpo com C#\n",
              "11                          20  Preparatório para certificação Java\n",
              "12                          69                      Hardware básico\n",
              "13                           7                Persistência com .NET\n",
              "14                          63                  Desenvolvendo jogos\n",
              "15                          81                     Análise de dados\n",
              "16                          45                   Estatística básica\n",
              "17                          70                  Internet das coisas\n",
              "18                          17                Programação funcional\n",
              "19                          57                Boas práticas em Java\n",
              "20                          54          Orientação objetos com Java"
            ]
          },
          "metadata": {
            "tags": []
          },
          "execution_count": 37
        }
      ]
    },
    {
      "cell_type": "code",
      "metadata": {
        "id": "r4xvvhIftJC4",
        "colab": {
          "base_uri": "https://localhost:8080/"
        },
        "outputId": "f642a9b4-67f3-4418-deb6-02b11d1ba6b4"
      },
      "source": [
        "nomes.head(3)"
      ],
      "execution_count": null,
      "outputs": [
        {
          "output_type": "execute_result",
          "data": {
            "text/html": [
              "<div>\n",
              "<style scoped>\n",
              "    .dataframe tbody tr th:only-of-type {\n",
              "        vertical-align: middle;\n",
              "    }\n",
              "\n",
              "    .dataframe tbody tr th {\n",
              "        vertical-align: top;\n",
              "    }\n",
              "\n",
              "    .dataframe thead th {\n",
              "        text-align: right;\n",
              "    }\n",
              "</style>\n",
              "<table border=\"1\" class=\"dataframe\">\n",
              "  <thead>\n",
              "    <tr style=\"text-align: right;\">\n",
              "      <th></th>\n",
              "      <th>nome</th>\n",
              "      <th>id_aluno</th>\n",
              "      <th>dominio</th>\n",
              "      <th>email</th>\n",
              "      <th>matriculas</th>\n",
              "    </tr>\n",
              "  </thead>\n",
              "  <tbody>\n",
              "    <tr>\n",
              "      <th>0</th>\n",
              "      <td>MARIA</td>\n",
              "      <td>235</td>\n",
              "      <td>@dominiodoemail.com.br</td>\n",
              "      <td>maria@dominiodoemail.com.br</td>\n",
              "      <td>1</td>\n",
              "    </tr>\n",
              "    <tr>\n",
              "      <th>1</th>\n",
              "      <td>ANA</td>\n",
              "      <td>43</td>\n",
              "      <td>@servicodoemail.com</td>\n",
              "      <td>ana@servicodoemail.com</td>\n",
              "      <td>2</td>\n",
              "    </tr>\n",
              "    <tr>\n",
              "      <th>2</th>\n",
              "      <td>FRANCISCA</td>\n",
              "      <td>304</td>\n",
              "      <td>@servicodoemail.com</td>\n",
              "      <td>francisca@servicodoemail.com</td>\n",
              "      <td>1</td>\n",
              "    </tr>\n",
              "  </tbody>\n",
              "</table>\n",
              "</div>"
            ],
            "text/plain": [
              "        nome  id_aluno  ...                         email matriculas\n",
              "0      MARIA       235  ...   maria@dominiodoemail.com.br          1\n",
              "1        ANA        43  ...        ana@servicodoemail.com          2\n",
              "2  FRANCISCA       304  ...  francisca@servicodoemail.com          1\n",
              "\n",
              "[3 rows x 5 columns]"
            ]
          },
          "metadata": {
            "tags": []
          },
          "execution_count": 38
        }
      ]
    },
    {
      "cell_type": "code",
      "metadata": {
        "id": "eBqE30Igtw4h",
        "colab": {
          "base_uri": "https://localhost:8080/"
        },
        "outputId": "5d51ffb1-e9bf-460c-a789-adee456550c7"
      },
      "source": [
        "cursos.head()"
      ],
      "execution_count": null,
      "outputs": [
        {
          "output_type": "execute_result",
          "data": {
            "text/html": [
              "<div>\n",
              "<style scoped>\n",
              "    .dataframe tbody tr th:only-of-type {\n",
              "        vertical-align: middle;\n",
              "    }\n",
              "\n",
              "    .dataframe tbody tr th {\n",
              "        vertical-align: top;\n",
              "    }\n",
              "\n",
              "    .dataframe thead th {\n",
              "        text-align: right;\n",
              "    }\n",
              "</style>\n",
              "<table border=\"1\" class=\"dataframe\">\n",
              "  <thead>\n",
              "    <tr style=\"text-align: right;\">\n",
              "      <th></th>\n",
              "      <th>nome_do_curso</th>\n",
              "    </tr>\n",
              "    <tr>\n",
              "      <th>id</th>\n",
              "      <th></th>\n",
              "    </tr>\n",
              "  </thead>\n",
              "  <tbody>\n",
              "    <tr>\n",
              "      <th>1</th>\n",
              "      <td>Lógica de programação</td>\n",
              "    </tr>\n",
              "    <tr>\n",
              "      <th>2</th>\n",
              "      <td>Java para Web</td>\n",
              "    </tr>\n",
              "    <tr>\n",
              "      <th>3</th>\n",
              "      <td>C# para Web</td>\n",
              "    </tr>\n",
              "    <tr>\n",
              "      <th>4</th>\n",
              "      <td>Ruby on Rails</td>\n",
              "    </tr>\n",
              "    <tr>\n",
              "      <th>5</th>\n",
              "      <td>Cursos de Python</td>\n",
              "    </tr>\n",
              "  </tbody>\n",
              "</table>\n",
              "</div>"
            ],
            "text/plain": [
              "            nome_do_curso\n",
              "id                       \n",
              "1   Lógica de programação\n",
              "2           Java para Web\n",
              "3             C# para Web\n",
              "4           Ruby on Rails\n",
              "5        Cursos de Python"
            ]
          },
          "metadata": {
            "tags": []
          },
          "execution_count": 39
        }
      ]
    },
    {
      "cell_type": "code",
      "metadata": {
        "id": "5uNitwpkt2wF",
        "colab": {
          "base_uri": "https://localhost:8080/"
        },
        "outputId": "2f4c10a8-a801-4930-e21e-c9716e5553c2"
      },
      "source": [
        "matriculas.head()"
      ],
      "execution_count": null,
      "outputs": [
        {
          "output_type": "execute_result",
          "data": {
            "text/html": [
              "<div>\n",
              "<style scoped>\n",
              "    .dataframe tbody tr th:only-of-type {\n",
              "        vertical-align: middle;\n",
              "    }\n",
              "\n",
              "    .dataframe tbody tr th {\n",
              "        vertical-align: top;\n",
              "    }\n",
              "\n",
              "    .dataframe thead th {\n",
              "        text-align: right;\n",
              "    }\n",
              "</style>\n",
              "<table border=\"1\" class=\"dataframe\">\n",
              "  <thead>\n",
              "    <tr style=\"text-align: right;\">\n",
              "      <th></th>\n",
              "      <th>id_aluno</th>\n",
              "      <th>id_curso</th>\n",
              "    </tr>\n",
              "  </thead>\n",
              "  <tbody>\n",
              "    <tr>\n",
              "      <th>0</th>\n",
              "      <td>235</td>\n",
              "      <td>12</td>\n",
              "    </tr>\n",
              "    <tr>\n",
              "      <th>1</th>\n",
              "      <td>43</td>\n",
              "      <td>14</td>\n",
              "    </tr>\n",
              "    <tr>\n",
              "      <th>2</th>\n",
              "      <td>43</td>\n",
              "      <td>3</td>\n",
              "    </tr>\n",
              "    <tr>\n",
              "      <th>3</th>\n",
              "      <td>304</td>\n",
              "      <td>7</td>\n",
              "    </tr>\n",
              "    <tr>\n",
              "      <th>4</th>\n",
              "      <td>156</td>\n",
              "      <td>3</td>\n",
              "    </tr>\n",
              "  </tbody>\n",
              "</table>\n",
              "</div>"
            ],
            "text/plain": [
              "   id_aluno  id_curso\n",
              "0       235        12\n",
              "1        43        14\n",
              "2        43         3\n",
              "3       304         7\n",
              "4       156         3"
            ]
          },
          "metadata": {
            "tags": []
          },
          "execution_count": 40
        }
      ]
    },
    {
      "cell_type": "code",
      "metadata": {
        "id": "xi6ijYJ6t7RP"
      },
      "source": [
        "matriculas_por_curso = matriculas.groupby('id_curso').count().join(cursos['nome_do_curso']).rename(columns={'id_aluno': 'quantidade_de_alunos'})"
      ],
      "execution_count": null,
      "outputs": []
    },
    {
      "cell_type": "code",
      "metadata": {
        "id": "7-mI2TDzuO3U",
        "colab": {
          "base_uri": "https://localhost:8080/"
        },
        "outputId": "13a8316a-75b3-4516-e749-2e30104b3df1"
      },
      "source": [
        "matriculas_por_curso.head()"
      ],
      "execution_count": null,
      "outputs": [
        {
          "output_type": "execute_result",
          "data": {
            "text/html": [
              "<div>\n",
              "<style scoped>\n",
              "    .dataframe tbody tr th:only-of-type {\n",
              "        vertical-align: middle;\n",
              "    }\n",
              "\n",
              "    .dataframe tbody tr th {\n",
              "        vertical-align: top;\n",
              "    }\n",
              "\n",
              "    .dataframe thead th {\n",
              "        text-align: right;\n",
              "    }\n",
              "</style>\n",
              "<table border=\"1\" class=\"dataframe\">\n",
              "  <thead>\n",
              "    <tr style=\"text-align: right;\">\n",
              "      <th></th>\n",
              "      <th>quantidade_de_alunos</th>\n",
              "      <th>nome_do_curso</th>\n",
              "    </tr>\n",
              "    <tr>\n",
              "      <th>id_curso</th>\n",
              "      <th></th>\n",
              "      <th></th>\n",
              "    </tr>\n",
              "  </thead>\n",
              "  <tbody>\n",
              "    <tr>\n",
              "      <th>1</th>\n",
              "      <td>18</td>\n",
              "      <td>Lógica de programação</td>\n",
              "    </tr>\n",
              "    <tr>\n",
              "      <th>2</th>\n",
              "      <td>34</td>\n",
              "      <td>Java para Web</td>\n",
              "    </tr>\n",
              "    <tr>\n",
              "      <th>3</th>\n",
              "      <td>41</td>\n",
              "      <td>C# para Web</td>\n",
              "    </tr>\n",
              "    <tr>\n",
              "      <th>4</th>\n",
              "      <td>17</td>\n",
              "      <td>Ruby on Rails</td>\n",
              "    </tr>\n",
              "    <tr>\n",
              "      <th>5</th>\n",
              "      <td>53</td>\n",
              "      <td>Cursos de Python</td>\n",
              "    </tr>\n",
              "  </tbody>\n",
              "</table>\n",
              "</div>"
            ],
            "text/plain": [
              "          quantidade_de_alunos          nome_do_curso\n",
              "id_curso                                             \n",
              "1                           18  Lógica de programação\n",
              "2                           34          Java para Web\n",
              "3                           41            C# para Web\n",
              "4                           17          Ruby on Rails\n",
              "5                           53       Cursos de Python"
            ]
          },
          "metadata": {
            "tags": []
          },
          "execution_count": 42
        }
      ]
    },
    {
      "cell_type": "markdown",
      "metadata": {
        "id": "TBlHP35Pugbp"
      },
      "source": [
        "# **Saída em diferentes formatos**"
      ]
    },
    {
      "cell_type": "code",
      "metadata": {
        "id": "t5eWdlBGuQZe"
      },
      "source": [
        "matriculas_por_curso.to_csv('matriculas_por_curso.csv', index=False)"
      ],
      "execution_count": null,
      "outputs": []
    },
    {
      "cell_type": "code",
      "metadata": {
        "id": "6cIfRienvCm3",
        "colab": {
          "base_uri": "https://localhost:8080/",
          "height": 639
        },
        "outputId": "ee2a9ada-7d38-4708-c384-687ba39523f2"
      },
      "source": [
        "pd.read_csv('matriculas_por_curso.csv')"
      ],
      "execution_count": null,
      "outputs": [
        {
          "output_type": "execute_result",
          "data": {
            "text/html": [
              "<div>\n",
              "<style scoped>\n",
              "    .dataframe tbody tr th:only-of-type {\n",
              "        vertical-align: middle;\n",
              "    }\n",
              "\n",
              "    .dataframe tbody tr th {\n",
              "        vertical-align: top;\n",
              "    }\n",
              "\n",
              "    .dataframe thead th {\n",
              "        text-align: right;\n",
              "    }\n",
              "</style>\n",
              "<table border=\"1\" class=\"dataframe\">\n",
              "  <thead>\n",
              "    <tr style=\"text-align: right;\">\n",
              "      <th></th>\n",
              "      <th>quantidade_de_alunos</th>\n",
              "      <th>nome_do_curso</th>\n",
              "    </tr>\n",
              "  </thead>\n",
              "  <tbody>\n",
              "    <tr>\n",
              "      <th>0</th>\n",
              "      <td>18</td>\n",
              "      <td>Lógica de programação</td>\n",
              "    </tr>\n",
              "    <tr>\n",
              "      <th>1</th>\n",
              "      <td>34</td>\n",
              "      <td>Java para Web</td>\n",
              "    </tr>\n",
              "    <tr>\n",
              "      <th>2</th>\n",
              "      <td>41</td>\n",
              "      <td>C# para Web</td>\n",
              "    </tr>\n",
              "    <tr>\n",
              "      <th>3</th>\n",
              "      <td>17</td>\n",
              "      <td>Ruby on Rails</td>\n",
              "    </tr>\n",
              "    <tr>\n",
              "      <th>4</th>\n",
              "      <td>53</td>\n",
              "      <td>Cursos de Python</td>\n",
              "    </tr>\n",
              "    <tr>\n",
              "      <th>5</th>\n",
              "      <td>63</td>\n",
              "      <td>PHP com MySql</td>\n",
              "    </tr>\n",
              "    <tr>\n",
              "      <th>6</th>\n",
              "      <td>36</td>\n",
              "      <td>.NET para web</td>\n",
              "    </tr>\n",
              "    <tr>\n",
              "      <th>7</th>\n",
              "      <td>50</td>\n",
              "      <td>Novas integrações com Java</td>\n",
              "    </tr>\n",
              "    <tr>\n",
              "      <th>8</th>\n",
              "      <td>11</td>\n",
              "      <td>TDD com Java</td>\n",
              "    </tr>\n",
              "    <tr>\n",
              "      <th>9</th>\n",
              "      <td>1</td>\n",
              "      <td>Código limpo com C#</td>\n",
              "    </tr>\n",
              "    <tr>\n",
              "      <th>10</th>\n",
              "      <td>20</td>\n",
              "      <td>Preparatório para certificação Java</td>\n",
              "    </tr>\n",
              "    <tr>\n",
              "      <th>11</th>\n",
              "      <td>69</td>\n",
              "      <td>Hardware básico</td>\n",
              "    </tr>\n",
              "    <tr>\n",
              "      <th>12</th>\n",
              "      <td>7</td>\n",
              "      <td>Persistência com .NET</td>\n",
              "    </tr>\n",
              "    <tr>\n",
              "      <th>13</th>\n",
              "      <td>63</td>\n",
              "      <td>Desenvolvendo jogos</td>\n",
              "    </tr>\n",
              "    <tr>\n",
              "      <th>14</th>\n",
              "      <td>81</td>\n",
              "      <td>Análise de dados</td>\n",
              "    </tr>\n",
              "    <tr>\n",
              "      <th>15</th>\n",
              "      <td>45</td>\n",
              "      <td>Estatística básica</td>\n",
              "    </tr>\n",
              "    <tr>\n",
              "      <th>16</th>\n",
              "      <td>70</td>\n",
              "      <td>Internet das coisas</td>\n",
              "    </tr>\n",
              "    <tr>\n",
              "      <th>17</th>\n",
              "      <td>17</td>\n",
              "      <td>Programação funcional</td>\n",
              "    </tr>\n",
              "    <tr>\n",
              "      <th>18</th>\n",
              "      <td>57</td>\n",
              "      <td>Boas práticas em Java</td>\n",
              "    </tr>\n",
              "    <tr>\n",
              "      <th>19</th>\n",
              "      <td>54</td>\n",
              "      <td>Orientação objetos com Java</td>\n",
              "    </tr>\n",
              "  </tbody>\n",
              "</table>\n",
              "</div>"
            ],
            "text/plain": [
              "    quantidade_de_alunos                        nome_do_curso\n",
              "0                     18                Lógica de programação\n",
              "1                     34                        Java para Web\n",
              "2                     41                          C# para Web\n",
              "3                     17                        Ruby on Rails\n",
              "4                     53                     Cursos de Python\n",
              "5                     63                        PHP com MySql\n",
              "6                     36                        .NET para web\n",
              "7                     50           Novas integrações com Java\n",
              "8                     11                         TDD com Java\n",
              "9                      1                  Código limpo com C#\n",
              "10                    20  Preparatório para certificação Java\n",
              "11                    69                      Hardware básico\n",
              "12                     7                Persistência com .NET\n",
              "13                    63                  Desenvolvendo jogos\n",
              "14                    81                     Análise de dados\n",
              "15                    45                   Estatística básica\n",
              "16                    70                  Internet das coisas\n",
              "17                    17                Programação funcional\n",
              "18                    57                Boas práticas em Java\n",
              "19                    54          Orientação objetos com Java"
            ]
          },
          "metadata": {
            "tags": []
          },
          "execution_count": 44
        }
      ]
    },
    {
      "cell_type": "code",
      "metadata": {
        "id": "Jvh4TY7HvMI0"
      },
      "source": [
        "matriculas_json = matriculas_por_curso.to_json()"
      ],
      "execution_count": null,
      "outputs": []
    },
    {
      "cell_type": "code",
      "metadata": {
        "id": "mvil291hvXi4",
        "colab": {
          "base_uri": "https://localhost:8080/",
          "height": 119
        },
        "outputId": "7ad91a22-edbd-4d78-94bc-7a7762f71dd5"
      },
      "source": [
        "matriculas_json"
      ],
      "execution_count": null,
      "outputs": [
        {
          "output_type": "execute_result",
          "data": {
            "application/vnd.google.colaboratory.intrinsic+json": {
              "type": "string"
            },
            "text/plain": [
              "'{\"quantidade_de_alunos\":{\"1\":18,\"2\":34,\"3\":41,\"4\":17,\"5\":53,\"6\":63,\"7\":36,\"8\":50,\"9\":11,\"10\":1,\"11\":20,\"12\":69,\"13\":7,\"14\":63,\"15\":81,\"16\":45,\"17\":70,\"18\":17,\"19\":57,\"20\":54},\"nome_do_curso\":{\"1\":\"L\\\\u00f3gica de programa\\\\u00e7\\\\u00e3o\",\"2\":\"Java para Web\",\"3\":\"C# para Web\",\"4\":\"Ruby on Rails\",\"5\":\"Cursos de Python\",\"6\":\"PHP com MySql\",\"7\":\".NET para web\",\"8\":\"Novas integra\\\\u00e7\\\\u00f5es com Java\",\"9\":\"TDD com Java\",\"10\":\"C\\\\u00f3digo limpo com C#\",\"11\":\"Preparat\\\\u00f3rio para certifica\\\\u00e7\\\\u00e3o Java\",\"12\":\"Hardware b\\\\u00e1sico\",\"13\":\"Persist\\\\u00eancia com .NET\",\"14\":\"Desenvolvendo jogos\",\"15\":\"An\\\\u00e1lise de dados\",\"16\":\"Estat\\\\u00edstica b\\\\u00e1sica\",\"17\":\"Internet das coisas\",\"18\":\"Programa\\\\u00e7\\\\u00e3o funcional\",\"19\":\"Boas pr\\\\u00e1ticas em Java\",\"20\":\"Orienta\\\\u00e7\\\\u00e3o objetos com Java\"}}'"
            ]
          },
          "metadata": {
            "tags": []
          },
          "execution_count": 46
        }
      ]
    },
    {
      "cell_type": "code",
      "metadata": {
        "id": "q-16KPDgvZRz"
      },
      "source": [
        "matriculas_html = matriculas_por_curso.to_html()"
      ],
      "execution_count": null,
      "outputs": []
    },
    {
      "cell_type": "code",
      "metadata": {
        "id": "Pb59yvy7vl0z",
        "colab": {
          "base_uri": "https://localhost:8080/"
        },
        "outputId": "129d121d-6a30-41f9-c94a-80f77e478100"
      },
      "source": [
        "print(matriculas_html)"
      ],
      "execution_count": null,
      "outputs": [
        {
          "output_type": "stream",
          "text": [
            "<table border=\"1\" class=\"dataframe\">\n",
            "  <thead>\n",
            "    <tr style=\"text-align: right;\">\n",
            "      <th></th>\n",
            "      <th>quantidade_de_alunos</th>\n",
            "      <th>nome_do_curso</th>\n",
            "    </tr>\n",
            "    <tr>\n",
            "      <th>id_curso</th>\n",
            "      <th></th>\n",
            "      <th></th>\n",
            "    </tr>\n",
            "  </thead>\n",
            "  <tbody>\n",
            "    <tr>\n",
            "      <th>1</th>\n",
            "      <td>18</td>\n",
            "      <td>Lógica de programação</td>\n",
            "    </tr>\n",
            "    <tr>\n",
            "      <th>2</th>\n",
            "      <td>34</td>\n",
            "      <td>Java para Web</td>\n",
            "    </tr>\n",
            "    <tr>\n",
            "      <th>3</th>\n",
            "      <td>41</td>\n",
            "      <td>C# para Web</td>\n",
            "    </tr>\n",
            "    <tr>\n",
            "      <th>4</th>\n",
            "      <td>17</td>\n",
            "      <td>Ruby on Rails</td>\n",
            "    </tr>\n",
            "    <tr>\n",
            "      <th>5</th>\n",
            "      <td>53</td>\n",
            "      <td>Cursos de Python</td>\n",
            "    </tr>\n",
            "    <tr>\n",
            "      <th>6</th>\n",
            "      <td>63</td>\n",
            "      <td>PHP com MySql</td>\n",
            "    </tr>\n",
            "    <tr>\n",
            "      <th>7</th>\n",
            "      <td>36</td>\n",
            "      <td>.NET para web</td>\n",
            "    </tr>\n",
            "    <tr>\n",
            "      <th>8</th>\n",
            "      <td>50</td>\n",
            "      <td>Novas integrações com Java</td>\n",
            "    </tr>\n",
            "    <tr>\n",
            "      <th>9</th>\n",
            "      <td>11</td>\n",
            "      <td>TDD com Java</td>\n",
            "    </tr>\n",
            "    <tr>\n",
            "      <th>10</th>\n",
            "      <td>1</td>\n",
            "      <td>Código limpo com C#</td>\n",
            "    </tr>\n",
            "    <tr>\n",
            "      <th>11</th>\n",
            "      <td>20</td>\n",
            "      <td>Preparatório para certificação Java</td>\n",
            "    </tr>\n",
            "    <tr>\n",
            "      <th>12</th>\n",
            "      <td>69</td>\n",
            "      <td>Hardware básico</td>\n",
            "    </tr>\n",
            "    <tr>\n",
            "      <th>13</th>\n",
            "      <td>7</td>\n",
            "      <td>Persistência com .NET</td>\n",
            "    </tr>\n",
            "    <tr>\n",
            "      <th>14</th>\n",
            "      <td>63</td>\n",
            "      <td>Desenvolvendo jogos</td>\n",
            "    </tr>\n",
            "    <tr>\n",
            "      <th>15</th>\n",
            "      <td>81</td>\n",
            "      <td>Análise de dados</td>\n",
            "    </tr>\n",
            "    <tr>\n",
            "      <th>16</th>\n",
            "      <td>45</td>\n",
            "      <td>Estatística básica</td>\n",
            "    </tr>\n",
            "    <tr>\n",
            "      <th>17</th>\n",
            "      <td>70</td>\n",
            "      <td>Internet das coisas</td>\n",
            "    </tr>\n",
            "    <tr>\n",
            "      <th>18</th>\n",
            "      <td>17</td>\n",
            "      <td>Programação funcional</td>\n",
            "    </tr>\n",
            "    <tr>\n",
            "      <th>19</th>\n",
            "      <td>57</td>\n",
            "      <td>Boas práticas em Java</td>\n",
            "    </tr>\n",
            "    <tr>\n",
            "      <th>20</th>\n",
            "      <td>54</td>\n",
            "      <td>Orientação objetos com Java</td>\n",
            "    </tr>\n",
            "  </tbody>\n",
            "</table>\n"
          ],
          "name": "stdout"
        }
      ]
    },
    {
      "cell_type": "markdown",
      "metadata": {
        "id": "N_BdGGEewyW-"
      },
      "source": [
        "# **Criando o banco sql**"
      ]
    },
    {
      "cell_type": "code",
      "metadata": {
        "id": "qMAfFMbxvn7r",
        "colab": {
          "base_uri": "https://localhost:8080/"
        },
        "outputId": "e2613251-18e8-496e-84dd-de293d3ad335"
      },
      "source": [
        "!pip install sqlalchemy"
      ],
      "execution_count": null,
      "outputs": [
        {
          "output_type": "stream",
          "text": [
            "Requirement already satisfied: sqlalchemy in /usr/local/lib/python3.6/dist-packages (1.3.20)\n"
          ],
          "name": "stdout"
        }
      ]
    },
    {
      "cell_type": "code",
      "metadata": {
        "id": "4Ucmmhi_xCt7"
      },
      "source": [
        "from sqlalchemy import create_engine, MetaData, Table"
      ],
      "execution_count": null,
      "outputs": []
    },
    {
      "cell_type": "code",
      "metadata": {
        "id": "FFD9dv9cxV5l"
      },
      "source": [
        "engine = create_engine('sqlite:///:memory:')"
      ],
      "execution_count": null,
      "outputs": []
    },
    {
      "cell_type": "code",
      "metadata": {
        "id": "ae_xM3r4xm0s",
        "colab": {
          "base_uri": "https://localhost:8080/"
        },
        "outputId": "14a5832e-ee23-4b55-a94d-5c4bdbfa26a2"
      },
      "source": [
        "engine"
      ],
      "execution_count": null,
      "outputs": [
        {
          "output_type": "execute_result",
          "data": {
            "text/plain": [
              "Engine(sqlite:///:memory:)"
            ]
          },
          "metadata": {
            "tags": []
          },
          "execution_count": 53
        }
      ]
    },
    {
      "cell_type": "code",
      "metadata": {
        "id": "kWt24FGPxtrV",
        "colab": {
          "base_uri": "https://localhost:8080/"
        },
        "outputId": "7c0694e2-6177-4425-b079-d05813fd83ae"
      },
      "source": [
        "type(engine)"
      ],
      "execution_count": null,
      "outputs": [
        {
          "output_type": "execute_result",
          "data": {
            "text/plain": [
              "sqlalchemy.engine.base.Engine"
            ]
          },
          "metadata": {
            "tags": []
          },
          "execution_count": 54
        }
      ]
    },
    {
      "cell_type": "code",
      "metadata": {
        "id": "WbK7kwpkxxEv"
      },
      "source": [
        "matriculas_por_curso.to_sql('matriculas', engine)"
      ],
      "execution_count": null,
      "outputs": []
    },
    {
      "cell_type": "code",
      "metadata": {
        "id": "2-xHl0n7x3ay",
        "colab": {
          "base_uri": "https://localhost:8080/"
        },
        "outputId": "d52c6524-3410-445e-e267-df9cc50bf546"
      },
      "source": [
        "print(engine.table_names())"
      ],
      "execution_count": null,
      "outputs": [
        {
          "output_type": "stream",
          "text": [
            "['matriculas']\n"
          ],
          "name": "stdout"
        }
      ]
    },
    {
      "cell_type": "markdown",
      "metadata": {
        "id": "cYOzTblUyLEQ"
      },
      "source": [
        "# **Buscando do banco sql**"
      ]
    },
    {
      "cell_type": "code",
      "metadata": {
        "id": "N9u4I8L7yEfY"
      },
      "source": [
        "query = 'select * from matriculas where quantidade_de_alunos < 20'"
      ],
      "execution_count": null,
      "outputs": []
    },
    {
      "cell_type": "code",
      "metadata": {
        "id": "X184BDPEycPl",
        "colab": {
          "base_uri": "https://localhost:8080/",
          "height": 225
        },
        "outputId": "02baa279-c1c5-4f1a-be48-55c0bcec1105"
      },
      "source": [
        "pd.read_sql(query, engine)"
      ],
      "execution_count": null,
      "outputs": [
        {
          "output_type": "execute_result",
          "data": {
            "text/html": [
              "<div>\n",
              "<style scoped>\n",
              "    .dataframe tbody tr th:only-of-type {\n",
              "        vertical-align: middle;\n",
              "    }\n",
              "\n",
              "    .dataframe tbody tr th {\n",
              "        vertical-align: top;\n",
              "    }\n",
              "\n",
              "    .dataframe thead th {\n",
              "        text-align: right;\n",
              "    }\n",
              "</style>\n",
              "<table border=\"1\" class=\"dataframe\">\n",
              "  <thead>\n",
              "    <tr style=\"text-align: right;\">\n",
              "      <th></th>\n",
              "      <th>id_curso</th>\n",
              "      <th>quantidade_de_alunos</th>\n",
              "      <th>nome_do_curso</th>\n",
              "    </tr>\n",
              "  </thead>\n",
              "  <tbody>\n",
              "    <tr>\n",
              "      <th>0</th>\n",
              "      <td>1</td>\n",
              "      <td>18</td>\n",
              "      <td>Lógica de programação</td>\n",
              "    </tr>\n",
              "    <tr>\n",
              "      <th>1</th>\n",
              "      <td>4</td>\n",
              "      <td>17</td>\n",
              "      <td>Ruby on Rails</td>\n",
              "    </tr>\n",
              "    <tr>\n",
              "      <th>2</th>\n",
              "      <td>9</td>\n",
              "      <td>11</td>\n",
              "      <td>TDD com Java</td>\n",
              "    </tr>\n",
              "    <tr>\n",
              "      <th>3</th>\n",
              "      <td>10</td>\n",
              "      <td>1</td>\n",
              "      <td>Código limpo com C#</td>\n",
              "    </tr>\n",
              "    <tr>\n",
              "      <th>4</th>\n",
              "      <td>13</td>\n",
              "      <td>7</td>\n",
              "      <td>Persistência com .NET</td>\n",
              "    </tr>\n",
              "    <tr>\n",
              "      <th>5</th>\n",
              "      <td>18</td>\n",
              "      <td>17</td>\n",
              "      <td>Programação funcional</td>\n",
              "    </tr>\n",
              "  </tbody>\n",
              "</table>\n",
              "</div>"
            ],
            "text/plain": [
              "   id_curso  quantidade_de_alunos          nome_do_curso\n",
              "0         1                    18  Lógica de programação\n",
              "1         4                    17          Ruby on Rails\n",
              "2         9                    11           TDD com Java\n",
              "3        10                     1    Código limpo com C#\n",
              "4        13                     7  Persistência com .NET\n",
              "5        18                    17  Programação funcional"
            ]
          },
          "metadata": {
            "tags": []
          },
          "execution_count": 59
        }
      ]
    },
    {
      "cell_type": "code",
      "metadata": {
        "id": "LzB5OTkeygQ3",
        "colab": {
          "base_uri": "https://localhost:8080/",
          "height": 639
        },
        "outputId": "511fdcc4-0ab6-424f-aae1-9d9e575aa1c2"
      },
      "source": [
        "pd.read_sql_table('matriculas', engine, columns=['nome_do_curso', 'quantidade_de_alunos'])"
      ],
      "execution_count": null,
      "outputs": [
        {
          "output_type": "execute_result",
          "data": {
            "text/html": [
              "<div>\n",
              "<style scoped>\n",
              "    .dataframe tbody tr th:only-of-type {\n",
              "        vertical-align: middle;\n",
              "    }\n",
              "\n",
              "    .dataframe tbody tr th {\n",
              "        vertical-align: top;\n",
              "    }\n",
              "\n",
              "    .dataframe thead th {\n",
              "        text-align: right;\n",
              "    }\n",
              "</style>\n",
              "<table border=\"1\" class=\"dataframe\">\n",
              "  <thead>\n",
              "    <tr style=\"text-align: right;\">\n",
              "      <th></th>\n",
              "      <th>nome_do_curso</th>\n",
              "      <th>quantidade_de_alunos</th>\n",
              "    </tr>\n",
              "  </thead>\n",
              "  <tbody>\n",
              "    <tr>\n",
              "      <th>0</th>\n",
              "      <td>Lógica de programação</td>\n",
              "      <td>18</td>\n",
              "    </tr>\n",
              "    <tr>\n",
              "      <th>1</th>\n",
              "      <td>Java para Web</td>\n",
              "      <td>34</td>\n",
              "    </tr>\n",
              "    <tr>\n",
              "      <th>2</th>\n",
              "      <td>C# para Web</td>\n",
              "      <td>41</td>\n",
              "    </tr>\n",
              "    <tr>\n",
              "      <th>3</th>\n",
              "      <td>Ruby on Rails</td>\n",
              "      <td>17</td>\n",
              "    </tr>\n",
              "    <tr>\n",
              "      <th>4</th>\n",
              "      <td>Cursos de Python</td>\n",
              "      <td>53</td>\n",
              "    </tr>\n",
              "    <tr>\n",
              "      <th>5</th>\n",
              "      <td>PHP com MySql</td>\n",
              "      <td>63</td>\n",
              "    </tr>\n",
              "    <tr>\n",
              "      <th>6</th>\n",
              "      <td>.NET para web</td>\n",
              "      <td>36</td>\n",
              "    </tr>\n",
              "    <tr>\n",
              "      <th>7</th>\n",
              "      <td>Novas integrações com Java</td>\n",
              "      <td>50</td>\n",
              "    </tr>\n",
              "    <tr>\n",
              "      <th>8</th>\n",
              "      <td>TDD com Java</td>\n",
              "      <td>11</td>\n",
              "    </tr>\n",
              "    <tr>\n",
              "      <th>9</th>\n",
              "      <td>Código limpo com C#</td>\n",
              "      <td>1</td>\n",
              "    </tr>\n",
              "    <tr>\n",
              "      <th>10</th>\n",
              "      <td>Preparatório para certificação Java</td>\n",
              "      <td>20</td>\n",
              "    </tr>\n",
              "    <tr>\n",
              "      <th>11</th>\n",
              "      <td>Hardware básico</td>\n",
              "      <td>69</td>\n",
              "    </tr>\n",
              "    <tr>\n",
              "      <th>12</th>\n",
              "      <td>Persistência com .NET</td>\n",
              "      <td>7</td>\n",
              "    </tr>\n",
              "    <tr>\n",
              "      <th>13</th>\n",
              "      <td>Desenvolvendo jogos</td>\n",
              "      <td>63</td>\n",
              "    </tr>\n",
              "    <tr>\n",
              "      <th>14</th>\n",
              "      <td>Análise de dados</td>\n",
              "      <td>81</td>\n",
              "    </tr>\n",
              "    <tr>\n",
              "      <th>15</th>\n",
              "      <td>Estatística básica</td>\n",
              "      <td>45</td>\n",
              "    </tr>\n",
              "    <tr>\n",
              "      <th>16</th>\n",
              "      <td>Internet das coisas</td>\n",
              "      <td>70</td>\n",
              "    </tr>\n",
              "    <tr>\n",
              "      <th>17</th>\n",
              "      <td>Programação funcional</td>\n",
              "      <td>17</td>\n",
              "    </tr>\n",
              "    <tr>\n",
              "      <th>18</th>\n",
              "      <td>Boas práticas em Java</td>\n",
              "      <td>57</td>\n",
              "    </tr>\n",
              "    <tr>\n",
              "      <th>19</th>\n",
              "      <td>Orientação objetos com Java</td>\n",
              "      <td>54</td>\n",
              "    </tr>\n",
              "  </tbody>\n",
              "</table>\n",
              "</div>"
            ],
            "text/plain": [
              "                          nome_do_curso  quantidade_de_alunos\n",
              "0                 Lógica de programação                    18\n",
              "1                         Java para Web                    34\n",
              "2                           C# para Web                    41\n",
              "3                         Ruby on Rails                    17\n",
              "4                      Cursos de Python                    53\n",
              "5                         PHP com MySql                    63\n",
              "6                         .NET para web                    36\n",
              "7            Novas integrações com Java                    50\n",
              "8                          TDD com Java                    11\n",
              "9                   Código limpo com C#                     1\n",
              "10  Preparatório para certificação Java                    20\n",
              "11                      Hardware básico                    69\n",
              "12                Persistência com .NET                     7\n",
              "13                  Desenvolvendo jogos                    63\n",
              "14                     Análise de dados                    81\n",
              "15                   Estatística básica                    45\n",
              "16                  Internet das coisas                    70\n",
              "17                Programação funcional                    17\n",
              "18                Boas práticas em Java                    57\n",
              "19          Orientação objetos com Java                    54"
            ]
          },
          "metadata": {
            "tags": []
          },
          "execution_count": 60
        }
      ]
    },
    {
      "cell_type": "code",
      "metadata": {
        "id": "ofQ9vaM9ywLi"
      },
      "source": [
        "muitas_matriculas = pd.read_sql_table('matriculas', engine, columns=['nome_do_curso', 'quantidade_de_alunos'])"
      ],
      "execution_count": null,
      "outputs": []
    },
    {
      "cell_type": "code",
      "metadata": {
        "id": "opp5yUgoy6zA"
      },
      "source": [
        "muitas_matriculas = muitas_matriculas.query('quantidade_de_alunos > 80')"
      ],
      "execution_count": null,
      "outputs": []
    },
    {
      "cell_type": "code",
      "metadata": {
        "id": "DV7___1hy71U",
        "colab": {
          "base_uri": "https://localhost:8080/",
          "height": 77
        },
        "outputId": "b7f255c3-6fbe-4f99-a288-36df1562796c"
      },
      "source": [
        "muitas_matriculas"
      ],
      "execution_count": null,
      "outputs": [
        {
          "output_type": "execute_result",
          "data": {
            "text/html": [
              "<div>\n",
              "<style scoped>\n",
              "    .dataframe tbody tr th:only-of-type {\n",
              "        vertical-align: middle;\n",
              "    }\n",
              "\n",
              "    .dataframe tbody tr th {\n",
              "        vertical-align: top;\n",
              "    }\n",
              "\n",
              "    .dataframe thead th {\n",
              "        text-align: right;\n",
              "    }\n",
              "</style>\n",
              "<table border=\"1\" class=\"dataframe\">\n",
              "  <thead>\n",
              "    <tr style=\"text-align: right;\">\n",
              "      <th></th>\n",
              "      <th>nome_do_curso</th>\n",
              "      <th>quantidade_de_alunos</th>\n",
              "    </tr>\n",
              "  </thead>\n",
              "  <tbody>\n",
              "    <tr>\n",
              "      <th>14</th>\n",
              "      <td>Análise de dados</td>\n",
              "      <td>81</td>\n",
              "    </tr>\n",
              "  </tbody>\n",
              "</table>\n",
              "</div>"
            ],
            "text/plain": [
              "       nome_do_curso  quantidade_de_alunos\n",
              "14  Análise de dados                    81"
            ]
          },
          "metadata": {
            "tags": []
          },
          "execution_count": 65
        }
      ]
    },
    {
      "cell_type": "markdown",
      "metadata": {
        "id": "wHBud2_OzOeR"
      },
      "source": [
        "# **Escrevendo no banco**"
      ]
    },
    {
      "cell_type": "code",
      "metadata": {
        "id": "tNMaNWUFzMUm"
      },
      "source": [
        "muitas_matriculas.to_sql('muitas_matriculas', con=engine)"
      ],
      "execution_count": null,
      "outputs": []
    },
    {
      "cell_type": "code",
      "metadata": {
        "id": "PpcpVXpkzfbX",
        "colab": {
          "base_uri": "https://localhost:8080/"
        },
        "outputId": "70a29c92-36ca-48e5-fa33-f130d673439f"
      },
      "source": [
        "print(engine.table_names())"
      ],
      "execution_count": null,
      "outputs": [
        {
          "output_type": "stream",
          "text": [
            "['matriculas', 'muitas_matriculas']\n"
          ],
          "name": "stdout"
        }
      ]
    },
    {
      "cell_type": "markdown",
      "metadata": {
        "id": "chJ4m5YY3Taj"
      },
      "source": [
        "# **Nomes do alunos e alunas da próxima turma**"
      ]
    },
    {
      "cell_type": "code",
      "metadata": {
        "id": "lWD6CNumzp6W",
        "colab": {
          "base_uri": "https://localhost:8080/",
          "height": 669
        },
        "outputId": "b8f826aa-303a-4ea7-9124-6e7811de91c6"
      },
      "source": [
        "matriculas_por_curso.head(20)"
      ],
      "execution_count": null,
      "outputs": [
        {
          "output_type": "execute_result",
          "data": {
            "text/html": [
              "<div>\n",
              "<style scoped>\n",
              "    .dataframe tbody tr th:only-of-type {\n",
              "        vertical-align: middle;\n",
              "    }\n",
              "\n",
              "    .dataframe tbody tr th {\n",
              "        vertical-align: top;\n",
              "    }\n",
              "\n",
              "    .dataframe thead th {\n",
              "        text-align: right;\n",
              "    }\n",
              "</style>\n",
              "<table border=\"1\" class=\"dataframe\">\n",
              "  <thead>\n",
              "    <tr style=\"text-align: right;\">\n",
              "      <th></th>\n",
              "      <th>quantidade_de_alunos</th>\n",
              "      <th>nome_do_curso</th>\n",
              "    </tr>\n",
              "    <tr>\n",
              "      <th>id_curso</th>\n",
              "      <th></th>\n",
              "      <th></th>\n",
              "    </tr>\n",
              "  </thead>\n",
              "  <tbody>\n",
              "    <tr>\n",
              "      <th>1</th>\n",
              "      <td>18</td>\n",
              "      <td>Lógica de programação</td>\n",
              "    </tr>\n",
              "    <tr>\n",
              "      <th>2</th>\n",
              "      <td>34</td>\n",
              "      <td>Java para Web</td>\n",
              "    </tr>\n",
              "    <tr>\n",
              "      <th>3</th>\n",
              "      <td>41</td>\n",
              "      <td>C# para Web</td>\n",
              "    </tr>\n",
              "    <tr>\n",
              "      <th>4</th>\n",
              "      <td>17</td>\n",
              "      <td>Ruby on Rails</td>\n",
              "    </tr>\n",
              "    <tr>\n",
              "      <th>5</th>\n",
              "      <td>53</td>\n",
              "      <td>Cursos de Python</td>\n",
              "    </tr>\n",
              "    <tr>\n",
              "      <th>6</th>\n",
              "      <td>63</td>\n",
              "      <td>PHP com MySql</td>\n",
              "    </tr>\n",
              "    <tr>\n",
              "      <th>7</th>\n",
              "      <td>36</td>\n",
              "      <td>.NET para web</td>\n",
              "    </tr>\n",
              "    <tr>\n",
              "      <th>8</th>\n",
              "      <td>50</td>\n",
              "      <td>Novas integrações com Java</td>\n",
              "    </tr>\n",
              "    <tr>\n",
              "      <th>9</th>\n",
              "      <td>11</td>\n",
              "      <td>TDD com Java</td>\n",
              "    </tr>\n",
              "    <tr>\n",
              "      <th>10</th>\n",
              "      <td>1</td>\n",
              "      <td>Código limpo com C#</td>\n",
              "    </tr>\n",
              "    <tr>\n",
              "      <th>11</th>\n",
              "      <td>20</td>\n",
              "      <td>Preparatório para certificação Java</td>\n",
              "    </tr>\n",
              "    <tr>\n",
              "      <th>12</th>\n",
              "      <td>69</td>\n",
              "      <td>Hardware básico</td>\n",
              "    </tr>\n",
              "    <tr>\n",
              "      <th>13</th>\n",
              "      <td>7</td>\n",
              "      <td>Persistência com .NET</td>\n",
              "    </tr>\n",
              "    <tr>\n",
              "      <th>14</th>\n",
              "      <td>63</td>\n",
              "      <td>Desenvolvendo jogos</td>\n",
              "    </tr>\n",
              "    <tr>\n",
              "      <th>15</th>\n",
              "      <td>81</td>\n",
              "      <td>Análise de dados</td>\n",
              "    </tr>\n",
              "    <tr>\n",
              "      <th>16</th>\n",
              "      <td>45</td>\n",
              "      <td>Estatística básica</td>\n",
              "    </tr>\n",
              "    <tr>\n",
              "      <th>17</th>\n",
              "      <td>70</td>\n",
              "      <td>Internet das coisas</td>\n",
              "    </tr>\n",
              "    <tr>\n",
              "      <th>18</th>\n",
              "      <td>17</td>\n",
              "      <td>Programação funcional</td>\n",
              "    </tr>\n",
              "    <tr>\n",
              "      <th>19</th>\n",
              "      <td>57</td>\n",
              "      <td>Boas práticas em Java</td>\n",
              "    </tr>\n",
              "    <tr>\n",
              "      <th>20</th>\n",
              "      <td>54</td>\n",
              "      <td>Orientação objetos com Java</td>\n",
              "    </tr>\n",
              "  </tbody>\n",
              "</table>\n",
              "</div>"
            ],
            "text/plain": [
              "          quantidade_de_alunos                        nome_do_curso\n",
              "id_curso                                                           \n",
              "1                           18                Lógica de programação\n",
              "2                           34                        Java para Web\n",
              "3                           41                          C# para Web\n",
              "4                           17                        Ruby on Rails\n",
              "5                           53                     Cursos de Python\n",
              "6                           63                        PHP com MySql\n",
              "7                           36                        .NET para web\n",
              "8                           50           Novas integrações com Java\n",
              "9                           11                         TDD com Java\n",
              "10                           1                  Código limpo com C#\n",
              "11                          20  Preparatório para certificação Java\n",
              "12                          69                      Hardware básico\n",
              "13                           7                Persistência com .NET\n",
              "14                          63                  Desenvolvendo jogos\n",
              "15                          81                     Análise de dados\n",
              "16                          45                   Estatística básica\n",
              "17                          70                  Internet das coisas\n",
              "18                          17                Programação funcional\n",
              "19                          57                Boas práticas em Java\n",
              "20                          54          Orientação objetos com Java"
            ]
          },
          "metadata": {
            "tags": []
          },
          "execution_count": 69
        }
      ]
    },
    {
      "cell_type": "code",
      "metadata": {
        "id": "Y76fiii53eLf",
        "colab": {
          "base_uri": "https://localhost:8080/"
        },
        "outputId": "df8a19b0-3834-45cd-fae3-81e5dfcb0a28"
      },
      "source": [
        "matriculas"
      ],
      "execution_count": null,
      "outputs": [
        {
          "output_type": "execute_result",
          "data": {
            "text/html": [
              "<div>\n",
              "<style scoped>\n",
              "    .dataframe tbody tr th:only-of-type {\n",
              "        vertical-align: middle;\n",
              "    }\n",
              "\n",
              "    .dataframe tbody tr th {\n",
              "        vertical-align: top;\n",
              "    }\n",
              "\n",
              "    .dataframe thead th {\n",
              "        text-align: right;\n",
              "    }\n",
              "</style>\n",
              "<table border=\"1\" class=\"dataframe\">\n",
              "  <thead>\n",
              "    <tr style=\"text-align: right;\">\n",
              "      <th></th>\n",
              "      <th>id_aluno</th>\n",
              "      <th>id_curso</th>\n",
              "    </tr>\n",
              "  </thead>\n",
              "  <tbody>\n",
              "    <tr>\n",
              "      <th>0</th>\n",
              "      <td>235</td>\n",
              "      <td>12</td>\n",
              "    </tr>\n",
              "    <tr>\n",
              "      <th>1</th>\n",
              "      <td>43</td>\n",
              "      <td>14</td>\n",
              "    </tr>\n",
              "    <tr>\n",
              "      <th>2</th>\n",
              "      <td>43</td>\n",
              "      <td>3</td>\n",
              "    </tr>\n",
              "    <tr>\n",
              "      <th>3</th>\n",
              "      <td>304</td>\n",
              "      <td>7</td>\n",
              "    </tr>\n",
              "    <tr>\n",
              "      <th>4</th>\n",
              "      <td>156</td>\n",
              "      <td>3</td>\n",
              "    </tr>\n",
              "    <tr>\n",
              "      <th>...</th>\n",
              "      <td>...</td>\n",
              "      <td>...</td>\n",
              "    </tr>\n",
              "    <tr>\n",
              "      <th>802</th>\n",
              "      <td>383</td>\n",
              "      <td>7</td>\n",
              "    </tr>\n",
              "    <tr>\n",
              "      <th>803</th>\n",
              "      <td>383</td>\n",
              "      <td>5</td>\n",
              "    </tr>\n",
              "    <tr>\n",
              "      <th>804</th>\n",
              "      <td>366</td>\n",
              "      <td>8</td>\n",
              "    </tr>\n",
              "    <tr>\n",
              "      <th>805</th>\n",
              "      <td>366</td>\n",
              "      <td>16</td>\n",
              "    </tr>\n",
              "    <tr>\n",
              "      <th>806</th>\n",
              "      <td>366</td>\n",
              "      <td>6</td>\n",
              "    </tr>\n",
              "  </tbody>\n",
              "</table>\n",
              "<p>807 rows × 2 columns</p>\n",
              "</div>"
            ],
            "text/plain": [
              "     id_aluno  id_curso\n",
              "0         235        12\n",
              "1          43        14\n",
              "2          43         3\n",
              "3         304         7\n",
              "4         156         3\n",
              "..        ...       ...\n",
              "802       383         7\n",
              "803       383         5\n",
              "804       366         8\n",
              "805       366        16\n",
              "806       366         6\n",
              "\n",
              "[807 rows x 2 columns]"
            ]
          },
          "metadata": {
            "tags": []
          },
          "execution_count": 70
        }
      ]
    },
    {
      "cell_type": "code",
      "metadata": {
        "id": "h6aQsQ_P3rRp",
        "colab": {
          "base_uri": "https://localhost:8080/"
        },
        "outputId": "c3f586c1-8a92-494b-f3ab-b23ccd12ec14"
      },
      "source": [
        "id_curso = 16\n",
        "proxima_turma = matriculas.query(f'id_curso == {id_curso}')\n",
        "proxima_turma"
      ],
      "execution_count": null,
      "outputs": [
        {
          "output_type": "execute_result",
          "data": {
            "text/html": [
              "<div>\n",
              "<style scoped>\n",
              "    .dataframe tbody tr th:only-of-type {\n",
              "        vertical-align: middle;\n",
              "    }\n",
              "\n",
              "    .dataframe tbody tr th {\n",
              "        vertical-align: top;\n",
              "    }\n",
              "\n",
              "    .dataframe thead th {\n",
              "        text-align: right;\n",
              "    }\n",
              "</style>\n",
              "<table border=\"1\" class=\"dataframe\">\n",
              "  <thead>\n",
              "    <tr style=\"text-align: right;\">\n",
              "      <th></th>\n",
              "      <th>id_aluno</th>\n",
              "      <th>id_curso</th>\n",
              "    </tr>\n",
              "  </thead>\n",
              "  <tbody>\n",
              "    <tr>\n",
              "      <th>17</th>\n",
              "      <td>379</td>\n",
              "      <td>16</td>\n",
              "    </tr>\n",
              "    <tr>\n",
              "      <th>21</th>\n",
              "      <td>218</td>\n",
              "      <td>16</td>\n",
              "    </tr>\n",
              "    <tr>\n",
              "      <th>34</th>\n",
              "      <td>185</td>\n",
              "      <td>16</td>\n",
              "    </tr>\n",
              "    <tr>\n",
              "      <th>37</th>\n",
              "      <td>191</td>\n",
              "      <td>16</td>\n",
              "    </tr>\n",
              "    <tr>\n",
              "      <th>56</th>\n",
              "      <td>49</td>\n",
              "      <td>16</td>\n",
              "    </tr>\n",
              "    <tr>\n",
              "      <th>62</th>\n",
              "      <td>242</td>\n",
              "      <td>16</td>\n",
              "    </tr>\n",
              "    <tr>\n",
              "      <th>68</th>\n",
              "      <td>103</td>\n",
              "      <td>16</td>\n",
              "    </tr>\n",
              "    <tr>\n",
              "      <th>89</th>\n",
              "      <td>268</td>\n",
              "      <td>16</td>\n",
              "    </tr>\n",
              "    <tr>\n",
              "      <th>95</th>\n",
              "      <td>268</td>\n",
              "      <td>16</td>\n",
              "    </tr>\n",
              "    <tr>\n",
              "      <th>111</th>\n",
              "      <td>241</td>\n",
              "      <td>16</td>\n",
              "    </tr>\n",
              "    <tr>\n",
              "      <th>160</th>\n",
              "      <td>53</td>\n",
              "      <td>16</td>\n",
              "    </tr>\n",
              "    <tr>\n",
              "      <th>161</th>\n",
              "      <td>53</td>\n",
              "      <td>16</td>\n",
              "    </tr>\n",
              "    <tr>\n",
              "      <th>173</th>\n",
              "      <td>115</td>\n",
              "      <td>16</td>\n",
              "    </tr>\n",
              "    <tr>\n",
              "      <th>209</th>\n",
              "      <td>39</td>\n",
              "      <td>16</td>\n",
              "    </tr>\n",
              "    <tr>\n",
              "      <th>212</th>\n",
              "      <td>298</td>\n",
              "      <td>16</td>\n",
              "    </tr>\n",
              "    <tr>\n",
              "      <th>250</th>\n",
              "      <td>6</td>\n",
              "      <td>16</td>\n",
              "    </tr>\n",
              "    <tr>\n",
              "      <th>268</th>\n",
              "      <td>72</td>\n",
              "      <td>16</td>\n",
              "    </tr>\n",
              "    <tr>\n",
              "      <th>270</th>\n",
              "      <td>72</td>\n",
              "      <td>16</td>\n",
              "    </tr>\n",
              "    <tr>\n",
              "      <th>272</th>\n",
              "      <td>72</td>\n",
              "      <td>16</td>\n",
              "    </tr>\n",
              "    <tr>\n",
              "      <th>287</th>\n",
              "      <td>54</td>\n",
              "      <td>16</td>\n",
              "    </tr>\n",
              "    <tr>\n",
              "      <th>299</th>\n",
              "      <td>352</td>\n",
              "      <td>16</td>\n",
              "    </tr>\n",
              "    <tr>\n",
              "      <th>314</th>\n",
              "      <td>182</td>\n",
              "      <td>16</td>\n",
              "    </tr>\n",
              "    <tr>\n",
              "      <th>320</th>\n",
              "      <td>386</td>\n",
              "      <td>16</td>\n",
              "    </tr>\n",
              "    <tr>\n",
              "      <th>332</th>\n",
              "      <td>157</td>\n",
              "      <td>16</td>\n",
              "    </tr>\n",
              "    <tr>\n",
              "      <th>372</th>\n",
              "      <td>8</td>\n",
              "      <td>16</td>\n",
              "    </tr>\n",
              "    <tr>\n",
              "      <th>386</th>\n",
              "      <td>264</td>\n",
              "      <td>16</td>\n",
              "    </tr>\n",
              "    <tr>\n",
              "      <th>412</th>\n",
              "      <td>29</td>\n",
              "      <td>16</td>\n",
              "    </tr>\n",
              "    <tr>\n",
              "      <th>422</th>\n",
              "      <td>390</td>\n",
              "      <td>16</td>\n",
              "    </tr>\n",
              "    <tr>\n",
              "      <th>451</th>\n",
              "      <td>236</td>\n",
              "      <td>16</td>\n",
              "    </tr>\n",
              "    <tr>\n",
              "      <th>477</th>\n",
              "      <td>294</td>\n",
              "      <td>16</td>\n",
              "    </tr>\n",
              "    <tr>\n",
              "      <th>490</th>\n",
              "      <td>63</td>\n",
              "      <td>16</td>\n",
              "    </tr>\n",
              "    <tr>\n",
              "      <th>531</th>\n",
              "      <td>395</td>\n",
              "      <td>16</td>\n",
              "    </tr>\n",
              "    <tr>\n",
              "      <th>554</th>\n",
              "      <td>373</td>\n",
              "      <td>16</td>\n",
              "    </tr>\n",
              "    <tr>\n",
              "      <th>622</th>\n",
              "      <td>244</td>\n",
              "      <td>16</td>\n",
              "    </tr>\n",
              "    <tr>\n",
              "      <th>624</th>\n",
              "      <td>260</td>\n",
              "      <td>16</td>\n",
              "    </tr>\n",
              "    <tr>\n",
              "      <th>627</th>\n",
              "      <td>104</td>\n",
              "      <td>16</td>\n",
              "    </tr>\n",
              "    <tr>\n",
              "      <th>644</th>\n",
              "      <td>305</td>\n",
              "      <td>16</td>\n",
              "    </tr>\n",
              "    <tr>\n",
              "      <th>708</th>\n",
              "      <td>393</td>\n",
              "      <td>16</td>\n",
              "    </tr>\n",
              "    <tr>\n",
              "      <th>724</th>\n",
              "      <td>214</td>\n",
              "      <td>16</td>\n",
              "    </tr>\n",
              "    <tr>\n",
              "      <th>737</th>\n",
              "      <td>349</td>\n",
              "      <td>16</td>\n",
              "    </tr>\n",
              "    <tr>\n",
              "      <th>746</th>\n",
              "      <td>177</td>\n",
              "      <td>16</td>\n",
              "    </tr>\n",
              "    <tr>\n",
              "      <th>755</th>\n",
              "      <td>40</td>\n",
              "      <td>16</td>\n",
              "    </tr>\n",
              "    <tr>\n",
              "      <th>757</th>\n",
              "      <td>3</td>\n",
              "      <td>16</td>\n",
              "    </tr>\n",
              "    <tr>\n",
              "      <th>789</th>\n",
              "      <td>226</td>\n",
              "      <td>16</td>\n",
              "    </tr>\n",
              "    <tr>\n",
              "      <th>805</th>\n",
              "      <td>366</td>\n",
              "      <td>16</td>\n",
              "    </tr>\n",
              "  </tbody>\n",
              "</table>\n",
              "</div>"
            ],
            "text/plain": [
              "     id_aluno  id_curso\n",
              "17        379        16\n",
              "21        218        16\n",
              "34        185        16\n",
              "37        191        16\n",
              "56         49        16\n",
              "62        242        16\n",
              "68        103        16\n",
              "89        268        16\n",
              "95        268        16\n",
              "111       241        16\n",
              "160        53        16\n",
              "161        53        16\n",
              "173       115        16\n",
              "209        39        16\n",
              "212       298        16\n",
              "250         6        16\n",
              "268        72        16\n",
              "270        72        16\n",
              "272        72        16\n",
              "287        54        16\n",
              "299       352        16\n",
              "314       182        16\n",
              "320       386        16\n",
              "332       157        16\n",
              "372         8        16\n",
              "386       264        16\n",
              "412        29        16\n",
              "422       390        16\n",
              "451       236        16\n",
              "477       294        16\n",
              "490        63        16\n",
              "531       395        16\n",
              "554       373        16\n",
              "622       244        16\n",
              "624       260        16\n",
              "627       104        16\n",
              "644       305        16\n",
              "708       393        16\n",
              "724       214        16\n",
              "737       349        16\n",
              "746       177        16\n",
              "755        40        16\n",
              "757         3        16\n",
              "789       226        16\n",
              "805       366        16"
            ]
          },
          "metadata": {
            "tags": []
          },
          "execution_count": 71
        }
      ]
    },
    {
      "cell_type": "code",
      "metadata": {
        "id": "srSYgHI-4KtL",
        "colab": {
          "base_uri": "https://localhost:8080/"
        },
        "outputId": "d527a440-bae8-4bde-801c-48b68d32977b"
      },
      "source": [
        "nomes.sample(3)"
      ],
      "execution_count": null,
      "outputs": [
        {
          "output_type": "execute_result",
          "data": {
            "text/html": [
              "<div>\n",
              "<style scoped>\n",
              "    .dataframe tbody tr th:only-of-type {\n",
              "        vertical-align: middle;\n",
              "    }\n",
              "\n",
              "    .dataframe tbody tr th {\n",
              "        vertical-align: top;\n",
              "    }\n",
              "\n",
              "    .dataframe thead th {\n",
              "        text-align: right;\n",
              "    }\n",
              "</style>\n",
              "<table border=\"1\" class=\"dataframe\">\n",
              "  <thead>\n",
              "    <tr style=\"text-align: right;\">\n",
              "      <th></th>\n",
              "      <th>nome</th>\n",
              "      <th>id_aluno</th>\n",
              "      <th>dominio</th>\n",
              "      <th>email</th>\n",
              "      <th>matriculas</th>\n",
              "    </tr>\n",
              "  </thead>\n",
              "  <tbody>\n",
              "    <tr>\n",
              "      <th>66</th>\n",
              "      <td>PRISCILA</td>\n",
              "      <td>122</td>\n",
              "      <td>@servicodoemail.com</td>\n",
              "      <td>priscila@servicodoemail.com</td>\n",
              "      <td>2</td>\n",
              "    </tr>\n",
              "    <tr>\n",
              "      <th>138</th>\n",
              "      <td>NEUSA</td>\n",
              "      <td>75</td>\n",
              "      <td>@dominiodoemail.com.br</td>\n",
              "      <td>neusa@dominiodoemail.com.br</td>\n",
              "      <td>1</td>\n",
              "    </tr>\n",
              "    <tr>\n",
              "      <th>159</th>\n",
              "      <td>ARNALDO</td>\n",
              "      <td>359</td>\n",
              "      <td>@dominiodoemail.com.br</td>\n",
              "      <td>arnaldo@dominiodoemail.com.br</td>\n",
              "      <td>1</td>\n",
              "    </tr>\n",
              "  </tbody>\n",
              "</table>\n",
              "</div>"
            ],
            "text/plain": [
              "         nome  id_aluno  ...                          email matriculas\n",
              "66   PRISCILA       122  ...    priscila@servicodoemail.com          2\n",
              "138     NEUSA        75  ...    neusa@dominiodoemail.com.br          1\n",
              "159   ARNALDO       359  ...  arnaldo@dominiodoemail.com.br          1\n",
              "\n",
              "[3 rows x 5 columns]"
            ]
          },
          "metadata": {
            "tags": []
          },
          "execution_count": 72
        }
      ]
    },
    {
      "cell_type": "code",
      "metadata": {
        "id": "0iHir9H_4VoX",
        "colab": {
          "base_uri": "https://localhost:8080/"
        },
        "outputId": "16178862-9c08-49f1-b0df-b7d8cb1b7baa"
      },
      "source": [
        "proxima_turma.set_index('id_aluno').join(nomes.set_index('id_aluno'))"
      ],
      "execution_count": null,
      "outputs": [
        {
          "output_type": "execute_result",
          "data": {
            "text/html": [
              "<div>\n",
              "<style scoped>\n",
              "    .dataframe tbody tr th:only-of-type {\n",
              "        vertical-align: middle;\n",
              "    }\n",
              "\n",
              "    .dataframe tbody tr th {\n",
              "        vertical-align: top;\n",
              "    }\n",
              "\n",
              "    .dataframe thead th {\n",
              "        text-align: right;\n",
              "    }\n",
              "</style>\n",
              "<table border=\"1\" class=\"dataframe\">\n",
              "  <thead>\n",
              "    <tr style=\"text-align: right;\">\n",
              "      <th></th>\n",
              "      <th>id_curso</th>\n",
              "      <th>nome</th>\n",
              "      <th>dominio</th>\n",
              "      <th>email</th>\n",
              "      <th>matriculas</th>\n",
              "    </tr>\n",
              "    <tr>\n",
              "      <th>id_aluno</th>\n",
              "      <th></th>\n",
              "      <th></th>\n",
              "      <th></th>\n",
              "      <th></th>\n",
              "      <th></th>\n",
              "    </tr>\n",
              "  </thead>\n",
              "  <tbody>\n",
              "    <tr>\n",
              "      <th>3</th>\n",
              "      <td>16</td>\n",
              "      <td>VALDEMIR</td>\n",
              "      <td>@dominiodoemail.com.br</td>\n",
              "      <td>valdemir@dominiodoemail.com.br</td>\n",
              "      <td>1</td>\n",
              "    </tr>\n",
              "    <tr>\n",
              "      <th>6</th>\n",
              "      <td>16</td>\n",
              "      <td>CINTIA</td>\n",
              "      <td>@servicodoemail.com</td>\n",
              "      <td>cintia@servicodoemail.com</td>\n",
              "      <td>2</td>\n",
              "    </tr>\n",
              "    <tr>\n",
              "      <th>8</th>\n",
              "      <td>16</td>\n",
              "      <td>IRACI</td>\n",
              "      <td>@servicodoemail.com</td>\n",
              "      <td>iraci@servicodoemail.com</td>\n",
              "      <td>4</td>\n",
              "    </tr>\n",
              "    <tr>\n",
              "      <th>29</th>\n",
              "      <td>16</td>\n",
              "      <td>LUCAS</td>\n",
              "      <td>@servicodoemail.com</td>\n",
              "      <td>lucas@servicodoemail.com</td>\n",
              "      <td>3</td>\n",
              "    </tr>\n",
              "    <tr>\n",
              "      <th>39</th>\n",
              "      <td>16</td>\n",
              "      <td>DENISE</td>\n",
              "      <td>@servicodoemail.com</td>\n",
              "      <td>denise@servicodoemail.com</td>\n",
              "      <td>2</td>\n",
              "    </tr>\n",
              "    <tr>\n",
              "      <th>40</th>\n",
              "      <td>16</td>\n",
              "      <td>WELLINGTON</td>\n",
              "      <td>@servicodoemail.com</td>\n",
              "      <td>wellington@servicodoemail.com</td>\n",
              "      <td>2</td>\n",
              "    </tr>\n",
              "    <tr>\n",
              "      <th>49</th>\n",
              "      <td>16</td>\n",
              "      <td>BEATRIZ</td>\n",
              "      <td>@dominiodoemail.com.br</td>\n",
              "      <td>beatriz@dominiodoemail.com.br</td>\n",
              "      <td>2</td>\n",
              "    </tr>\n",
              "    <tr>\n",
              "      <th>53</th>\n",
              "      <td>16</td>\n",
              "      <td>JANAINA</td>\n",
              "      <td>@dominiodoemail.com.br</td>\n",
              "      <td>janaina@dominiodoemail.com.br</td>\n",
              "      <td>5</td>\n",
              "    </tr>\n",
              "    <tr>\n",
              "      <th>53</th>\n",
              "      <td>16</td>\n",
              "      <td>JANAINA</td>\n",
              "      <td>@dominiodoemail.com.br</td>\n",
              "      <td>janaina@dominiodoemail.com.br</td>\n",
              "      <td>5</td>\n",
              "    </tr>\n",
              "    <tr>\n",
              "      <th>54</th>\n",
              "      <td>16</td>\n",
              "      <td>MARGARIDA</td>\n",
              "      <td>@servicodoemail.com</td>\n",
              "      <td>margarida@servicodoemail.com</td>\n",
              "      <td>6</td>\n",
              "    </tr>\n",
              "    <tr>\n",
              "      <th>63</th>\n",
              "      <td>16</td>\n",
              "      <td>LUCIANO</td>\n",
              "      <td>@servicodoemail.com</td>\n",
              "      <td>luciano@servicodoemail.com</td>\n",
              "      <td>2</td>\n",
              "    </tr>\n",
              "    <tr>\n",
              "      <th>72</th>\n",
              "      <td>16</td>\n",
              "      <td>GABRIELE</td>\n",
              "      <td>@servicodoemail.com</td>\n",
              "      <td>gabriele@servicodoemail.com</td>\n",
              "      <td>7</td>\n",
              "    </tr>\n",
              "    <tr>\n",
              "      <th>72</th>\n",
              "      <td>16</td>\n",
              "      <td>GABRIELE</td>\n",
              "      <td>@servicodoemail.com</td>\n",
              "      <td>gabriele@servicodoemail.com</td>\n",
              "      <td>7</td>\n",
              "    </tr>\n",
              "    <tr>\n",
              "      <th>72</th>\n",
              "      <td>16</td>\n",
              "      <td>GABRIELE</td>\n",
              "      <td>@servicodoemail.com</td>\n",
              "      <td>gabriele@servicodoemail.com</td>\n",
              "      <td>7</td>\n",
              "    </tr>\n",
              "    <tr>\n",
              "      <th>103</th>\n",
              "      <td>16</td>\n",
              "      <td>JOSEFA</td>\n",
              "      <td>@servicodoemail.com</td>\n",
              "      <td>josefa@servicodoemail.com</td>\n",
              "      <td>3</td>\n",
              "    </tr>\n",
              "    <tr>\n",
              "      <th>104</th>\n",
              "      <td>16</td>\n",
              "      <td>MILTON</td>\n",
              "      <td>@dominiodoemail.com.br</td>\n",
              "      <td>milton@dominiodoemail.com.br</td>\n",
              "      <td>1</td>\n",
              "    </tr>\n",
              "    <tr>\n",
              "      <th>115</th>\n",
              "      <td>16</td>\n",
              "      <td>SILVIA</td>\n",
              "      <td>@dominiodoemail.com.br</td>\n",
              "      <td>silvia@dominiodoemail.com.br</td>\n",
              "      <td>3</td>\n",
              "    </tr>\n",
              "    <tr>\n",
              "      <th>157</th>\n",
              "      <td>16</td>\n",
              "      <td>LEILA</td>\n",
              "      <td>@dominiodoemail.com.br</td>\n",
              "      <td>leila@dominiodoemail.com.br</td>\n",
              "      <td>2</td>\n",
              "    </tr>\n",
              "    <tr>\n",
              "      <th>177</th>\n",
              "      <td>16</td>\n",
              "      <td>ISAIAS</td>\n",
              "      <td>@dominiodoemail.com.br</td>\n",
              "      <td>isaias@dominiodoemail.com.br</td>\n",
              "      <td>2</td>\n",
              "    </tr>\n",
              "    <tr>\n",
              "      <th>182</th>\n",
              "      <td>16</td>\n",
              "      <td>NICOLE</td>\n",
              "      <td>@dominiodoemail.com.br</td>\n",
              "      <td>nicole@dominiodoemail.com.br</td>\n",
              "      <td>2</td>\n",
              "    </tr>\n",
              "    <tr>\n",
              "      <th>185</th>\n",
              "      <td>16</td>\n",
              "      <td>JESSICA</td>\n",
              "      <td>@dominiodoemail.com.br</td>\n",
              "      <td>jessica@dominiodoemail.com.br</td>\n",
              "      <td>7</td>\n",
              "    </tr>\n",
              "    <tr>\n",
              "      <th>191</th>\n",
              "      <td>16</td>\n",
              "      <td>JULIA</td>\n",
              "      <td>@servicodoemail.com</td>\n",
              "      <td>julia@servicodoemail.com</td>\n",
              "      <td>4</td>\n",
              "    </tr>\n",
              "    <tr>\n",
              "      <th>214</th>\n",
              "      <td>16</td>\n",
              "      <td>JAIME</td>\n",
              "      <td>@dominiodoemail.com.br</td>\n",
              "      <td>jaime@dominiodoemail.com.br</td>\n",
              "      <td>7</td>\n",
              "    </tr>\n",
              "    <tr>\n",
              "      <th>218</th>\n",
              "      <td>16</td>\n",
              "      <td>CAMILA</td>\n",
              "      <td>@servicodoemail.com</td>\n",
              "      <td>camila@servicodoemail.com</td>\n",
              "      <td>4</td>\n",
              "    </tr>\n",
              "    <tr>\n",
              "      <th>226</th>\n",
              "      <td>16</td>\n",
              "      <td>VALDECIR</td>\n",
              "      <td>@servicodoemail.com</td>\n",
              "      <td>valdecir@servicodoemail.com</td>\n",
              "      <td>7</td>\n",
              "    </tr>\n",
              "    <tr>\n",
              "      <th>236</th>\n",
              "      <td>16</td>\n",
              "      <td>LEONARDO</td>\n",
              "      <td>@servicodoemail.com</td>\n",
              "      <td>leonardo@servicodoemail.com</td>\n",
              "      <td>1</td>\n",
              "    </tr>\n",
              "    <tr>\n",
              "      <th>241</th>\n",
              "      <td>16</td>\n",
              "      <td>LUCIA</td>\n",
              "      <td>@dominiodoemail.com.br</td>\n",
              "      <td>lucia@dominiodoemail.com.br</td>\n",
              "      <td>2</td>\n",
              "    </tr>\n",
              "    <tr>\n",
              "      <th>242</th>\n",
              "      <td>16</td>\n",
              "      <td>SONIA</td>\n",
              "      <td>@servicodoemail.com</td>\n",
              "      <td>sonia@servicodoemail.com</td>\n",
              "      <td>1</td>\n",
              "    </tr>\n",
              "    <tr>\n",
              "      <th>244</th>\n",
              "      <td>16</td>\n",
              "      <td>VANDERLEI</td>\n",
              "      <td>@dominiodoemail.com.br</td>\n",
              "      <td>vanderlei@dominiodoemail.com.br</td>\n",
              "      <td>3</td>\n",
              "    </tr>\n",
              "    <tr>\n",
              "      <th>260</th>\n",
              "      <td>16</td>\n",
              "      <td>VICENTE</td>\n",
              "      <td>@servicodoemail.com</td>\n",
              "      <td>vicente@servicodoemail.com</td>\n",
              "      <td>2</td>\n",
              "    </tr>\n",
              "    <tr>\n",
              "      <th>264</th>\n",
              "      <td>16</td>\n",
              "      <td>TERESA</td>\n",
              "      <td>@dominiodoemail.com.br</td>\n",
              "      <td>teresa@dominiodoemail.com.br</td>\n",
              "      <td>1</td>\n",
              "    </tr>\n",
              "    <tr>\n",
              "      <th>268</th>\n",
              "      <td>16</td>\n",
              "      <td>MARLENE</td>\n",
              "      <td>@servicodoemail.com</td>\n",
              "      <td>marlene@servicodoemail.com</td>\n",
              "      <td>9</td>\n",
              "    </tr>\n",
              "    <tr>\n",
              "      <th>268</th>\n",
              "      <td>16</td>\n",
              "      <td>MARLENE</td>\n",
              "      <td>@servicodoemail.com</td>\n",
              "      <td>marlene@servicodoemail.com</td>\n",
              "      <td>9</td>\n",
              "    </tr>\n",
              "    <tr>\n",
              "      <th>294</th>\n",
              "      <td>16</td>\n",
              "      <td>DIEGO</td>\n",
              "      <td>@dominiodoemail.com.br</td>\n",
              "      <td>diego@dominiodoemail.com.br</td>\n",
              "      <td>6</td>\n",
              "    </tr>\n",
              "    <tr>\n",
              "      <th>298</th>\n",
              "      <td>16</td>\n",
              "      <td>GISELE</td>\n",
              "      <td>@servicodoemail.com</td>\n",
              "      <td>gisele@servicodoemail.com</td>\n",
              "      <td>1</td>\n",
              "    </tr>\n",
              "    <tr>\n",
              "      <th>305</th>\n",
              "      <td>16</td>\n",
              "      <td>ADEMIR</td>\n",
              "      <td>@dominiodoemail.com.br</td>\n",
              "      <td>ademir@dominiodoemail.com.br</td>\n",
              "      <td>4</td>\n",
              "    </tr>\n",
              "    <tr>\n",
              "      <th>349</th>\n",
              "      <td>16</td>\n",
              "      <td>DAMIAO</td>\n",
              "      <td>@dominiodoemail.com.br</td>\n",
              "      <td>damiao@dominiodoemail.com.br</td>\n",
              "      <td>6</td>\n",
              "    </tr>\n",
              "    <tr>\n",
              "      <th>352</th>\n",
              "      <td>16</td>\n",
              "      <td>SAMARA</td>\n",
              "      <td>@dominiodoemail.com.br</td>\n",
              "      <td>samara@dominiodoemail.com.br</td>\n",
              "      <td>3</td>\n",
              "    </tr>\n",
              "    <tr>\n",
              "      <th>366</th>\n",
              "      <td>16</td>\n",
              "      <td>GEOVANE</td>\n",
              "      <td>@servicodoemail.com</td>\n",
              "      <td>geovane@servicodoemail.com</td>\n",
              "      <td>3</td>\n",
              "    </tr>\n",
              "    <tr>\n",
              "      <th>373</th>\n",
              "      <td>16</td>\n",
              "      <td>EMERSON</td>\n",
              "      <td>@servicodoemail.com</td>\n",
              "      <td>emerson@servicodoemail.com</td>\n",
              "      <td>5</td>\n",
              "    </tr>\n",
              "    <tr>\n",
              "      <th>379</th>\n",
              "      <td>16</td>\n",
              "      <td>PATRICIA</td>\n",
              "      <td>@servicodoemail.com</td>\n",
              "      <td>patricia@servicodoemail.com</td>\n",
              "      <td>3</td>\n",
              "    </tr>\n",
              "    <tr>\n",
              "      <th>386</th>\n",
              "      <td>16</td>\n",
              "      <td>YASMIN</td>\n",
              "      <td>@servicodoemail.com</td>\n",
              "      <td>yasmin@servicodoemail.com</td>\n",
              "      <td>3</td>\n",
              "    </tr>\n",
              "    <tr>\n",
              "      <th>390</th>\n",
              "      <td>16</td>\n",
              "      <td>MARCOS</td>\n",
              "      <td>@dominiodoemail.com.br</td>\n",
              "      <td>marcos@dominiodoemail.com.br</td>\n",
              "      <td>1</td>\n",
              "    </tr>\n",
              "    <tr>\n",
              "      <th>393</th>\n",
              "      <td>16</td>\n",
              "      <td>JOSUE</td>\n",
              "      <td>@servicodoemail.com</td>\n",
              "      <td>josue@servicodoemail.com</td>\n",
              "      <td>2</td>\n",
              "    </tr>\n",
              "    <tr>\n",
              "      <th>395</th>\n",
              "      <td>16</td>\n",
              "      <td>MAURICIO</td>\n",
              "      <td>@servicodoemail.com</td>\n",
              "      <td>mauricio@servicodoemail.com</td>\n",
              "      <td>2</td>\n",
              "    </tr>\n",
              "  </tbody>\n",
              "</table>\n",
              "</div>"
            ],
            "text/plain": [
              "          id_curso        nome  ...                            email matriculas\n",
              "id_aluno                        ...                                            \n",
              "3               16    VALDEMIR  ...   valdemir@dominiodoemail.com.br          1\n",
              "6               16      CINTIA  ...        cintia@servicodoemail.com          2\n",
              "8               16       IRACI  ...         iraci@servicodoemail.com          4\n",
              "29              16       LUCAS  ...         lucas@servicodoemail.com          3\n",
              "39              16      DENISE  ...        denise@servicodoemail.com          2\n",
              "40              16  WELLINGTON  ...    wellington@servicodoemail.com          2\n",
              "49              16     BEATRIZ  ...    beatriz@dominiodoemail.com.br          2\n",
              "53              16     JANAINA  ...    janaina@dominiodoemail.com.br          5\n",
              "53              16     JANAINA  ...    janaina@dominiodoemail.com.br          5\n",
              "54              16   MARGARIDA  ...     margarida@servicodoemail.com          6\n",
              "63              16     LUCIANO  ...       luciano@servicodoemail.com          2\n",
              "72              16    GABRIELE  ...      gabriele@servicodoemail.com          7\n",
              "72              16    GABRIELE  ...      gabriele@servicodoemail.com          7\n",
              "72              16    GABRIELE  ...      gabriele@servicodoemail.com          7\n",
              "103             16      JOSEFA  ...        josefa@servicodoemail.com          3\n",
              "104             16      MILTON  ...     milton@dominiodoemail.com.br          1\n",
              "115             16      SILVIA  ...     silvia@dominiodoemail.com.br          3\n",
              "157             16       LEILA  ...      leila@dominiodoemail.com.br          2\n",
              "177             16      ISAIAS  ...     isaias@dominiodoemail.com.br          2\n",
              "182             16      NICOLE  ...     nicole@dominiodoemail.com.br          2\n",
              "185             16     JESSICA  ...    jessica@dominiodoemail.com.br          7\n",
              "191             16       JULIA  ...         julia@servicodoemail.com          4\n",
              "214             16       JAIME  ...      jaime@dominiodoemail.com.br          7\n",
              "218             16      CAMILA  ...        camila@servicodoemail.com          4\n",
              "226             16    VALDECIR  ...      valdecir@servicodoemail.com          7\n",
              "236             16    LEONARDO  ...      leonardo@servicodoemail.com          1\n",
              "241             16       LUCIA  ...      lucia@dominiodoemail.com.br          2\n",
              "242             16       SONIA  ...         sonia@servicodoemail.com          1\n",
              "244             16   VANDERLEI  ...  vanderlei@dominiodoemail.com.br          3\n",
              "260             16     VICENTE  ...       vicente@servicodoemail.com          2\n",
              "264             16      TERESA  ...     teresa@dominiodoemail.com.br          1\n",
              "268             16     MARLENE  ...       marlene@servicodoemail.com          9\n",
              "268             16     MARLENE  ...       marlene@servicodoemail.com          9\n",
              "294             16       DIEGO  ...      diego@dominiodoemail.com.br          6\n",
              "298             16      GISELE  ...        gisele@servicodoemail.com          1\n",
              "305             16      ADEMIR  ...     ademir@dominiodoemail.com.br          4\n",
              "349             16      DAMIAO  ...     damiao@dominiodoemail.com.br          6\n",
              "352             16      SAMARA  ...     samara@dominiodoemail.com.br          3\n",
              "366             16     GEOVANE  ...       geovane@servicodoemail.com          3\n",
              "373             16     EMERSON  ...       emerson@servicodoemail.com          5\n",
              "379             16    PATRICIA  ...      patricia@servicodoemail.com          3\n",
              "386             16      YASMIN  ...        yasmin@servicodoemail.com          3\n",
              "390             16      MARCOS  ...     marcos@dominiodoemail.com.br          1\n",
              "393             16       JOSUE  ...         josue@servicodoemail.com          2\n",
              "395             16    MAURICIO  ...      mauricio@servicodoemail.com          2\n",
              "\n",
              "[45 rows x 5 columns]"
            ]
          },
          "metadata": {
            "tags": []
          },
          "execution_count": 73
        }
      ]
    },
    {
      "cell_type": "code",
      "metadata": {
        "id": "hG-ZhI1j4jQ8",
        "colab": {
          "base_uri": "https://localhost:8080/"
        },
        "outputId": "414d5bb7-9633-4d08-cfb3-06c44f38b5d6"
      },
      "source": [
        "proxima_turma.set_index('id_aluno').join(nomes.set_index('id_aluno'))['nome']"
      ],
      "execution_count": null,
      "outputs": [
        {
          "output_type": "execute_result",
          "data": {
            "text/plain": [
              "id_aluno\n",
              "3        VALDEMIR\n",
              "6          CINTIA\n",
              "8           IRACI\n",
              "29          LUCAS\n",
              "39         DENISE\n",
              "40     WELLINGTON\n",
              "49        BEATRIZ\n",
              "53        JANAINA\n",
              "53        JANAINA\n",
              "54      MARGARIDA\n",
              "63        LUCIANO\n",
              "72       GABRIELE\n",
              "72       GABRIELE\n",
              "72       GABRIELE\n",
              "103        JOSEFA\n",
              "104        MILTON\n",
              "115        SILVIA\n",
              "157         LEILA\n",
              "177        ISAIAS\n",
              "182        NICOLE\n",
              "185       JESSICA\n",
              "191         JULIA\n",
              "214         JAIME\n",
              "218        CAMILA\n",
              "226      VALDECIR\n",
              "236      LEONARDO\n",
              "241         LUCIA\n",
              "242         SONIA\n",
              "244     VANDERLEI\n",
              "260       VICENTE\n",
              "264        TERESA\n",
              "268       MARLENE\n",
              "268       MARLENE\n",
              "294         DIEGO\n",
              "298        GISELE\n",
              "305        ADEMIR\n",
              "349        DAMIAO\n",
              "352        SAMARA\n",
              "366       GEOVANE\n",
              "373       EMERSON\n",
              "379      PATRICIA\n",
              "386        YASMIN\n",
              "390        MARCOS\n",
              "393         JOSUE\n",
              "395      MAURICIO\n",
              "Name: nome, dtype: object"
            ]
          },
          "metadata": {
            "tags": []
          },
          "execution_count": 74
        }
      ]
    },
    {
      "cell_type": "code",
      "metadata": {
        "id": "JU_0J5ct4vnq",
        "colab": {
          "base_uri": "https://localhost:8080/",
          "height": 1000
        },
        "outputId": "dcb9899d-a816-4b64-82b0-c4946dbf8cdf"
      },
      "source": [
        "proxima_turma.set_index('id_aluno').join(nomes.set_index('id_aluno'))['nome'].to_frame()"
      ],
      "execution_count": null,
      "outputs": [
        {
          "output_type": "execute_result",
          "data": {
            "text/html": [
              "<div>\n",
              "<style scoped>\n",
              "    .dataframe tbody tr th:only-of-type {\n",
              "        vertical-align: middle;\n",
              "    }\n",
              "\n",
              "    .dataframe tbody tr th {\n",
              "        vertical-align: top;\n",
              "    }\n",
              "\n",
              "    .dataframe thead th {\n",
              "        text-align: right;\n",
              "    }\n",
              "</style>\n",
              "<table border=\"1\" class=\"dataframe\">\n",
              "  <thead>\n",
              "    <tr style=\"text-align: right;\">\n",
              "      <th></th>\n",
              "      <th>nome</th>\n",
              "    </tr>\n",
              "    <tr>\n",
              "      <th>id_aluno</th>\n",
              "      <th></th>\n",
              "    </tr>\n",
              "  </thead>\n",
              "  <tbody>\n",
              "    <tr>\n",
              "      <th>3</th>\n",
              "      <td>VALDEMIR</td>\n",
              "    </tr>\n",
              "    <tr>\n",
              "      <th>6</th>\n",
              "      <td>CINTIA</td>\n",
              "    </tr>\n",
              "    <tr>\n",
              "      <th>8</th>\n",
              "      <td>IRACI</td>\n",
              "    </tr>\n",
              "    <tr>\n",
              "      <th>29</th>\n",
              "      <td>LUCAS</td>\n",
              "    </tr>\n",
              "    <tr>\n",
              "      <th>39</th>\n",
              "      <td>DENISE</td>\n",
              "    </tr>\n",
              "    <tr>\n",
              "      <th>40</th>\n",
              "      <td>WELLINGTON</td>\n",
              "    </tr>\n",
              "    <tr>\n",
              "      <th>49</th>\n",
              "      <td>BEATRIZ</td>\n",
              "    </tr>\n",
              "    <tr>\n",
              "      <th>53</th>\n",
              "      <td>JANAINA</td>\n",
              "    </tr>\n",
              "    <tr>\n",
              "      <th>53</th>\n",
              "      <td>JANAINA</td>\n",
              "    </tr>\n",
              "    <tr>\n",
              "      <th>54</th>\n",
              "      <td>MARGARIDA</td>\n",
              "    </tr>\n",
              "    <tr>\n",
              "      <th>63</th>\n",
              "      <td>LUCIANO</td>\n",
              "    </tr>\n",
              "    <tr>\n",
              "      <th>72</th>\n",
              "      <td>GABRIELE</td>\n",
              "    </tr>\n",
              "    <tr>\n",
              "      <th>72</th>\n",
              "      <td>GABRIELE</td>\n",
              "    </tr>\n",
              "    <tr>\n",
              "      <th>72</th>\n",
              "      <td>GABRIELE</td>\n",
              "    </tr>\n",
              "    <tr>\n",
              "      <th>103</th>\n",
              "      <td>JOSEFA</td>\n",
              "    </tr>\n",
              "    <tr>\n",
              "      <th>104</th>\n",
              "      <td>MILTON</td>\n",
              "    </tr>\n",
              "    <tr>\n",
              "      <th>115</th>\n",
              "      <td>SILVIA</td>\n",
              "    </tr>\n",
              "    <tr>\n",
              "      <th>157</th>\n",
              "      <td>LEILA</td>\n",
              "    </tr>\n",
              "    <tr>\n",
              "      <th>177</th>\n",
              "      <td>ISAIAS</td>\n",
              "    </tr>\n",
              "    <tr>\n",
              "      <th>182</th>\n",
              "      <td>NICOLE</td>\n",
              "    </tr>\n",
              "    <tr>\n",
              "      <th>185</th>\n",
              "      <td>JESSICA</td>\n",
              "    </tr>\n",
              "    <tr>\n",
              "      <th>191</th>\n",
              "      <td>JULIA</td>\n",
              "    </tr>\n",
              "    <tr>\n",
              "      <th>214</th>\n",
              "      <td>JAIME</td>\n",
              "    </tr>\n",
              "    <tr>\n",
              "      <th>218</th>\n",
              "      <td>CAMILA</td>\n",
              "    </tr>\n",
              "    <tr>\n",
              "      <th>226</th>\n",
              "      <td>VALDECIR</td>\n",
              "    </tr>\n",
              "    <tr>\n",
              "      <th>236</th>\n",
              "      <td>LEONARDO</td>\n",
              "    </tr>\n",
              "    <tr>\n",
              "      <th>241</th>\n",
              "      <td>LUCIA</td>\n",
              "    </tr>\n",
              "    <tr>\n",
              "      <th>242</th>\n",
              "      <td>SONIA</td>\n",
              "    </tr>\n",
              "    <tr>\n",
              "      <th>244</th>\n",
              "      <td>VANDERLEI</td>\n",
              "    </tr>\n",
              "    <tr>\n",
              "      <th>260</th>\n",
              "      <td>VICENTE</td>\n",
              "    </tr>\n",
              "    <tr>\n",
              "      <th>264</th>\n",
              "      <td>TERESA</td>\n",
              "    </tr>\n",
              "    <tr>\n",
              "      <th>268</th>\n",
              "      <td>MARLENE</td>\n",
              "    </tr>\n",
              "    <tr>\n",
              "      <th>268</th>\n",
              "      <td>MARLENE</td>\n",
              "    </tr>\n",
              "    <tr>\n",
              "      <th>294</th>\n",
              "      <td>DIEGO</td>\n",
              "    </tr>\n",
              "    <tr>\n",
              "      <th>298</th>\n",
              "      <td>GISELE</td>\n",
              "    </tr>\n",
              "    <tr>\n",
              "      <th>305</th>\n",
              "      <td>ADEMIR</td>\n",
              "    </tr>\n",
              "    <tr>\n",
              "      <th>349</th>\n",
              "      <td>DAMIAO</td>\n",
              "    </tr>\n",
              "    <tr>\n",
              "      <th>352</th>\n",
              "      <td>SAMARA</td>\n",
              "    </tr>\n",
              "    <tr>\n",
              "      <th>366</th>\n",
              "      <td>GEOVANE</td>\n",
              "    </tr>\n",
              "    <tr>\n",
              "      <th>373</th>\n",
              "      <td>EMERSON</td>\n",
              "    </tr>\n",
              "    <tr>\n",
              "      <th>379</th>\n",
              "      <td>PATRICIA</td>\n",
              "    </tr>\n",
              "    <tr>\n",
              "      <th>386</th>\n",
              "      <td>YASMIN</td>\n",
              "    </tr>\n",
              "    <tr>\n",
              "      <th>390</th>\n",
              "      <td>MARCOS</td>\n",
              "    </tr>\n",
              "    <tr>\n",
              "      <th>393</th>\n",
              "      <td>JOSUE</td>\n",
              "    </tr>\n",
              "    <tr>\n",
              "      <th>395</th>\n",
              "      <td>MAURICIO</td>\n",
              "    </tr>\n",
              "  </tbody>\n",
              "</table>\n",
              "</div>"
            ],
            "text/plain": [
              "                nome\n",
              "id_aluno            \n",
              "3           VALDEMIR\n",
              "6             CINTIA\n",
              "8              IRACI\n",
              "29             LUCAS\n",
              "39            DENISE\n",
              "40        WELLINGTON\n",
              "49           BEATRIZ\n",
              "53           JANAINA\n",
              "53           JANAINA\n",
              "54         MARGARIDA\n",
              "63           LUCIANO\n",
              "72          GABRIELE\n",
              "72          GABRIELE\n",
              "72          GABRIELE\n",
              "103           JOSEFA\n",
              "104           MILTON\n",
              "115           SILVIA\n",
              "157            LEILA\n",
              "177           ISAIAS\n",
              "182           NICOLE\n",
              "185          JESSICA\n",
              "191            JULIA\n",
              "214            JAIME\n",
              "218           CAMILA\n",
              "226         VALDECIR\n",
              "236         LEONARDO\n",
              "241            LUCIA\n",
              "242            SONIA\n",
              "244        VANDERLEI\n",
              "260          VICENTE\n",
              "264           TERESA\n",
              "268          MARLENE\n",
              "268          MARLENE\n",
              "294            DIEGO\n",
              "298           GISELE\n",
              "305           ADEMIR\n",
              "349           DAMIAO\n",
              "352           SAMARA\n",
              "366          GEOVANE\n",
              "373          EMERSON\n",
              "379         PATRICIA\n",
              "386           YASMIN\n",
              "390           MARCOS\n",
              "393            JOSUE\n",
              "395         MAURICIO"
            ]
          },
          "metadata": {
            "tags": []
          },
          "execution_count": 75
        }
      ]
    },
    {
      "cell_type": "code",
      "metadata": {
        "id": "uv1kAXoA45yZ",
        "colab": {
          "base_uri": "https://localhost:8080/"
        },
        "outputId": "ac342a80-4c7f-4e20-c84f-98c1e0baedaf"
      },
      "source": [
        "nome_curso = cursos.loc[id_curso]\n",
        "nome_curso"
      ],
      "execution_count": null,
      "outputs": [
        {
          "output_type": "execute_result",
          "data": {
            "text/plain": [
              "nome_do_curso    Estatística básica\n",
              "Name: 16, dtype: object"
            ]
          },
          "metadata": {
            "tags": []
          },
          "execution_count": 77
        }
      ]
    },
    {
      "cell_type": "code",
      "metadata": {
        "id": "1J1hHGHf5SXf",
        "colab": {
          "base_uri": "https://localhost:8080/",
          "height": 35
        },
        "outputId": "7366cc07-e3e4-4a89-c52c-cdaddd65022d"
      },
      "source": [
        "nome_curso = nome_curso.nome_do_curso\n",
        "nome_curso"
      ],
      "execution_count": null,
      "outputs": [
        {
          "output_type": "execute_result",
          "data": {
            "application/vnd.google.colaboratory.intrinsic+json": {
              "type": "string"
            },
            "text/plain": [
              "'Estatística básica'"
            ]
          },
          "metadata": {
            "tags": []
          },
          "execution_count": 78
        }
      ]
    },
    {
      "cell_type": "code",
      "metadata": {
        "id": "YM2jAlfO5d__",
        "colab": {
          "base_uri": "https://localhost:8080/",
          "height": 1000
        },
        "outputId": "05ec0385-5c53-415e-b83a-0858968625f7"
      },
      "source": [
        "proxima_turma = proxima_turma.set_index('id_aluno').join(nomes.set_index('id_aluno'))['nome'].to_frame()\n",
        "proxima_turma"
      ],
      "execution_count": null,
      "outputs": [
        {
          "output_type": "execute_result",
          "data": {
            "text/html": [
              "<div>\n",
              "<style scoped>\n",
              "    .dataframe tbody tr th:only-of-type {\n",
              "        vertical-align: middle;\n",
              "    }\n",
              "\n",
              "    .dataframe tbody tr th {\n",
              "        vertical-align: top;\n",
              "    }\n",
              "\n",
              "    .dataframe thead th {\n",
              "        text-align: right;\n",
              "    }\n",
              "</style>\n",
              "<table border=\"1\" class=\"dataframe\">\n",
              "  <thead>\n",
              "    <tr style=\"text-align: right;\">\n",
              "      <th></th>\n",
              "      <th>nome</th>\n",
              "    </tr>\n",
              "    <tr>\n",
              "      <th>id_aluno</th>\n",
              "      <th></th>\n",
              "    </tr>\n",
              "  </thead>\n",
              "  <tbody>\n",
              "    <tr>\n",
              "      <th>3</th>\n",
              "      <td>VALDEMIR</td>\n",
              "    </tr>\n",
              "    <tr>\n",
              "      <th>6</th>\n",
              "      <td>CINTIA</td>\n",
              "    </tr>\n",
              "    <tr>\n",
              "      <th>8</th>\n",
              "      <td>IRACI</td>\n",
              "    </tr>\n",
              "    <tr>\n",
              "      <th>29</th>\n",
              "      <td>LUCAS</td>\n",
              "    </tr>\n",
              "    <tr>\n",
              "      <th>39</th>\n",
              "      <td>DENISE</td>\n",
              "    </tr>\n",
              "    <tr>\n",
              "      <th>40</th>\n",
              "      <td>WELLINGTON</td>\n",
              "    </tr>\n",
              "    <tr>\n",
              "      <th>49</th>\n",
              "      <td>BEATRIZ</td>\n",
              "    </tr>\n",
              "    <tr>\n",
              "      <th>53</th>\n",
              "      <td>JANAINA</td>\n",
              "    </tr>\n",
              "    <tr>\n",
              "      <th>53</th>\n",
              "      <td>JANAINA</td>\n",
              "    </tr>\n",
              "    <tr>\n",
              "      <th>54</th>\n",
              "      <td>MARGARIDA</td>\n",
              "    </tr>\n",
              "    <tr>\n",
              "      <th>63</th>\n",
              "      <td>LUCIANO</td>\n",
              "    </tr>\n",
              "    <tr>\n",
              "      <th>72</th>\n",
              "      <td>GABRIELE</td>\n",
              "    </tr>\n",
              "    <tr>\n",
              "      <th>72</th>\n",
              "      <td>GABRIELE</td>\n",
              "    </tr>\n",
              "    <tr>\n",
              "      <th>72</th>\n",
              "      <td>GABRIELE</td>\n",
              "    </tr>\n",
              "    <tr>\n",
              "      <th>103</th>\n",
              "      <td>JOSEFA</td>\n",
              "    </tr>\n",
              "    <tr>\n",
              "      <th>104</th>\n",
              "      <td>MILTON</td>\n",
              "    </tr>\n",
              "    <tr>\n",
              "      <th>115</th>\n",
              "      <td>SILVIA</td>\n",
              "    </tr>\n",
              "    <tr>\n",
              "      <th>157</th>\n",
              "      <td>LEILA</td>\n",
              "    </tr>\n",
              "    <tr>\n",
              "      <th>177</th>\n",
              "      <td>ISAIAS</td>\n",
              "    </tr>\n",
              "    <tr>\n",
              "      <th>182</th>\n",
              "      <td>NICOLE</td>\n",
              "    </tr>\n",
              "    <tr>\n",
              "      <th>185</th>\n",
              "      <td>JESSICA</td>\n",
              "    </tr>\n",
              "    <tr>\n",
              "      <th>191</th>\n",
              "      <td>JULIA</td>\n",
              "    </tr>\n",
              "    <tr>\n",
              "      <th>214</th>\n",
              "      <td>JAIME</td>\n",
              "    </tr>\n",
              "    <tr>\n",
              "      <th>218</th>\n",
              "      <td>CAMILA</td>\n",
              "    </tr>\n",
              "    <tr>\n",
              "      <th>226</th>\n",
              "      <td>VALDECIR</td>\n",
              "    </tr>\n",
              "    <tr>\n",
              "      <th>236</th>\n",
              "      <td>LEONARDO</td>\n",
              "    </tr>\n",
              "    <tr>\n",
              "      <th>241</th>\n",
              "      <td>LUCIA</td>\n",
              "    </tr>\n",
              "    <tr>\n",
              "      <th>242</th>\n",
              "      <td>SONIA</td>\n",
              "    </tr>\n",
              "    <tr>\n",
              "      <th>244</th>\n",
              "      <td>VANDERLEI</td>\n",
              "    </tr>\n",
              "    <tr>\n",
              "      <th>260</th>\n",
              "      <td>VICENTE</td>\n",
              "    </tr>\n",
              "    <tr>\n",
              "      <th>264</th>\n",
              "      <td>TERESA</td>\n",
              "    </tr>\n",
              "    <tr>\n",
              "      <th>268</th>\n",
              "      <td>MARLENE</td>\n",
              "    </tr>\n",
              "    <tr>\n",
              "      <th>268</th>\n",
              "      <td>MARLENE</td>\n",
              "    </tr>\n",
              "    <tr>\n",
              "      <th>294</th>\n",
              "      <td>DIEGO</td>\n",
              "    </tr>\n",
              "    <tr>\n",
              "      <th>298</th>\n",
              "      <td>GISELE</td>\n",
              "    </tr>\n",
              "    <tr>\n",
              "      <th>305</th>\n",
              "      <td>ADEMIR</td>\n",
              "    </tr>\n",
              "    <tr>\n",
              "      <th>349</th>\n",
              "      <td>DAMIAO</td>\n",
              "    </tr>\n",
              "    <tr>\n",
              "      <th>352</th>\n",
              "      <td>SAMARA</td>\n",
              "    </tr>\n",
              "    <tr>\n",
              "      <th>366</th>\n",
              "      <td>GEOVANE</td>\n",
              "    </tr>\n",
              "    <tr>\n",
              "      <th>373</th>\n",
              "      <td>EMERSON</td>\n",
              "    </tr>\n",
              "    <tr>\n",
              "      <th>379</th>\n",
              "      <td>PATRICIA</td>\n",
              "    </tr>\n",
              "    <tr>\n",
              "      <th>386</th>\n",
              "      <td>YASMIN</td>\n",
              "    </tr>\n",
              "    <tr>\n",
              "      <th>390</th>\n",
              "      <td>MARCOS</td>\n",
              "    </tr>\n",
              "    <tr>\n",
              "      <th>393</th>\n",
              "      <td>JOSUE</td>\n",
              "    </tr>\n",
              "    <tr>\n",
              "      <th>395</th>\n",
              "      <td>MAURICIO</td>\n",
              "    </tr>\n",
              "  </tbody>\n",
              "</table>\n",
              "</div>"
            ],
            "text/plain": [
              "                nome\n",
              "id_aluno            \n",
              "3           VALDEMIR\n",
              "6             CINTIA\n",
              "8              IRACI\n",
              "29             LUCAS\n",
              "39            DENISE\n",
              "40        WELLINGTON\n",
              "49           BEATRIZ\n",
              "53           JANAINA\n",
              "53           JANAINA\n",
              "54         MARGARIDA\n",
              "63           LUCIANO\n",
              "72          GABRIELE\n",
              "72          GABRIELE\n",
              "72          GABRIELE\n",
              "103           JOSEFA\n",
              "104           MILTON\n",
              "115           SILVIA\n",
              "157            LEILA\n",
              "177           ISAIAS\n",
              "182           NICOLE\n",
              "185          JESSICA\n",
              "191            JULIA\n",
              "214            JAIME\n",
              "218           CAMILA\n",
              "226         VALDECIR\n",
              "236         LEONARDO\n",
              "241            LUCIA\n",
              "242            SONIA\n",
              "244        VANDERLEI\n",
              "260          VICENTE\n",
              "264           TERESA\n",
              "268          MARLENE\n",
              "268          MARLENE\n",
              "294            DIEGO\n",
              "298           GISELE\n",
              "305           ADEMIR\n",
              "349           DAMIAO\n",
              "352           SAMARA\n",
              "366          GEOVANE\n",
              "373          EMERSON\n",
              "379         PATRICIA\n",
              "386           YASMIN\n",
              "390           MARCOS\n",
              "393            JOSUE\n",
              "395         MAURICIO"
            ]
          },
          "metadata": {
            "tags": []
          },
          "execution_count": 79
        }
      ]
    },
    {
      "cell_type": "code",
      "metadata": {
        "id": "cSBCbQ6z5uRz"
      },
      "source": [
        "proxima_turma = proxima_turma.rename(columns={'nome': f'Alunos do curso de {nome_curso}'})"
      ],
      "execution_count": null,
      "outputs": []
    },
    {
      "cell_type": "code",
      "metadata": {
        "id": "dvjhDdL56DU5",
        "colab": {
          "base_uri": "https://localhost:8080/"
        },
        "outputId": "6b8b3b9a-4c92-4845-923f-4e9f7e4e47f1"
      },
      "source": [
        "proxima_turma = proxima_turma.drop_duplicates()\n",
        "proxima_turma"
      ],
      "execution_count": null,
      "outputs": [
        {
          "output_type": "execute_result",
          "data": {
            "text/html": [
              "<div>\n",
              "<style scoped>\n",
              "    .dataframe tbody tr th:only-of-type {\n",
              "        vertical-align: middle;\n",
              "    }\n",
              "\n",
              "    .dataframe tbody tr th {\n",
              "        vertical-align: top;\n",
              "    }\n",
              "\n",
              "    .dataframe thead th {\n",
              "        text-align: right;\n",
              "    }\n",
              "</style>\n",
              "<table border=\"1\" class=\"dataframe\">\n",
              "  <thead>\n",
              "    <tr style=\"text-align: right;\">\n",
              "      <th></th>\n",
              "      <th>Alunos do curso de Estatística básica</th>\n",
              "    </tr>\n",
              "    <tr>\n",
              "      <th>id_aluno</th>\n",
              "      <th></th>\n",
              "    </tr>\n",
              "  </thead>\n",
              "  <tbody>\n",
              "    <tr>\n",
              "      <th>3</th>\n",
              "      <td>VALDEMIR</td>\n",
              "    </tr>\n",
              "    <tr>\n",
              "      <th>6</th>\n",
              "      <td>CINTIA</td>\n",
              "    </tr>\n",
              "    <tr>\n",
              "      <th>8</th>\n",
              "      <td>IRACI</td>\n",
              "    </tr>\n",
              "    <tr>\n",
              "      <th>29</th>\n",
              "      <td>LUCAS</td>\n",
              "    </tr>\n",
              "    <tr>\n",
              "      <th>39</th>\n",
              "      <td>DENISE</td>\n",
              "    </tr>\n",
              "    <tr>\n",
              "      <th>40</th>\n",
              "      <td>WELLINGTON</td>\n",
              "    </tr>\n",
              "    <tr>\n",
              "      <th>49</th>\n",
              "      <td>BEATRIZ</td>\n",
              "    </tr>\n",
              "    <tr>\n",
              "      <th>53</th>\n",
              "      <td>JANAINA</td>\n",
              "    </tr>\n",
              "    <tr>\n",
              "      <th>54</th>\n",
              "      <td>MARGARIDA</td>\n",
              "    </tr>\n",
              "    <tr>\n",
              "      <th>63</th>\n",
              "      <td>LUCIANO</td>\n",
              "    </tr>\n",
              "    <tr>\n",
              "      <th>72</th>\n",
              "      <td>GABRIELE</td>\n",
              "    </tr>\n",
              "    <tr>\n",
              "      <th>103</th>\n",
              "      <td>JOSEFA</td>\n",
              "    </tr>\n",
              "    <tr>\n",
              "      <th>104</th>\n",
              "      <td>MILTON</td>\n",
              "    </tr>\n",
              "    <tr>\n",
              "      <th>115</th>\n",
              "      <td>SILVIA</td>\n",
              "    </tr>\n",
              "    <tr>\n",
              "      <th>157</th>\n",
              "      <td>LEILA</td>\n",
              "    </tr>\n",
              "    <tr>\n",
              "      <th>177</th>\n",
              "      <td>ISAIAS</td>\n",
              "    </tr>\n",
              "    <tr>\n",
              "      <th>182</th>\n",
              "      <td>NICOLE</td>\n",
              "    </tr>\n",
              "    <tr>\n",
              "      <th>185</th>\n",
              "      <td>JESSICA</td>\n",
              "    </tr>\n",
              "    <tr>\n",
              "      <th>191</th>\n",
              "      <td>JULIA</td>\n",
              "    </tr>\n",
              "    <tr>\n",
              "      <th>214</th>\n",
              "      <td>JAIME</td>\n",
              "    </tr>\n",
              "    <tr>\n",
              "      <th>218</th>\n",
              "      <td>CAMILA</td>\n",
              "    </tr>\n",
              "    <tr>\n",
              "      <th>226</th>\n",
              "      <td>VALDECIR</td>\n",
              "    </tr>\n",
              "    <tr>\n",
              "      <th>236</th>\n",
              "      <td>LEONARDO</td>\n",
              "    </tr>\n",
              "    <tr>\n",
              "      <th>241</th>\n",
              "      <td>LUCIA</td>\n",
              "    </tr>\n",
              "    <tr>\n",
              "      <th>242</th>\n",
              "      <td>SONIA</td>\n",
              "    </tr>\n",
              "    <tr>\n",
              "      <th>244</th>\n",
              "      <td>VANDERLEI</td>\n",
              "    </tr>\n",
              "    <tr>\n",
              "      <th>260</th>\n",
              "      <td>VICENTE</td>\n",
              "    </tr>\n",
              "    <tr>\n",
              "      <th>264</th>\n",
              "      <td>TERESA</td>\n",
              "    </tr>\n",
              "    <tr>\n",
              "      <th>268</th>\n",
              "      <td>MARLENE</td>\n",
              "    </tr>\n",
              "    <tr>\n",
              "      <th>294</th>\n",
              "      <td>DIEGO</td>\n",
              "    </tr>\n",
              "    <tr>\n",
              "      <th>298</th>\n",
              "      <td>GISELE</td>\n",
              "    </tr>\n",
              "    <tr>\n",
              "      <th>305</th>\n",
              "      <td>ADEMIR</td>\n",
              "    </tr>\n",
              "    <tr>\n",
              "      <th>349</th>\n",
              "      <td>DAMIAO</td>\n",
              "    </tr>\n",
              "    <tr>\n",
              "      <th>352</th>\n",
              "      <td>SAMARA</td>\n",
              "    </tr>\n",
              "    <tr>\n",
              "      <th>366</th>\n",
              "      <td>GEOVANE</td>\n",
              "    </tr>\n",
              "    <tr>\n",
              "      <th>373</th>\n",
              "      <td>EMERSON</td>\n",
              "    </tr>\n",
              "    <tr>\n",
              "      <th>379</th>\n",
              "      <td>PATRICIA</td>\n",
              "    </tr>\n",
              "    <tr>\n",
              "      <th>386</th>\n",
              "      <td>YASMIN</td>\n",
              "    </tr>\n",
              "    <tr>\n",
              "      <th>390</th>\n",
              "      <td>MARCOS</td>\n",
              "    </tr>\n",
              "    <tr>\n",
              "      <th>393</th>\n",
              "      <td>JOSUE</td>\n",
              "    </tr>\n",
              "    <tr>\n",
              "      <th>395</th>\n",
              "      <td>MAURICIO</td>\n",
              "    </tr>\n",
              "  </tbody>\n",
              "</table>\n",
              "</div>"
            ],
            "text/plain": [
              "         Alunos do curso de Estatística básica\n",
              "id_aluno                                      \n",
              "3                                     VALDEMIR\n",
              "6                                       CINTIA\n",
              "8                                        IRACI\n",
              "29                                       LUCAS\n",
              "39                                      DENISE\n",
              "40                                  WELLINGTON\n",
              "49                                     BEATRIZ\n",
              "53                                     JANAINA\n",
              "54                                   MARGARIDA\n",
              "63                                     LUCIANO\n",
              "72                                    GABRIELE\n",
              "103                                     JOSEFA\n",
              "104                                     MILTON\n",
              "115                                     SILVIA\n",
              "157                                      LEILA\n",
              "177                                     ISAIAS\n",
              "182                                     NICOLE\n",
              "185                                    JESSICA\n",
              "191                                      JULIA\n",
              "214                                      JAIME\n",
              "218                                     CAMILA\n",
              "226                                   VALDECIR\n",
              "236                                   LEONARDO\n",
              "241                                      LUCIA\n",
              "242                                      SONIA\n",
              "244                                  VANDERLEI\n",
              "260                                    VICENTE\n",
              "264                                     TERESA\n",
              "268                                    MARLENE\n",
              "294                                      DIEGO\n",
              "298                                     GISELE\n",
              "305                                     ADEMIR\n",
              "349                                     DAMIAO\n",
              "352                                     SAMARA\n",
              "366                                    GEOVANE\n",
              "373                                    EMERSON\n",
              "379                                   PATRICIA\n",
              "386                                     YASMIN\n",
              "390                                     MARCOS\n",
              "393                                      JOSUE\n",
              "395                                   MAURICIO"
            ]
          },
          "metadata": {
            "tags": []
          },
          "execution_count": 84
        }
      ]
    },
    {
      "cell_type": "markdown",
      "metadata": {
        "id": "qOi-gWfZ7hZn"
      },
      "source": [
        "# **Excel**"
      ]
    },
    {
      "cell_type": "code",
      "metadata": {
        "id": "pEVizp7l6MSZ"
      },
      "source": [
        "proxima_turma.to_excel('proxima_turma.xlsx', index=False)"
      ],
      "execution_count": null,
      "outputs": []
    },
    {
      "cell_type": "code",
      "metadata": {
        "id": "-2fHnZuV7vLX",
        "colab": {
          "base_uri": "https://localhost:8080/",
          "height": 1000
        },
        "outputId": "a2d5c85c-714c-47af-bfd5-2bb0af701b1b"
      },
      "source": [
        "pd.read_excel('proxima_turma.xlsx')"
      ],
      "execution_count": null,
      "outputs": [
        {
          "output_type": "execute_result",
          "data": {
            "text/html": [
              "<div>\n",
              "<style scoped>\n",
              "    .dataframe tbody tr th:only-of-type {\n",
              "        vertical-align: middle;\n",
              "    }\n",
              "\n",
              "    .dataframe tbody tr th {\n",
              "        vertical-align: top;\n",
              "    }\n",
              "\n",
              "    .dataframe thead th {\n",
              "        text-align: right;\n",
              "    }\n",
              "</style>\n",
              "<table border=\"1\" class=\"dataframe\">\n",
              "  <thead>\n",
              "    <tr style=\"text-align: right;\">\n",
              "      <th></th>\n",
              "      <th>Alunos do curso de Estatística básica</th>\n",
              "    </tr>\n",
              "  </thead>\n",
              "  <tbody>\n",
              "    <tr>\n",
              "      <th>0</th>\n",
              "      <td>VALDEMIR</td>\n",
              "    </tr>\n",
              "    <tr>\n",
              "      <th>1</th>\n",
              "      <td>CINTIA</td>\n",
              "    </tr>\n",
              "    <tr>\n",
              "      <th>2</th>\n",
              "      <td>IRACI</td>\n",
              "    </tr>\n",
              "    <tr>\n",
              "      <th>3</th>\n",
              "      <td>LUCAS</td>\n",
              "    </tr>\n",
              "    <tr>\n",
              "      <th>4</th>\n",
              "      <td>DENISE</td>\n",
              "    </tr>\n",
              "    <tr>\n",
              "      <th>5</th>\n",
              "      <td>WELLINGTON</td>\n",
              "    </tr>\n",
              "    <tr>\n",
              "      <th>6</th>\n",
              "      <td>BEATRIZ</td>\n",
              "    </tr>\n",
              "    <tr>\n",
              "      <th>7</th>\n",
              "      <td>JANAINA</td>\n",
              "    </tr>\n",
              "    <tr>\n",
              "      <th>8</th>\n",
              "      <td>MARGARIDA</td>\n",
              "    </tr>\n",
              "    <tr>\n",
              "      <th>9</th>\n",
              "      <td>LUCIANO</td>\n",
              "    </tr>\n",
              "    <tr>\n",
              "      <th>10</th>\n",
              "      <td>GABRIELE</td>\n",
              "    </tr>\n",
              "    <tr>\n",
              "      <th>11</th>\n",
              "      <td>JOSEFA</td>\n",
              "    </tr>\n",
              "    <tr>\n",
              "      <th>12</th>\n",
              "      <td>MILTON</td>\n",
              "    </tr>\n",
              "    <tr>\n",
              "      <th>13</th>\n",
              "      <td>SILVIA</td>\n",
              "    </tr>\n",
              "    <tr>\n",
              "      <th>14</th>\n",
              "      <td>LEILA</td>\n",
              "    </tr>\n",
              "    <tr>\n",
              "      <th>15</th>\n",
              "      <td>ISAIAS</td>\n",
              "    </tr>\n",
              "    <tr>\n",
              "      <th>16</th>\n",
              "      <td>NICOLE</td>\n",
              "    </tr>\n",
              "    <tr>\n",
              "      <th>17</th>\n",
              "      <td>JESSICA</td>\n",
              "    </tr>\n",
              "    <tr>\n",
              "      <th>18</th>\n",
              "      <td>JULIA</td>\n",
              "    </tr>\n",
              "    <tr>\n",
              "      <th>19</th>\n",
              "      <td>JAIME</td>\n",
              "    </tr>\n",
              "    <tr>\n",
              "      <th>20</th>\n",
              "      <td>CAMILA</td>\n",
              "    </tr>\n",
              "    <tr>\n",
              "      <th>21</th>\n",
              "      <td>VALDECIR</td>\n",
              "    </tr>\n",
              "    <tr>\n",
              "      <th>22</th>\n",
              "      <td>LEONARDO</td>\n",
              "    </tr>\n",
              "    <tr>\n",
              "      <th>23</th>\n",
              "      <td>LUCIA</td>\n",
              "    </tr>\n",
              "    <tr>\n",
              "      <th>24</th>\n",
              "      <td>SONIA</td>\n",
              "    </tr>\n",
              "    <tr>\n",
              "      <th>25</th>\n",
              "      <td>VANDERLEI</td>\n",
              "    </tr>\n",
              "    <tr>\n",
              "      <th>26</th>\n",
              "      <td>VICENTE</td>\n",
              "    </tr>\n",
              "    <tr>\n",
              "      <th>27</th>\n",
              "      <td>TERESA</td>\n",
              "    </tr>\n",
              "    <tr>\n",
              "      <th>28</th>\n",
              "      <td>MARLENE</td>\n",
              "    </tr>\n",
              "    <tr>\n",
              "      <th>29</th>\n",
              "      <td>DIEGO</td>\n",
              "    </tr>\n",
              "    <tr>\n",
              "      <th>30</th>\n",
              "      <td>GISELE</td>\n",
              "    </tr>\n",
              "    <tr>\n",
              "      <th>31</th>\n",
              "      <td>ADEMIR</td>\n",
              "    </tr>\n",
              "    <tr>\n",
              "      <th>32</th>\n",
              "      <td>DAMIAO</td>\n",
              "    </tr>\n",
              "    <tr>\n",
              "      <th>33</th>\n",
              "      <td>SAMARA</td>\n",
              "    </tr>\n",
              "    <tr>\n",
              "      <th>34</th>\n",
              "      <td>GEOVANE</td>\n",
              "    </tr>\n",
              "    <tr>\n",
              "      <th>35</th>\n",
              "      <td>EMERSON</td>\n",
              "    </tr>\n",
              "    <tr>\n",
              "      <th>36</th>\n",
              "      <td>PATRICIA</td>\n",
              "    </tr>\n",
              "    <tr>\n",
              "      <th>37</th>\n",
              "      <td>YASMIN</td>\n",
              "    </tr>\n",
              "    <tr>\n",
              "      <th>38</th>\n",
              "      <td>MARCOS</td>\n",
              "    </tr>\n",
              "    <tr>\n",
              "      <th>39</th>\n",
              "      <td>JOSUE</td>\n",
              "    </tr>\n",
              "    <tr>\n",
              "      <th>40</th>\n",
              "      <td>MAURICIO</td>\n",
              "    </tr>\n",
              "  </tbody>\n",
              "</table>\n",
              "</div>"
            ],
            "text/plain": [
              "   Alunos do curso de Estatística básica\n",
              "0                               VALDEMIR\n",
              "1                                 CINTIA\n",
              "2                                  IRACI\n",
              "3                                  LUCAS\n",
              "4                                 DENISE\n",
              "5                             WELLINGTON\n",
              "6                                BEATRIZ\n",
              "7                                JANAINA\n",
              "8                              MARGARIDA\n",
              "9                                LUCIANO\n",
              "10                              GABRIELE\n",
              "11                                JOSEFA\n",
              "12                                MILTON\n",
              "13                                SILVIA\n",
              "14                                 LEILA\n",
              "15                                ISAIAS\n",
              "16                                NICOLE\n",
              "17                               JESSICA\n",
              "18                                 JULIA\n",
              "19                                 JAIME\n",
              "20                                CAMILA\n",
              "21                              VALDECIR\n",
              "22                              LEONARDO\n",
              "23                                 LUCIA\n",
              "24                                 SONIA\n",
              "25                             VANDERLEI\n",
              "26                               VICENTE\n",
              "27                                TERESA\n",
              "28                               MARLENE\n",
              "29                                 DIEGO\n",
              "30                                GISELE\n",
              "31                                ADEMIR\n",
              "32                                DAMIAO\n",
              "33                                SAMARA\n",
              "34                               GEOVANE\n",
              "35                               EMERSON\n",
              "36                              PATRICIA\n",
              "37                                YASMIN\n",
              "38                                MARCOS\n",
              "39                                 JOSUE\n",
              "40                              MAURICIO"
            ]
          },
          "metadata": {
            "tags": []
          },
          "execution_count": 86
        }
      ]
    },
    {
      "cell_type": "code",
      "metadata": {
        "id": "vUtPF6tG8IbW"
      },
      "source": [
        ""
      ],
      "execution_count": null,
      "outputs": []
    }
  ]
}