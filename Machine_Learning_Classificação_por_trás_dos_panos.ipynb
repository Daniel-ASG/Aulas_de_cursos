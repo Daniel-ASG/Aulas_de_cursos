{
  "nbformat": 4,
  "nbformat_minor": 0,
  "metadata": {
    "colab": {
      "name": "Machine Learning: Classificação por trás dos panos.ipynb",
      "provenance": [],
      "toc_visible": true,
      "authorship_tag": "ABX9TyP+dct4kD4BqnIbcPUxUg9Z",
      "include_colab_link": true
    },
    "kernelspec": {
      "name": "python3",
      "display_name": "Python 3"
    },
    "language_info": {
      "name": "python"
    }
  },
  "cells": [
    {
      "cell_type": "markdown",
      "metadata": {
        "id": "view-in-github",
        "colab_type": "text"
      },
      "source": [
        "<a href=\"https://colab.research.google.com/github/Daniel-ASG/Aulas_de_cursos/blob/main/Machine_Learning_Classifica%C3%A7%C3%A3o_por_tr%C3%A1s_dos_panos.ipynb\" target=\"_parent\"><img src=\"https://colab.research.google.com/assets/colab-badge.svg\" alt=\"Open In Colab\"/></a>"
      ]
    },
    {
      "cell_type": "markdown",
      "metadata": {
        "id": "4Expu1-GUpl6"
      },
      "source": [
        "# Aula 1"
      ]
    },
    {
      "cell_type": "markdown",
      "metadata": {
        "id": "2prDNZuqUunP"
      },
      "source": [
        "## Classificação de animais"
      ]
    },
    {
      "cell_type": "code",
      "metadata": {
        "id": "Zmsfhvc5G1BL"
      },
      "source": [
        "porco1 =    [1, 1, 0]\n",
        "porco2 =    [1, 1, 0]\n",
        "porco3 =    [1, 1, 0]\n",
        "cachorro4 = [1, 1, 1]\n",
        "cachorro5 = [0, 1, 1]\n",
        "cachorro6 = [0, 1, 1]\n",
        "\n",
        "dados = [porco1, porco2, porco3, cachorro4, cachorro5, cachorro6]\n",
        "\n",
        "marcacoes = [1, 1, 1, -1, -1, -1]\n",
        "\n",
        "misterioso1 = [1, 1, 1]\n",
        "misterioso2 = [1, 0, 0]\n",
        "teste = [misterioso1, misterioso2]"
      ],
      "execution_count": 1,
      "outputs": []
    },
    {
      "cell_type": "code",
      "metadata": {
        "id": "lJi5KIRtM2sd"
      },
      "source": [
        "from sklearn.naive_bayes import MultinomialNB"
      ],
      "execution_count": 2,
      "outputs": []
    },
    {
      "cell_type": "code",
      "metadata": {
        "colab": {
          "base_uri": "https://localhost:8080/"
        },
        "id": "bOVrzB6TM3SR",
        "outputId": "e23f7570-d3b4-4eba-bf7d-4d860888eb91"
      },
      "source": [
        "modelo = MultinomialNB()\n",
        "modelo.fit(dados, marcacoes)"
      ],
      "execution_count": 3,
      "outputs": [
        {
          "output_type": "execute_result",
          "data": {
            "text/plain": [
              "MultinomialNB(alpha=1.0, class_prior=None, fit_prior=True)"
            ]
          },
          "metadata": {
            "tags": []
          },
          "execution_count": 3
        }
      ]
    },
    {
      "cell_type": "code",
      "metadata": {
        "colab": {
          "base_uri": "https://localhost:8080/"
        },
        "id": "F4LwspGeNKs9",
        "outputId": "11de6fd7-658b-4933-ba6d-4ffe6ecafa43"
      },
      "source": [
        "print(modelo.predict(teste))"
      ],
      "execution_count": 4,
      "outputs": [
        {
          "output_type": "stream",
          "text": [
            "[-1  1]\n"
          ],
          "name": "stdout"
        }
      ]
    },
    {
      "cell_type": "markdown",
      "metadata": {
        "id": "S1R0yjONRWGb"
      },
      "source": [
        "Vamos testar o quanto os resultados estão adequados ou não"
      ]
    },
    {
      "cell_type": "code",
      "metadata": {
        "colab": {
          "base_uri": "https://localhost:8080/"
        },
        "id": "9kjGR_W4NQiA",
        "outputId": "d83a48a7-a2cd-4e24-e35e-9d200ea36ac8"
      },
      "source": [
        "# [é gordinho?, tem perninha curta?, faz auau?]\n",
        "misterioso1 = [1, 1, 1]\n",
        "misterioso2 = [1, 0, 0]\n",
        "misterioso3 = [0, 0, 1]\n",
        "\n",
        "teste = [misterioso1, misterioso2, misterioso3]\n",
        "marcacoes_teste = [-1, 1, -1]\n",
        "\n",
        "resultado = modelo.predict(teste)\n",
        "print(resultado)"
      ],
      "execution_count": 19,
      "outputs": [
        {
          "output_type": "stream",
          "text": [
            "[-1  1 -1]\n"
          ],
          "name": "stdout"
        }
      ]
    },
    {
      "cell_type": "code",
      "metadata": {
        "id": "Tr29Azvcv84M",
        "colab": {
          "base_uri": "https://localhost:8080/"
        },
        "outputId": "01377497-06b6-441a-e56c-f64b3f1ed66b"
      },
      "source": [
        "diferencas = resultado - marcacoes_teste\n",
        "print(diferencas)"
      ],
      "execution_count": 20,
      "outputs": [
        {
          "output_type": "stream",
          "text": [
            "[0 0 0]\n"
          ],
          "name": "stdout"
        }
      ]
    },
    {
      "cell_type": "code",
      "metadata": {
        "colab": {
          "base_uri": "https://localhost:8080/"
        },
        "id": "WQl4bWt8SGR8",
        "outputId": "1e60e424-f1e3-4a08-de03-1ec907471ae1"
      },
      "source": [
        "acertos = [d for d in diferencas if d==0]\n",
        "total_de_acertos = len(acertos)\n",
        "total_de_elementos = len(teste)\n",
        "taxa_de_acertos = total_de_acertos / total_de_elementos * 100\n",
        "print(f'{taxa_de_acertos} %')"
      ],
      "execution_count": 21,
      "outputs": [
        {
          "output_type": "stream",
          "text": [
            "100.0 %\n"
          ],
          "name": "stdout"
        }
      ]
    },
    {
      "cell_type": "code",
      "metadata": {
        "colab": {
          "base_uri": "https://localhost:8080/"
        },
        "id": "qcU4MSIsSymO",
        "outputId": "1af0da5d-23cc-4cc1-87a1-ba5ce31d2da1"
      },
      "source": [
        "misterioso1 = [1, 1, 1]\n",
        "misterioso2 = [1, 0, 0]\n",
        "misterioso3 = [1, 0, 1] # alteramos aqui\n",
        "teste = [misterioso1, misterioso2, misterioso3]\n",
        "marcacoes_teste = [-1, 1, 1] # alteramos aqui\n",
        "\n",
        "resultado = modelo.predict(teste)\n",
        "diferencas = resultado - marcacoes_teste\n",
        "print(diferencas)\n",
        "acertos = [d for d in diferencas if d==0]\n",
        "total_de_acertos = len(acertos)\n",
        "total_de_elementos = len(teste)\n",
        "taxa_de_acertos = total_de_acertos / total_de_elementos * 100\n",
        "print(f'{taxa_de_acertos:.1f} %')"
      ],
      "execution_count": 24,
      "outputs": [
        {
          "output_type": "stream",
          "text": [
            "[ 0  0 -2]\n",
            "66.7 %\n"
          ],
          "name": "stdout"
        }
      ]
    },
    {
      "cell_type": "markdown",
      "metadata": {
        "id": "QJYgGkrWUoJE"
      },
      "source": [
        "## Classificação na Web"
      ]
    },
    {
      "cell_type": "code",
      "metadata": {
        "id": "Bt4WI3fUT_TI"
      },
      "source": [
        "import pandas as pd"
      ],
      "execution_count": 25,
      "outputs": []
    },
    {
      "cell_type": "code",
      "metadata": {
        "colab": {
          "base_uri": "https://localhost:8080/",
          "height": 988
        },
        "id": "gaJlGdsLYLow",
        "outputId": "0a5ac2bd-1d2f-4160-ba8c-f6b82dcaec8f"
      },
      "source": [
        "dados = pd.read_csv('https://raw.githubusercontent.com/alura-cursos/machine-learning-introducao-a-classificacao/master/acesso.csv')\n",
        "X = dados.drop('comprou', axis=1)\n",
        "Y = dados.comprou\n",
        "display(dados)\n",
        "display(X)\n",
        "display(Y)"
      ],
      "execution_count": 47,
      "outputs": [
        {
          "output_type": "display_data",
          "data": {
            "text/html": [
              "<div>\n",
              "<style scoped>\n",
              "    .dataframe tbody tr th:only-of-type {\n",
              "        vertical-align: middle;\n",
              "    }\n",
              "\n",
              "    .dataframe tbody tr th {\n",
              "        vertical-align: top;\n",
              "    }\n",
              "\n",
              "    .dataframe thead th {\n",
              "        text-align: right;\n",
              "    }\n",
              "</style>\n",
              "<table border=\"1\" class=\"dataframe\">\n",
              "  <thead>\n",
              "    <tr style=\"text-align: right;\">\n",
              "      <th></th>\n",
              "      <th>home</th>\n",
              "      <th>como_funciona</th>\n",
              "      <th>contato</th>\n",
              "      <th>comprou</th>\n",
              "    </tr>\n",
              "  </thead>\n",
              "  <tbody>\n",
              "    <tr>\n",
              "      <th>0</th>\n",
              "      <td>1</td>\n",
              "      <td>1</td>\n",
              "      <td>0</td>\n",
              "      <td>0</td>\n",
              "    </tr>\n",
              "    <tr>\n",
              "      <th>1</th>\n",
              "      <td>1</td>\n",
              "      <td>1</td>\n",
              "      <td>0</td>\n",
              "      <td>0</td>\n",
              "    </tr>\n",
              "    <tr>\n",
              "      <th>2</th>\n",
              "      <td>1</td>\n",
              "      <td>1</td>\n",
              "      <td>0</td>\n",
              "      <td>0</td>\n",
              "    </tr>\n",
              "    <tr>\n",
              "      <th>3</th>\n",
              "      <td>1</td>\n",
              "      <td>1</td>\n",
              "      <td>0</td>\n",
              "      <td>0</td>\n",
              "    </tr>\n",
              "    <tr>\n",
              "      <th>4</th>\n",
              "      <td>1</td>\n",
              "      <td>1</td>\n",
              "      <td>0</td>\n",
              "      <td>0</td>\n",
              "    </tr>\n",
              "    <tr>\n",
              "      <th>...</th>\n",
              "      <td>...</td>\n",
              "      <td>...</td>\n",
              "      <td>...</td>\n",
              "      <td>...</td>\n",
              "    </tr>\n",
              "    <tr>\n",
              "      <th>94</th>\n",
              "      <td>0</td>\n",
              "      <td>0</td>\n",
              "      <td>1</td>\n",
              "      <td>0</td>\n",
              "    </tr>\n",
              "    <tr>\n",
              "      <th>95</th>\n",
              "      <td>1</td>\n",
              "      <td>1</td>\n",
              "      <td>1</td>\n",
              "      <td>1</td>\n",
              "    </tr>\n",
              "    <tr>\n",
              "      <th>96</th>\n",
              "      <td>0</td>\n",
              "      <td>0</td>\n",
              "      <td>1</td>\n",
              "      <td>0</td>\n",
              "    </tr>\n",
              "    <tr>\n",
              "      <th>97</th>\n",
              "      <td>0</td>\n",
              "      <td>1</td>\n",
              "      <td>0</td>\n",
              "      <td>0</td>\n",
              "    </tr>\n",
              "    <tr>\n",
              "      <th>98</th>\n",
              "      <td>0</td>\n",
              "      <td>0</td>\n",
              "      <td>0</td>\n",
              "      <td>0</td>\n",
              "    </tr>\n",
              "  </tbody>\n",
              "</table>\n",
              "<p>99 rows × 4 columns</p>\n",
              "</div>"
            ],
            "text/plain": [
              "    home  como_funciona  contato  comprou\n",
              "0      1              1        0        0\n",
              "1      1              1        0        0\n",
              "2      1              1        0        0\n",
              "3      1              1        0        0\n",
              "4      1              1        0        0\n",
              "..   ...            ...      ...      ...\n",
              "94     0              0        1        0\n",
              "95     1              1        1        1\n",
              "96     0              0        1        0\n",
              "97     0              1        0        0\n",
              "98     0              0        0        0\n",
              "\n",
              "[99 rows x 4 columns]"
            ]
          },
          "metadata": {
            "tags": []
          }
        },
        {
          "output_type": "display_data",
          "data": {
            "text/html": [
              "<div>\n",
              "<style scoped>\n",
              "    .dataframe tbody tr th:only-of-type {\n",
              "        vertical-align: middle;\n",
              "    }\n",
              "\n",
              "    .dataframe tbody tr th {\n",
              "        vertical-align: top;\n",
              "    }\n",
              "\n",
              "    .dataframe thead th {\n",
              "        text-align: right;\n",
              "    }\n",
              "</style>\n",
              "<table border=\"1\" class=\"dataframe\">\n",
              "  <thead>\n",
              "    <tr style=\"text-align: right;\">\n",
              "      <th></th>\n",
              "      <th>home</th>\n",
              "      <th>como_funciona</th>\n",
              "      <th>contato</th>\n",
              "    </tr>\n",
              "  </thead>\n",
              "  <tbody>\n",
              "    <tr>\n",
              "      <th>0</th>\n",
              "      <td>1</td>\n",
              "      <td>1</td>\n",
              "      <td>0</td>\n",
              "    </tr>\n",
              "    <tr>\n",
              "      <th>1</th>\n",
              "      <td>1</td>\n",
              "      <td>1</td>\n",
              "      <td>0</td>\n",
              "    </tr>\n",
              "    <tr>\n",
              "      <th>2</th>\n",
              "      <td>1</td>\n",
              "      <td>1</td>\n",
              "      <td>0</td>\n",
              "    </tr>\n",
              "    <tr>\n",
              "      <th>3</th>\n",
              "      <td>1</td>\n",
              "      <td>1</td>\n",
              "      <td>0</td>\n",
              "    </tr>\n",
              "    <tr>\n",
              "      <th>4</th>\n",
              "      <td>1</td>\n",
              "      <td>1</td>\n",
              "      <td>0</td>\n",
              "    </tr>\n",
              "    <tr>\n",
              "      <th>...</th>\n",
              "      <td>...</td>\n",
              "      <td>...</td>\n",
              "      <td>...</td>\n",
              "    </tr>\n",
              "    <tr>\n",
              "      <th>94</th>\n",
              "      <td>0</td>\n",
              "      <td>0</td>\n",
              "      <td>1</td>\n",
              "    </tr>\n",
              "    <tr>\n",
              "      <th>95</th>\n",
              "      <td>1</td>\n",
              "      <td>1</td>\n",
              "      <td>1</td>\n",
              "    </tr>\n",
              "    <tr>\n",
              "      <th>96</th>\n",
              "      <td>0</td>\n",
              "      <td>0</td>\n",
              "      <td>1</td>\n",
              "    </tr>\n",
              "    <tr>\n",
              "      <th>97</th>\n",
              "      <td>0</td>\n",
              "      <td>1</td>\n",
              "      <td>0</td>\n",
              "    </tr>\n",
              "    <tr>\n",
              "      <th>98</th>\n",
              "      <td>0</td>\n",
              "      <td>0</td>\n",
              "      <td>0</td>\n",
              "    </tr>\n",
              "  </tbody>\n",
              "</table>\n",
              "<p>99 rows × 3 columns</p>\n",
              "</div>"
            ],
            "text/plain": [
              "    home  como_funciona  contato\n",
              "0      1              1        0\n",
              "1      1              1        0\n",
              "2      1              1        0\n",
              "3      1              1        0\n",
              "4      1              1        0\n",
              "..   ...            ...      ...\n",
              "94     0              0        1\n",
              "95     1              1        1\n",
              "96     0              0        1\n",
              "97     0              1        0\n",
              "98     0              0        0\n",
              "\n",
              "[99 rows x 3 columns]"
            ]
          },
          "metadata": {
            "tags": []
          }
        },
        {
          "output_type": "display_data",
          "data": {
            "text/plain": [
              "0     0\n",
              "1     0\n",
              "2     0\n",
              "3     0\n",
              "4     0\n",
              "     ..\n",
              "94    0\n",
              "95    1\n",
              "96    0\n",
              "97    0\n",
              "98    0\n",
              "Name: comprou, Length: 99, dtype: int64"
            ]
          },
          "metadata": {
            "tags": []
          }
        }
      ]
    },
    {
      "cell_type": "code",
      "metadata": {
        "id": "VdzO0XtvYVBu"
      },
      "source": [
        "from sklearn.naive_bayes import MultinomialNB"
      ],
      "execution_count": 30,
      "outputs": []
    },
    {
      "cell_type": "code",
      "metadata": {
        "colab": {
          "base_uri": "https://localhost:8080/"
        },
        "id": "2YE8FgHwYr2d",
        "outputId": "824d4ba7-2e3e-4678-83b2-ef8f562318e6"
      },
      "source": [
        "modelo = MultinomialNB()\n",
        "modelo.fit(X, Y)"
      ],
      "execution_count": 31,
      "outputs": [
        {
          "output_type": "execute_result",
          "data": {
            "text/plain": [
              "MultinomialNB(alpha=1.0, class_prior=None, fit_prior=True)"
            ]
          },
          "metadata": {
            "tags": []
          },
          "execution_count": 31
        }
      ]
    },
    {
      "cell_type": "code",
      "metadata": {
        "colab": {
          "base_uri": "https://localhost:8080/"
        },
        "id": "oLYIwEuaY0HC",
        "outputId": "f8fb5b31-8eba-4f28-995d-c35a0552f4c7"
      },
      "source": [
        "print(modelo.predict([[1,0,1], [0,1,0], [1,0,0], [1,1,0], [1,1,1]]))"
      ],
      "execution_count": 35,
      "outputs": [
        {
          "output_type": "stream",
          "text": [
            "[1 0 0 0 0]\n"
          ],
          "name": "stdout"
        }
      ]
    },
    {
      "cell_type": "code",
      "metadata": {
        "colab": {
          "base_uri": "https://localhost:8080/"
        },
        "id": "ZnFhZnj6ZB-3",
        "outputId": "905ffd56-7b01-421c-a238-72cfcdd1ff44"
      },
      "source": [
        "resultado = modelo.predict(X)\n",
        "diferencas = resultado - Y\n",
        "\n",
        "acertos = [d for d in diferencas if d==0]\n",
        "total_de_acertos = len(acertos)\n",
        "total_de_elementos = len(X)\n",
        "taxa_de_acertos = total_de_acertos / total_de_elementos * 100\n",
        "\n",
        "print(f'{taxa_de_acertos:.2f}% de acertos')\n",
        "print(f'{total_de_elementos} elementos')"
      ],
      "execution_count": 48,
      "outputs": [
        {
          "output_type": "stream",
          "text": [
            "93.94% de acertos\n",
            "99 elementos\n"
          ],
          "name": "stdout"
        }
      ]
    },
    {
      "cell_type": "markdown",
      "metadata": {
        "id": "eWC03kNyc8FM"
      },
      "source": [
        "O resultado deu muito alto porque os dados que usamos para testar são os mesmos que usamos para treinar o algoritmo.\n",
        "\n",
        "Para evitar isso teremos que dividir os dados em dois, de forma que o que for usado para treinar o modelo seja diferente dos dados que serão usados para testá-lo."
      ]
    },
    {
      "cell_type": "code",
      "metadata": {
        "colab": {
          "base_uri": "https://localhost:8080/"
        },
        "id": "E1ic0S1famyu",
        "outputId": "a83ed1a3-bdf7-4d5d-8a40-e9bd42b2c0b0"
      },
      "source": [
        "treino_dados = X[:90]\n",
        "treino_marcacoes = Y[:90]\n",
        "\n",
        "teste_dados = X[-9:]\n",
        "teste_marcacoes = Y[-9:]\n",
        "\n",
        "from sklearn.naive_bayes import MultinomialNB\n",
        "modelo = MultinomialNB()\n",
        "modelo.fit(treino_dados, treino_marcacoes)\n",
        "\n",
        "resultado = modelo.predict(teste_dados)\n",
        "diferencas = resultado - teste_marcacoes\n",
        "\n",
        "acertos = [d for d in diferencas if d==0]\n",
        "total_de_acertos = len(acertos)\n",
        "total_de_elementos = len(teste_dados)\n",
        "taxa_de_acertos = total_de_acertos / total_de_elementos * 100\n",
        "\n",
        "print(f'{taxa_de_acertos:.2f}% de acertos')\n",
        "print(f'{total_de_elementos} elementos')"
      ],
      "execution_count": 49,
      "outputs": [
        {
          "output_type": "stream",
          "text": [
            "88.89% de acertos\n",
            "9 elementos\n"
          ],
          "name": "stdout"
        }
      ]
    },
    {
      "cell_type": "markdown",
      "metadata": {
        "id": "WadjPRIgfLEa"
      },
      "source": [
        "Resultado bem mais realista, pois o modelo treinou com um conjunto e foi testado com outros elementos, dessa vez desconhecidos previamente."
      ]
    },
    {
      "cell_type": "markdown",
      "metadata": {
        "id": "KgU9vUXihR7e"
      },
      "source": [
        "## Classificação de variáveis categóricas"
      ]
    },
    {
      "cell_type": "code",
      "metadata": {
        "id": "yPcT1D5ffInG"
      },
      "source": [
        ""
      ],
      "execution_count": null,
      "outputs": []
    }
  ]
}