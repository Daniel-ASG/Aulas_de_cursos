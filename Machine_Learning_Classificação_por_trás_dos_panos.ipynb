{
  "nbformat": 4,
  "nbformat_minor": 0,
  "metadata": {
    "colab": {
      "name": "Machine Learning: Classificação por trás dos panos.ipynb",
      "provenance": [],
      "authorship_tag": "ABX9TyNeOvONXfW+5vdW9ZEuJHEb",
      "include_colab_link": true
    },
    "kernelspec": {
      "name": "python3",
      "display_name": "Python 3"
    },
    "language_info": {
      "name": "python"
    }
  },
  "cells": [
    {
      "cell_type": "markdown",
      "metadata": {
        "id": "view-in-github",
        "colab_type": "text"
      },
      "source": [
        "<a href=\"https://colab.research.google.com/github/Daniel-ASG/Aulas_de_cursos/blob/main/Machine_Learning_Classifica%C3%A7%C3%A3o_por_tr%C3%A1s_dos_panos.ipynb\" target=\"_parent\"><img src=\"https://colab.research.google.com/assets/colab-badge.svg\" alt=\"Open In Colab\"/></a>"
      ]
    },
    {
      "cell_type": "markdown",
      "metadata": {
        "id": "4Expu1-GUpl6"
      },
      "source": [
        "# Aula 1"
      ]
    },
    {
      "cell_type": "markdown",
      "metadata": {
        "id": "2prDNZuqUunP"
      },
      "source": [
        "## Classificação de animais"
      ]
    },
    {
      "cell_type": "code",
      "metadata": {
        "id": "Zmsfhvc5G1BL"
      },
      "source": [
        "porco1 =    [1, 1, 0]\n",
        "porco2 =    [1, 1, 0]\n",
        "porco3 =    [1, 1, 0]\n",
        "cachorro4 = [1, 1, 1]\n",
        "cachorro5 = [0, 1, 1]\n",
        "cachorro6 = [0, 1, 1]\n",
        "\n",
        "dados = [porco1, porco2, porco3, cachorro4, cachorro5, cachorro6]\n",
        "\n",
        "marcacoes = [1, 1, 1, -1, -1, -1]\n",
        "\n",
        "misterioso1 = [1, 1, 1]\n",
        "misterioso2 = [1, 0, 0]\n",
        "teste = [misterioso1, misterioso2]"
      ],
      "execution_count": null,
      "outputs": []
    },
    {
      "cell_type": "code",
      "metadata": {
        "id": "lJi5KIRtM2sd"
      },
      "source": [
        "from sklearn.naive_bayes import MultinomialNB"
      ],
      "execution_count": null,
      "outputs": []
    },
    {
      "cell_type": "code",
      "metadata": {
        "colab": {
          "base_uri": "https://localhost:8080/"
        },
        "id": "bOVrzB6TM3SR",
        "outputId": "356a013e-36a6-46d9-caf3-3d467dfa383e"
      },
      "source": [
        "modelo = MultinomialNB()\n",
        "modelo.fit(dados, marcacoes)"
      ],
      "execution_count": null,
      "outputs": [
        {
          "output_type": "execute_result",
          "data": {
            "text/plain": [
              "MultinomialNB(alpha=1.0, class_prior=None, fit_prior=True)"
            ]
          },
          "metadata": {
            "tags": []
          },
          "execution_count": 3
        }
      ]
    },
    {
      "cell_type": "code",
      "metadata": {
        "colab": {
          "base_uri": "https://localhost:8080/"
        },
        "id": "F4LwspGeNKs9",
        "outputId": "03ea2317-cdc3-45ef-a8bc-6274c2e68f26"
      },
      "source": [
        "print(modelo.predict(teste))"
      ],
      "execution_count": null,
      "outputs": [
        {
          "output_type": "stream",
          "text": [
            "[-1  1]\n"
          ],
          "name": "stdout"
        }
      ]
    },
    {
      "cell_type": "markdown",
      "metadata": {
        "id": "S1R0yjONRWGb"
      },
      "source": [
        "Vamos testar o quanto os resultados estão adequados ou não"
      ]
    },
    {
      "cell_type": "code",
      "metadata": {
        "colab": {
          "base_uri": "https://localhost:8080/"
        },
        "id": "9kjGR_W4NQiA",
        "outputId": "a0bd650a-7d06-4639-d553-9d205a8a13da"
      },
      "source": [
        "# [é gordinho?, tem perninha curta?, faz auau?]\n",
        "misterioso1 = [1, 1, 1]\n",
        "misterioso2 = [1, 0, 0]\n",
        "misterioso3 = [0, 0, 1]\n",
        "\n",
        "teste = [misterioso1, misterioso2, misterioso3]\n",
        "marcacoes_teste = [-1, 1, -1]\n",
        "\n",
        "resultado = modelo.predict(teste)\n",
        "print(resultado)"
      ],
      "execution_count": null,
      "outputs": [
        {
          "output_type": "stream",
          "text": [
            "[-1  1 -1]\n"
          ],
          "name": "stdout"
        }
      ]
    },
    {
      "cell_type": "code",
      "metadata": {
        "id": "Tr29Azvcv84M",
        "colab": {
          "base_uri": "https://localhost:8080/"
        },
        "outputId": "694370b7-4aa0-41d4-d95e-244776a910d7"
      },
      "source": [
        "diferencas = resultado - marcacoes_teste\n",
        "print(diferencas)"
      ],
      "execution_count": null,
      "outputs": [
        {
          "output_type": "stream",
          "text": [
            "[0 0 0]\n"
          ],
          "name": "stdout"
        }
      ]
    },
    {
      "cell_type": "code",
      "metadata": {
        "colab": {
          "base_uri": "https://localhost:8080/"
        },
        "id": "WQl4bWt8SGR8",
        "outputId": "f63fa913-f985-4627-862d-d6ddd62e8002"
      },
      "source": [
        "acertos = [d for d in diferencas if d==0]\n",
        "total_de_acertos = len(acertos)\n",
        "total_de_elementos = len(teste)\n",
        "taxa_de_acertos = total_de_acertos / total_de_elementos * 100\n",
        "print(f'{taxa_de_acertos} %')"
      ],
      "execution_count": null,
      "outputs": [
        {
          "output_type": "stream",
          "text": [
            "100.0 %\n"
          ],
          "name": "stdout"
        }
      ]
    },
    {
      "cell_type": "code",
      "metadata": {
        "colab": {
          "base_uri": "https://localhost:8080/"
        },
        "id": "qcU4MSIsSymO",
        "outputId": "82bc2d49-2e8d-485c-8ebb-63728cbbcf92"
      },
      "source": [
        "misterioso1 = [1, 1, 1]\n",
        "misterioso2 = [1, 0, 0]\n",
        "misterioso3 = [1, 0, 1] # alteramos aqui\n",
        "teste = [misterioso1, misterioso2, misterioso3]\n",
        "marcacoes_teste = [-1, 1, 1] # alteramos aqui\n",
        "\n",
        "resultado = modelo.predict(teste)\n",
        "diferencas = resultado - marcacoes_teste\n",
        "print(diferencas)\n",
        "acertos = [d for d in diferencas if d==0]\n",
        "total_de_acertos = len(acertos)\n",
        "total_de_elementos = len(teste)\n",
        "taxa_de_acertos = total_de_acertos / total_de_elementos * 100\n",
        "print(f'{taxa_de_acertos:.1f} %')"
      ],
      "execution_count": null,
      "outputs": [
        {
          "output_type": "stream",
          "text": [
            "[ 0  0 -2]\n",
            "66.7 %\n"
          ],
          "name": "stdout"
        }
      ]
    },
    {
      "cell_type": "markdown",
      "metadata": {
        "id": "QJYgGkrWUoJE"
      },
      "source": [
        "## Classificação na Web"
      ]
    },
    {
      "cell_type": "code",
      "metadata": {
        "id": "Bt4WI3fUT_TI"
      },
      "source": [
        "import pandas as pd"
      ],
      "execution_count": null,
      "outputs": []
    },
    {
      "cell_type": "code",
      "metadata": {
        "colab": {
          "base_uri": "https://localhost:8080/",
          "height": 988
        },
        "id": "gaJlGdsLYLow",
        "outputId": "0f369d8d-c541-4b84-f22d-d4d79f55baad"
      },
      "source": [
        "dados = pd.read_csv('https://raw.githubusercontent.com/alura-cursos/machine-learning-introducao-a-classificacao/master/acesso.csv')\n",
        "X = dados.drop('comprou', axis=1)\n",
        "Y = dados.comprou\n",
        "display(dados)\n",
        "display(X)\n",
        "display(Y)"
      ],
      "execution_count": null,
      "outputs": [
        {
          "output_type": "display_data",
          "data": {
            "text/html": [
              "<div>\n",
              "<style scoped>\n",
              "    .dataframe tbody tr th:only-of-type {\n",
              "        vertical-align: middle;\n",
              "    }\n",
              "\n",
              "    .dataframe tbody tr th {\n",
              "        vertical-align: top;\n",
              "    }\n",
              "\n",
              "    .dataframe thead th {\n",
              "        text-align: right;\n",
              "    }\n",
              "</style>\n",
              "<table border=\"1\" class=\"dataframe\">\n",
              "  <thead>\n",
              "    <tr style=\"text-align: right;\">\n",
              "      <th></th>\n",
              "      <th>home</th>\n",
              "      <th>como_funciona</th>\n",
              "      <th>contato</th>\n",
              "      <th>comprou</th>\n",
              "    </tr>\n",
              "  </thead>\n",
              "  <tbody>\n",
              "    <tr>\n",
              "      <th>0</th>\n",
              "      <td>1</td>\n",
              "      <td>1</td>\n",
              "      <td>0</td>\n",
              "      <td>0</td>\n",
              "    </tr>\n",
              "    <tr>\n",
              "      <th>1</th>\n",
              "      <td>1</td>\n",
              "      <td>1</td>\n",
              "      <td>0</td>\n",
              "      <td>0</td>\n",
              "    </tr>\n",
              "    <tr>\n",
              "      <th>2</th>\n",
              "      <td>1</td>\n",
              "      <td>1</td>\n",
              "      <td>0</td>\n",
              "      <td>0</td>\n",
              "    </tr>\n",
              "    <tr>\n",
              "      <th>3</th>\n",
              "      <td>1</td>\n",
              "      <td>1</td>\n",
              "      <td>0</td>\n",
              "      <td>0</td>\n",
              "    </tr>\n",
              "    <tr>\n",
              "      <th>4</th>\n",
              "      <td>1</td>\n",
              "      <td>1</td>\n",
              "      <td>0</td>\n",
              "      <td>0</td>\n",
              "    </tr>\n",
              "    <tr>\n",
              "      <th>...</th>\n",
              "      <td>...</td>\n",
              "      <td>...</td>\n",
              "      <td>...</td>\n",
              "      <td>...</td>\n",
              "    </tr>\n",
              "    <tr>\n",
              "      <th>94</th>\n",
              "      <td>0</td>\n",
              "      <td>0</td>\n",
              "      <td>1</td>\n",
              "      <td>0</td>\n",
              "    </tr>\n",
              "    <tr>\n",
              "      <th>95</th>\n",
              "      <td>1</td>\n",
              "      <td>1</td>\n",
              "      <td>1</td>\n",
              "      <td>1</td>\n",
              "    </tr>\n",
              "    <tr>\n",
              "      <th>96</th>\n",
              "      <td>0</td>\n",
              "      <td>0</td>\n",
              "      <td>1</td>\n",
              "      <td>0</td>\n",
              "    </tr>\n",
              "    <tr>\n",
              "      <th>97</th>\n",
              "      <td>0</td>\n",
              "      <td>1</td>\n",
              "      <td>0</td>\n",
              "      <td>0</td>\n",
              "    </tr>\n",
              "    <tr>\n",
              "      <th>98</th>\n",
              "      <td>0</td>\n",
              "      <td>0</td>\n",
              "      <td>0</td>\n",
              "      <td>0</td>\n",
              "    </tr>\n",
              "  </tbody>\n",
              "</table>\n",
              "<p>99 rows × 4 columns</p>\n",
              "</div>"
            ],
            "text/plain": [
              "    home  como_funciona  contato  comprou\n",
              "0      1              1        0        0\n",
              "1      1              1        0        0\n",
              "2      1              1        0        0\n",
              "3      1              1        0        0\n",
              "4      1              1        0        0\n",
              "..   ...            ...      ...      ...\n",
              "94     0              0        1        0\n",
              "95     1              1        1        1\n",
              "96     0              0        1        0\n",
              "97     0              1        0        0\n",
              "98     0              0        0        0\n",
              "\n",
              "[99 rows x 4 columns]"
            ]
          },
          "metadata": {
            "tags": []
          }
        },
        {
          "output_type": "display_data",
          "data": {
            "text/html": [
              "<div>\n",
              "<style scoped>\n",
              "    .dataframe tbody tr th:only-of-type {\n",
              "        vertical-align: middle;\n",
              "    }\n",
              "\n",
              "    .dataframe tbody tr th {\n",
              "        vertical-align: top;\n",
              "    }\n",
              "\n",
              "    .dataframe thead th {\n",
              "        text-align: right;\n",
              "    }\n",
              "</style>\n",
              "<table border=\"1\" class=\"dataframe\">\n",
              "  <thead>\n",
              "    <tr style=\"text-align: right;\">\n",
              "      <th></th>\n",
              "      <th>home</th>\n",
              "      <th>como_funciona</th>\n",
              "      <th>contato</th>\n",
              "    </tr>\n",
              "  </thead>\n",
              "  <tbody>\n",
              "    <tr>\n",
              "      <th>0</th>\n",
              "      <td>1</td>\n",
              "      <td>1</td>\n",
              "      <td>0</td>\n",
              "    </tr>\n",
              "    <tr>\n",
              "      <th>1</th>\n",
              "      <td>1</td>\n",
              "      <td>1</td>\n",
              "      <td>0</td>\n",
              "    </tr>\n",
              "    <tr>\n",
              "      <th>2</th>\n",
              "      <td>1</td>\n",
              "      <td>1</td>\n",
              "      <td>0</td>\n",
              "    </tr>\n",
              "    <tr>\n",
              "      <th>3</th>\n",
              "      <td>1</td>\n",
              "      <td>1</td>\n",
              "      <td>0</td>\n",
              "    </tr>\n",
              "    <tr>\n",
              "      <th>4</th>\n",
              "      <td>1</td>\n",
              "      <td>1</td>\n",
              "      <td>0</td>\n",
              "    </tr>\n",
              "    <tr>\n",
              "      <th>...</th>\n",
              "      <td>...</td>\n",
              "      <td>...</td>\n",
              "      <td>...</td>\n",
              "    </tr>\n",
              "    <tr>\n",
              "      <th>94</th>\n",
              "      <td>0</td>\n",
              "      <td>0</td>\n",
              "      <td>1</td>\n",
              "    </tr>\n",
              "    <tr>\n",
              "      <th>95</th>\n",
              "      <td>1</td>\n",
              "      <td>1</td>\n",
              "      <td>1</td>\n",
              "    </tr>\n",
              "    <tr>\n",
              "      <th>96</th>\n",
              "      <td>0</td>\n",
              "      <td>0</td>\n",
              "      <td>1</td>\n",
              "    </tr>\n",
              "    <tr>\n",
              "      <th>97</th>\n",
              "      <td>0</td>\n",
              "      <td>1</td>\n",
              "      <td>0</td>\n",
              "    </tr>\n",
              "    <tr>\n",
              "      <th>98</th>\n",
              "      <td>0</td>\n",
              "      <td>0</td>\n",
              "      <td>0</td>\n",
              "    </tr>\n",
              "  </tbody>\n",
              "</table>\n",
              "<p>99 rows × 3 columns</p>\n",
              "</div>"
            ],
            "text/plain": [
              "    home  como_funciona  contato\n",
              "0      1              1        0\n",
              "1      1              1        0\n",
              "2      1              1        0\n",
              "3      1              1        0\n",
              "4      1              1        0\n",
              "..   ...            ...      ...\n",
              "94     0              0        1\n",
              "95     1              1        1\n",
              "96     0              0        1\n",
              "97     0              1        0\n",
              "98     0              0        0\n",
              "\n",
              "[99 rows x 3 columns]"
            ]
          },
          "metadata": {
            "tags": []
          }
        },
        {
          "output_type": "display_data",
          "data": {
            "text/plain": [
              "0     0\n",
              "1     0\n",
              "2     0\n",
              "3     0\n",
              "4     0\n",
              "     ..\n",
              "94    0\n",
              "95    1\n",
              "96    0\n",
              "97    0\n",
              "98    0\n",
              "Name: comprou, Length: 99, dtype: int64"
            ]
          },
          "metadata": {
            "tags": []
          }
        }
      ]
    },
    {
      "cell_type": "code",
      "metadata": {
        "id": "VdzO0XtvYVBu"
      },
      "source": [
        "from sklearn.naive_bayes import MultinomialNB"
      ],
      "execution_count": null,
      "outputs": []
    },
    {
      "cell_type": "code",
      "metadata": {
        "colab": {
          "base_uri": "https://localhost:8080/"
        },
        "id": "2YE8FgHwYr2d",
        "outputId": "fe0a9841-4c24-47af-df91-9b02dd6d9125"
      },
      "source": [
        "modelo = MultinomialNB()\n",
        "modelo.fit(X, Y)"
      ],
      "execution_count": null,
      "outputs": [
        {
          "output_type": "execute_result",
          "data": {
            "text/plain": [
              "MultinomialNB(alpha=1.0, class_prior=None, fit_prior=True)"
            ]
          },
          "metadata": {
            "tags": []
          },
          "execution_count": 12
        }
      ]
    },
    {
      "cell_type": "code",
      "metadata": {
        "colab": {
          "base_uri": "https://localhost:8080/"
        },
        "id": "oLYIwEuaY0HC",
        "outputId": "acabe911-14d6-4811-f2f3-4b216af3dc06"
      },
      "source": [
        "print(modelo.predict([[1,0,1], [0,1,0], [1,0,0], [1,1,0], [1,1,1]]))"
      ],
      "execution_count": null,
      "outputs": [
        {
          "output_type": "stream",
          "text": [
            "[1 0 0 0 0]\n"
          ],
          "name": "stdout"
        }
      ]
    },
    {
      "cell_type": "code",
      "metadata": {
        "colab": {
          "base_uri": "https://localhost:8080/"
        },
        "id": "ZnFhZnj6ZB-3",
        "outputId": "af962bc5-89a3-4627-d266-dda99d3e7b8d"
      },
      "source": [
        "resultado = modelo.predict(X)\n",
        "diferencas = resultado - Y\n",
        "\n",
        "acertos = [d for d in diferencas if d==0]\n",
        "total_de_acertos = len(acertos)\n",
        "total_de_elementos = len(X)\n",
        "taxa_de_acertos = total_de_acertos / total_de_elementos * 100\n",
        "\n",
        "print(f'{taxa_de_acertos:.2f}% de acertos')\n",
        "print(f'{total_de_elementos} elementos')"
      ],
      "execution_count": null,
      "outputs": [
        {
          "output_type": "stream",
          "text": [
            "93.94% de acertos\n",
            "99 elementos\n"
          ],
          "name": "stdout"
        }
      ]
    },
    {
      "cell_type": "markdown",
      "metadata": {
        "id": "eWC03kNyc8FM"
      },
      "source": [
        "O resultado deu muito alto porque os dados que usamos para testar são os mesmos que usamos para treinar o algoritmo.\n",
        "\n",
        "Para evitar isso teremos que dividir os dados em dois, de forma que o que for usado para treinar o modelo seja diferente dos dados que serão usados para testá-lo."
      ]
    },
    {
      "cell_type": "code",
      "metadata": {
        "colab": {
          "base_uri": "https://localhost:8080/"
        },
        "id": "E1ic0S1famyu",
        "outputId": "7e721d06-3775-4a70-937b-cc7cb89c3f88"
      },
      "source": [
        "treino_dados = X[:90]\n",
        "treino_marcacoes = Y[:90]\n",
        "\n",
        "teste_dados = X[-9:]\n",
        "teste_marcacoes = Y[-9:]\n",
        "\n",
        "from sklearn.naive_bayes import MultinomialNB\n",
        "modelo = MultinomialNB()\n",
        "modelo.fit(treino_dados, treino_marcacoes)\n",
        "\n",
        "resultado = modelo.predict(teste_dados)\n",
        "diferencas = resultado - teste_marcacoes\n",
        "\n",
        "acertos = [d for d in diferencas if d==0]\n",
        "total_de_acertos = len(acertos)\n",
        "total_de_elementos = len(teste_dados)\n",
        "taxa_de_acertos = total_de_acertos / total_de_elementos * 100\n",
        "\n",
        "print(f'{taxa_de_acertos:.2f}% de acertos')\n",
        "print(f'{total_de_elementos} elementos')"
      ],
      "execution_count": null,
      "outputs": [
        {
          "output_type": "stream",
          "text": [
            "88.89% de acertos\n",
            "9 elementos\n"
          ],
          "name": "stdout"
        }
      ]
    },
    {
      "cell_type": "markdown",
      "metadata": {
        "id": "WadjPRIgfLEa"
      },
      "source": [
        "Resultado bem mais realista, pois o modelo treinou com um conjunto e foi testado com outros elementos, dessa vez desconhecidos previamente."
      ]
    },
    {
      "cell_type": "markdown",
      "metadata": {
        "id": "KgU9vUXihR7e"
      },
      "source": [
        "## Classificação de variáveis categóricas"
      ]
    },
    {
      "cell_type": "code",
      "metadata": {
        "id": "yPcT1D5ffInG"
      },
      "source": [
        "import pandas as pd"
      ],
      "execution_count": 3,
      "outputs": []
    },
    {
      "cell_type": "code",
      "metadata": {
        "colab": {
          "base_uri": "https://localhost:8080/",
          "height": 988
        },
        "id": "jY6fOrp8lsb8",
        "outputId": "e85878ac-e118-4305-8df7-f4893d11f0db"
      },
      "source": [
        "dados = pd.read_csv('https://raw.githubusercontent.com/alura-cursos/machine-learning-introducao-a-classificacao/master/busca.csv')\n",
        "dados.comprou.replace({'sim': 1, 'nao': 0}, inplace=True)\n",
        "X_df = dados.drop('comprou', axis=1)\n",
        "Y_df = dados['comprou']\n",
        "display(dados)\n",
        "display(X_df)\n",
        "display(Y_df)"
      ],
      "execution_count": null,
      "outputs": [
        {
          "output_type": "display_data",
          "data": {
            "text/html": [
              "<div>\n",
              "<style scoped>\n",
              "    .dataframe tbody tr th:only-of-type {\n",
              "        vertical-align: middle;\n",
              "    }\n",
              "\n",
              "    .dataframe tbody tr th {\n",
              "        vertical-align: top;\n",
              "    }\n",
              "\n",
              "    .dataframe thead th {\n",
              "        text-align: right;\n",
              "    }\n",
              "</style>\n",
              "<table border=\"1\" class=\"dataframe\">\n",
              "  <thead>\n",
              "    <tr style=\"text-align: right;\">\n",
              "      <th></th>\n",
              "      <th>home</th>\n",
              "      <th>busca</th>\n",
              "      <th>logado</th>\n",
              "      <th>comprou</th>\n",
              "    </tr>\n",
              "  </thead>\n",
              "  <tbody>\n",
              "    <tr>\n",
              "      <th>0</th>\n",
              "      <td>0</td>\n",
              "      <td>algoritmos</td>\n",
              "      <td>1</td>\n",
              "      <td>1</td>\n",
              "    </tr>\n",
              "    <tr>\n",
              "      <th>1</th>\n",
              "      <td>0</td>\n",
              "      <td>java</td>\n",
              "      <td>0</td>\n",
              "      <td>1</td>\n",
              "    </tr>\n",
              "    <tr>\n",
              "      <th>2</th>\n",
              "      <td>1</td>\n",
              "      <td>algoritmos</td>\n",
              "      <td>0</td>\n",
              "      <td>1</td>\n",
              "    </tr>\n",
              "    <tr>\n",
              "      <th>3</th>\n",
              "      <td>1</td>\n",
              "      <td>ruby</td>\n",
              "      <td>1</td>\n",
              "      <td>0</td>\n",
              "    </tr>\n",
              "    <tr>\n",
              "      <th>4</th>\n",
              "      <td>1</td>\n",
              "      <td>ruby</td>\n",
              "      <td>0</td>\n",
              "      <td>1</td>\n",
              "    </tr>\n",
              "    <tr>\n",
              "      <th>...</th>\n",
              "      <td>...</td>\n",
              "      <td>...</td>\n",
              "      <td>...</td>\n",
              "      <td>...</td>\n",
              "    </tr>\n",
              "    <tr>\n",
              "      <th>995</th>\n",
              "      <td>0</td>\n",
              "      <td>ruby</td>\n",
              "      <td>0</td>\n",
              "      <td>0</td>\n",
              "    </tr>\n",
              "    <tr>\n",
              "      <th>996</th>\n",
              "      <td>0</td>\n",
              "      <td>ruby</td>\n",
              "      <td>0</td>\n",
              "      <td>1</td>\n",
              "    </tr>\n",
              "    <tr>\n",
              "      <th>997</th>\n",
              "      <td>0</td>\n",
              "      <td>java</td>\n",
              "      <td>1</td>\n",
              "      <td>1</td>\n",
              "    </tr>\n",
              "    <tr>\n",
              "      <th>998</th>\n",
              "      <td>1</td>\n",
              "      <td>algoritmos</td>\n",
              "      <td>0</td>\n",
              "      <td>1</td>\n",
              "    </tr>\n",
              "    <tr>\n",
              "      <th>999</th>\n",
              "      <td>0</td>\n",
              "      <td>ruby</td>\n",
              "      <td>1</td>\n",
              "      <td>0</td>\n",
              "    </tr>\n",
              "  </tbody>\n",
              "</table>\n",
              "<p>1000 rows × 4 columns</p>\n",
              "</div>"
            ],
            "text/plain": [
              "     home       busca  logado  comprou\n",
              "0       0  algoritmos       1        1\n",
              "1       0        java       0        1\n",
              "2       1  algoritmos       0        1\n",
              "3       1        ruby       1        0\n",
              "4       1        ruby       0        1\n",
              "..    ...         ...     ...      ...\n",
              "995     0        ruby       0        0\n",
              "996     0        ruby       0        1\n",
              "997     0        java       1        1\n",
              "998     1  algoritmos       0        1\n",
              "999     0        ruby       1        0\n",
              "\n",
              "[1000 rows x 4 columns]"
            ]
          },
          "metadata": {
            "tags": []
          }
        },
        {
          "output_type": "display_data",
          "data": {
            "text/html": [
              "<div>\n",
              "<style scoped>\n",
              "    .dataframe tbody tr th:only-of-type {\n",
              "        vertical-align: middle;\n",
              "    }\n",
              "\n",
              "    .dataframe tbody tr th {\n",
              "        vertical-align: top;\n",
              "    }\n",
              "\n",
              "    .dataframe thead th {\n",
              "        text-align: right;\n",
              "    }\n",
              "</style>\n",
              "<table border=\"1\" class=\"dataframe\">\n",
              "  <thead>\n",
              "    <tr style=\"text-align: right;\">\n",
              "      <th></th>\n",
              "      <th>home</th>\n",
              "      <th>busca</th>\n",
              "      <th>logado</th>\n",
              "    </tr>\n",
              "  </thead>\n",
              "  <tbody>\n",
              "    <tr>\n",
              "      <th>0</th>\n",
              "      <td>0</td>\n",
              "      <td>algoritmos</td>\n",
              "      <td>1</td>\n",
              "    </tr>\n",
              "    <tr>\n",
              "      <th>1</th>\n",
              "      <td>0</td>\n",
              "      <td>java</td>\n",
              "      <td>0</td>\n",
              "    </tr>\n",
              "    <tr>\n",
              "      <th>2</th>\n",
              "      <td>1</td>\n",
              "      <td>algoritmos</td>\n",
              "      <td>0</td>\n",
              "    </tr>\n",
              "    <tr>\n",
              "      <th>3</th>\n",
              "      <td>1</td>\n",
              "      <td>ruby</td>\n",
              "      <td>1</td>\n",
              "    </tr>\n",
              "    <tr>\n",
              "      <th>4</th>\n",
              "      <td>1</td>\n",
              "      <td>ruby</td>\n",
              "      <td>0</td>\n",
              "    </tr>\n",
              "    <tr>\n",
              "      <th>...</th>\n",
              "      <td>...</td>\n",
              "      <td>...</td>\n",
              "      <td>...</td>\n",
              "    </tr>\n",
              "    <tr>\n",
              "      <th>995</th>\n",
              "      <td>0</td>\n",
              "      <td>ruby</td>\n",
              "      <td>0</td>\n",
              "    </tr>\n",
              "    <tr>\n",
              "      <th>996</th>\n",
              "      <td>0</td>\n",
              "      <td>ruby</td>\n",
              "      <td>0</td>\n",
              "    </tr>\n",
              "    <tr>\n",
              "      <th>997</th>\n",
              "      <td>0</td>\n",
              "      <td>java</td>\n",
              "      <td>1</td>\n",
              "    </tr>\n",
              "    <tr>\n",
              "      <th>998</th>\n",
              "      <td>1</td>\n",
              "      <td>algoritmos</td>\n",
              "      <td>0</td>\n",
              "    </tr>\n",
              "    <tr>\n",
              "      <th>999</th>\n",
              "      <td>0</td>\n",
              "      <td>ruby</td>\n",
              "      <td>1</td>\n",
              "    </tr>\n",
              "  </tbody>\n",
              "</table>\n",
              "<p>1000 rows × 3 columns</p>\n",
              "</div>"
            ],
            "text/plain": [
              "     home       busca  logado\n",
              "0       0  algoritmos       1\n",
              "1       0        java       0\n",
              "2       1  algoritmos       0\n",
              "3       1        ruby       1\n",
              "4       1        ruby       0\n",
              "..    ...         ...     ...\n",
              "995     0        ruby       0\n",
              "996     0        ruby       0\n",
              "997     0        java       1\n",
              "998     1  algoritmos       0\n",
              "999     0        ruby       1\n",
              "\n",
              "[1000 rows x 3 columns]"
            ]
          },
          "metadata": {
            "tags": []
          }
        },
        {
          "output_type": "display_data",
          "data": {
            "text/plain": [
              "0      1\n",
              "1      1\n",
              "2      1\n",
              "3      0\n",
              "4      1\n",
              "      ..\n",
              "995    0\n",
              "996    1\n",
              "997    1\n",
              "998    1\n",
              "999    0\n",
              "Name: comprou, Length: 1000, dtype: int64"
            ]
          },
          "metadata": {
            "tags": []
          }
        }
      ]
    },
    {
      "cell_type": "markdown",
      "metadata": {
        "id": "44BZJ5Y214ZU"
      },
      "source": [
        "A coluna `'busca'` contém 3 valores categóricos, que os modelos não conseguem processar. Para contornar esse problema nós usamos o pd.get_dummies() para transformar esta coluna em tantas outras colunas quanto os valores únicos na coluna original.\n",
        "\n",
        "Para o nosso caso, `'busca'` irá se tornar em 3 novas colunas, `'busca_algoritmos'`,\t`'busca_java'`, `'busca_ruby'`."
      ]
    },
    {
      "cell_type": "code",
      "metadata": {
        "id": "6LtSNW9El6FP"
      },
      "source": [
        "Xdummies_df = pd.get_dummies(X_df)\n",
        "Ydummies_df = Y_df"
      ],
      "execution_count": null,
      "outputs": []
    },
    {
      "cell_type": "code",
      "metadata": {
        "colab": {
          "base_uri": "https://localhost:8080/"
        },
        "id": "KBW4AD8L1dLg",
        "outputId": "fdd1483c-b130-4cd2-a2d1-7916fd8932f8"
      },
      "source": [
        "Ydummies_df"
      ],
      "execution_count": null,
      "outputs": [
        {
          "output_type": "execute_result",
          "data": {
            "text/plain": [
              "0      1\n",
              "1      1\n",
              "2      1\n",
              "3      0\n",
              "4      1\n",
              "      ..\n",
              "995    0\n",
              "996    1\n",
              "997    1\n",
              "998    1\n",
              "999    0\n",
              "Name: comprou, Length: 1000, dtype: int64"
            ]
          },
          "metadata": {
            "tags": []
          },
          "execution_count": 20
        }
      ]
    },
    {
      "cell_type": "code",
      "metadata": {
        "id": "URELOq1V29L3"
      },
      "source": [
        "X = Xdummies_df.values\n",
        "Y = Ydummies_df.values"
      ],
      "execution_count": null,
      "outputs": []
    },
    {
      "cell_type": "markdown",
      "metadata": {
        "id": "P_Pzz8-g5Nu6"
      },
      "source": [
        "Vamos separar os dados de treino e de teste"
      ]
    },
    {
      "cell_type": "code",
      "metadata": {
        "id": "ckJXURyg32_U"
      },
      "source": [
        "porcentagem_treino = 0.9\n",
        "\n",
        "tamanho_de_treino = int(porcentagem_treino * len(Y))\n",
        "tamanho_de_teste = len(Y) - tamanho_de_treino\n",
        "\n",
        "# dados para usar no treinamento do modelo\n",
        "treino_dados = X[:tamanho_de_treino]\n",
        "treino_marcacoes = Y[:tamanho_de_treino]\n",
        "\n",
        "teste_dados = X[-tamanho_de_teste:]\n",
        "teste_marcacoes = Y[-tamanho_de_teste:]"
      ],
      "execution_count": null,
      "outputs": []
    },
    {
      "cell_type": "code",
      "metadata": {
        "colab": {
          "base_uri": "https://localhost:8080/"
        },
        "id": "G8AKLbgr5Z-O",
        "outputId": "95f1adf0-8cd4-4b8d-c02b-572eef5c3d8e"
      },
      "source": [
        "from sklearn.naive_bayes import MultinomialNB\n",
        "modelo = MultinomialNB()\n",
        "modelo.fit(treino_dados, treino_marcacoes)\n",
        "\n",
        "resultado = modelo.predict(teste_dados)\n",
        "diferencas = resultado - teste_marcacoes\n",
        "\n",
        "acertos = [d for d in diferencas if d==0]\n",
        "total_de_acertos = len(acertos)\n",
        "total_de_elementos = len(teste_dados)\n",
        "taxa_de_acertos = total_de_acertos / total_de_elementos * 100\n",
        "\n",
        "print(f'{taxa_de_acertos:.2f}% de acertos')\n",
        "print(f'{total_de_elementos} elementos')"
      ],
      "execution_count": null,
      "outputs": [
        {
          "output_type": "stream",
          "text": [
            "82.00% de acertos\n",
            "100 elementos\n"
          ],
          "name": "stdout"
        }
      ]
    },
    {
      "cell_type": "markdown",
      "metadata": {
        "id": "vBpTUCjV_Vmt"
      },
      "source": [
        "## O problema do sucesso e o algoritmo burro"
      ]
    },
    {
      "cell_type": "markdown",
      "metadata": {
        "id": "Q7kTU7m-oDQk"
      },
      "source": [
        "Se o classificador decidir escolher tudo um, qual seria a performance?"
      ]
    },
    {
      "cell_type": "code",
      "metadata": {
        "colab": {
          "base_uri": "https://localhost:8080/"
        },
        "id": "M0LMGF8v6rQW",
        "outputId": "90c8f5ee-1c40-49d0-bc2f-6d9e86a93cd6"
      },
      "source": [
        "sum(Y)"
      ],
      "execution_count": null,
      "outputs": [
        {
          "output_type": "execute_result",
          "data": {
            "text/plain": [
              "832"
            ]
          },
          "metadata": {
            "tags": []
          },
          "execution_count": 22
        }
      ]
    },
    {
      "cell_type": "code",
      "metadata": {
        "colab": {
          "base_uri": "https://localhost:8080/"
        },
        "id": "7xPnxHvtnzhc",
        "outputId": "21cce9d8-4451-475e-a1ab-2e39546ae847"
      },
      "source": [
        "len(Y)"
      ],
      "execution_count": null,
      "outputs": [
        {
          "output_type": "execute_result",
          "data": {
            "text/plain": [
              "1000"
            ]
          },
          "metadata": {
            "tags": []
          },
          "execution_count": 23
        }
      ]
    },
    {
      "cell_type": "code",
      "metadata": {
        "colab": {
          "base_uri": "https://localhost:8080/"
        },
        "id": "uTthkuXTn7rD",
        "outputId": "d1a88085-1656-49dd-ce7b-1b834b00a6e6"
      },
      "source": [
        "print(f'{sum(Y)/len(Y)*100}% de acertos')"
      ],
      "execution_count": null,
      "outputs": [
        {
          "output_type": "stream",
          "text": [
            "83.2% de acertos\n"
          ],
          "name": "stdout"
        }
      ]
    },
    {
      "cell_type": "markdown",
      "metadata": {
        "id": "e62zjEuNolkU"
      },
      "source": [
        "Ou seja, um algoritmo que escolhe \"burramente\" que o resultado vai ser sempre 1 consegue um resultado melhor que o classificador criado anteriormente."
      ]
    },
    {
      "cell_type": "code",
      "metadata": {
        "colab": {
          "base_uri": "https://localhost:8080/"
        },
        "id": "Q6oWY9c_oes1",
        "outputId": "b8e85243-edaa-4fd1-b56b-6504c3545d09"
      },
      "source": [
        "# a eficácia do algoritmo que chuta tudo 0 ou 1\n",
        "acerto_de_um = len(Y[Y==1])\n",
        "acerto_de_zero = len(Y[Y==0])\n",
        "taxa_de_acerto_base = 100.0 * max(acerto_de_um, acerto_de_zero) / len(Y)\n",
        "print(f\"Taxa de acerto base: {taxa_de_acerto_base}%\")\n",
        "print(f\"Taxa de acerto do algoritmo: {taxa_de_acertos}%\")"
      ],
      "execution_count": null,
      "outputs": [
        {
          "output_type": "stream",
          "text": [
            "Taxa de acerto base: 83.2%\n",
            "Taxa de acerto do algoritmo: 82.0%\n"
          ],
          "name": "stdout"
        }
      ]
    },
    {
      "cell_type": "markdown",
      "metadata": {
        "id": "bqHmtPqfsjPL"
      },
      "source": [
        "Vamos generalizar o algoritmo para o caso que a coluna Y seja do tipo `1/0`, `sim/não`, `yes/no,` etc."
      ]
    },
    {
      "cell_type": "code",
      "metadata": {
        "colab": {
          "base_uri": "https://localhost:8080/",
          "height": 198
        },
        "id": "b4iCmT5zqr4I",
        "outputId": "6c973979-fed3-4fdb-de77-807df01bfbcd"
      },
      "source": [
        "df = pd.read_csv('https://raw.githubusercontent.com/alura-cursos/machine-learning-introducao-a-classificacao/master/busca.csv')\n",
        "df.head()"
      ],
      "execution_count": 4,
      "outputs": [
        {
          "output_type": "execute_result",
          "data": {
            "text/html": [
              "<div>\n",
              "<style scoped>\n",
              "    .dataframe tbody tr th:only-of-type {\n",
              "        vertical-align: middle;\n",
              "    }\n",
              "\n",
              "    .dataframe tbody tr th {\n",
              "        vertical-align: top;\n",
              "    }\n",
              "\n",
              "    .dataframe thead th {\n",
              "        text-align: right;\n",
              "    }\n",
              "</style>\n",
              "<table border=\"1\" class=\"dataframe\">\n",
              "  <thead>\n",
              "    <tr style=\"text-align: right;\">\n",
              "      <th></th>\n",
              "      <th>home</th>\n",
              "      <th>busca</th>\n",
              "      <th>logado</th>\n",
              "      <th>comprou</th>\n",
              "    </tr>\n",
              "  </thead>\n",
              "  <tbody>\n",
              "    <tr>\n",
              "      <th>0</th>\n",
              "      <td>0</td>\n",
              "      <td>algoritmos</td>\n",
              "      <td>1</td>\n",
              "      <td>sim</td>\n",
              "    </tr>\n",
              "    <tr>\n",
              "      <th>1</th>\n",
              "      <td>0</td>\n",
              "      <td>java</td>\n",
              "      <td>0</td>\n",
              "      <td>sim</td>\n",
              "    </tr>\n",
              "    <tr>\n",
              "      <th>2</th>\n",
              "      <td>1</td>\n",
              "      <td>algoritmos</td>\n",
              "      <td>0</td>\n",
              "      <td>sim</td>\n",
              "    </tr>\n",
              "    <tr>\n",
              "      <th>3</th>\n",
              "      <td>1</td>\n",
              "      <td>ruby</td>\n",
              "      <td>1</td>\n",
              "      <td>nao</td>\n",
              "    </tr>\n",
              "    <tr>\n",
              "      <th>4</th>\n",
              "      <td>1</td>\n",
              "      <td>ruby</td>\n",
              "      <td>0</td>\n",
              "      <td>sim</td>\n",
              "    </tr>\n",
              "  </tbody>\n",
              "</table>\n",
              "</div>"
            ],
            "text/plain": [
              "   home       busca  logado comprou\n",
              "0     0  algoritmos       1     sim\n",
              "1     0        java       0     sim\n",
              "2     1  algoritmos       0     sim\n",
              "3     1        ruby       1     nao\n",
              "4     1        ruby       0     sim"
            ]
          },
          "metadata": {
            "tags": []
          },
          "execution_count": 4
        }
      ]
    },
    {
      "cell_type": "code",
      "metadata": {
        "id": "V_-ZknqbtKGh"
      },
      "source": [
        "X_df = df[['home', 'busca', 'logado']]\n",
        "Y_df = df['comprou']\n",
        "\n",
        "Xdummies_df = pd.get_dummies(X_df)\n",
        "Ydummies_df = Y_df\n",
        "\n",
        "X = Xdummies_df.values\n",
        "Y = Ydummies_df.values"
      ],
      "execution_count": 5,
      "outputs": []
    },
    {
      "cell_type": "code",
      "metadata": {
        "id": "R1xeWuMdt64m"
      },
      "source": [
        "from collections import Counter"
      ],
      "execution_count": 6,
      "outputs": []
    },
    {
      "cell_type": "code",
      "metadata": {
        "colab": {
          "base_uri": "https://localhost:8080/"
        },
        "id": "LEcY1ztruX1Q",
        "outputId": "8df4fd54-8f8b-4e0a-a6ee-6da2dbef55b2"
      },
      "source": [
        "Counter(Y)"
      ],
      "execution_count": 16,
      "outputs": [
        {
          "output_type": "execute_result",
          "data": {
            "text/plain": [
              "Counter({'nao': 168, 'sim': 832})"
            ]
          },
          "metadata": {
            "tags": []
          },
          "execution_count": 16
        }
      ]
    },
    {
      "cell_type": "code",
      "metadata": {
        "colab": {
          "base_uri": "https://localhost:8080/"
        },
        "id": "JZ5yS9i5uchh",
        "outputId": "1d990996-34cf-4fe5-c6ae-5170f02165d6"
      },
      "source": [
        "acerto_base = max(Counter(Y).values())\n",
        "taxa_de_acerto_base = 100.0 * acerto_base / len(Y)\n",
        "print(f\"Taxa de acerto base: {taxa_de_acerto_base}%\")\n",
        "\n",
        "porcentagem_treino = 0.9\n",
        "\n",
        "tamanho_de_treino = int(porcentagem_treino * len(Y))\n",
        "tamanho_de_teste = len(Y) - tamanho_de_treino\n",
        "\n",
        "treino_dados = X[:tamanho_de_treino]\n",
        "treino_marcacoes = Y[:tamanho_de_treino]\n",
        "\n",
        "teste_dados = X[-tamanho_de_teste:]\n",
        "teste_marcacoes = Y[-tamanho_de_teste:]\n",
        "\n",
        "from sklearn.naive_bayes import MultinomialNB\n",
        "modelo = MultinomialNB()\n",
        "modelo.fit(treino_dados, treino_marcacoes)\n",
        "\n",
        "resultado = modelo.predict(teste_dados)\n",
        "\n",
        "acertos = resultado == teste_marcacoes\n",
        "\n",
        "total_de_acertos = sum(acertos)\n",
        "total_de_elementos = len(teste_dados)\n",
        "\n",
        "taxa_de_acerto = 100.0 * total_de_acertos / total_de_elementos\n",
        "\n",
        "print(f\"Taxa de acerto do algoritmo: {taxa_de_acerto}%\")\n",
        "print(total_de_elementos)"
      ],
      "execution_count": 23,
      "outputs": [
        {
          "output_type": "stream",
          "text": [
            "Taxa de acerto base: 83.2%\n",
            "Taxa de acerto do algoritmo: 82.0%\n",
            "100\n"
          ],
          "name": "stdout"
        }
      ]
    },
    {
      "cell_type": "markdown",
      "metadata": {
        "id": "C79E_Ytrw--e"
      },
      "source": [
        "Agora, vamos deixar os dois algoritmos com os mesmos dados para deixar a comparação mais justa, já que no algoritmo que implentamos usamos 90% dos dados e no algoritmo base usamos 100% dos dados."
      ]
    },
    {
      "cell_type": "code",
      "metadata": {
        "colab": {
          "base_uri": "https://localhost:8080/"
        },
        "id": "bKKWLbpKuk_0",
        "outputId": "78b624a4-f6c3-49fe-8b40-fdef3b7317e3"
      },
      "source": [
        "print(f\"Taxa de acerto do algoritmo: {taxa_de_acerto}%\")\n",
        "\n",
        "acerto_base = max(Counter(teste_marcacoes).values())\n",
        "taxa_de_acerto_base = 100.0 * acerto_base / len(teste_marcacoes)\n",
        "print(f\"Taxa de acerto base: {taxa_de_acerto_base}%\")"
      ],
      "execution_count": 19,
      "outputs": [
        {
          "output_type": "stream",
          "text": [
            "Taxa de acerto do algoritmo: 82.0%\n",
            "Taxa de acerto base: 82.0%\n"
          ],
          "name": "stdout"
        }
      ]
    },
    {
      "cell_type": "markdown",
      "metadata": {
        "id": "WCS8Xic00KBU"
      },
      "source": [
        "Obtemos o mesmo resultado para os dois casos, ou seja, o nosso modelo se iguala a um algoritmo ruim que chuta o memso valor para todas as situações."
      ]
    },
    {
      "cell_type": "markdown",
      "metadata": {
        "id": "TH9c9PFC0ijF"
      },
      "source": [
        "## Testando diferentes modelos e validando o vencedor"
      ]
    },
    {
      "cell_type": "code",
      "metadata": {
        "id": "LG10FqPX0hi5",
        "colab": {
          "base_uri": "https://localhost:8080/"
        },
        "outputId": "f10e5988-2161-46b0-ccdb-e8386080aa4a"
      },
      "source": [
        "import pandas as pd\n",
        "df = pd.read_csv('https://github.com/alura-cursos/machine-learning-introducao-a-classificacao/raw/master/busca2.csv')\n",
        "\n",
        "X_df = df[['home', 'busca', 'logado']]\n",
        "Y_df = df['comprou']\n",
        "\n",
        "Xdummies_df = pd.get_dummies(X_df)\n",
        "Ydummies_df = Y_df\n",
        "\n",
        "X = Xdummies_df.values\n",
        "Y = Ydummies_df.values\n",
        "\n",
        "from collections import Counter\n",
        "\n",
        "porcentagem_treino = 0.9\n",
        "\n",
        "tamanho_de_treino = int(porcentagem_treino * len(Y))\n",
        "tamanho_de_teste = len(Y) - tamanho_de_treino\n",
        "\n",
        "treino_dados = X[:tamanho_de_treino]\n",
        "treino_marcacoes = Y[:tamanho_de_treino]\n",
        "\n",
        "teste_dados = X[-tamanho_de_teste:]\n",
        "teste_marcacoes = Y[-tamanho_de_teste:]\n",
        "\n",
        "from sklearn.naive_bayes import MultinomialNB\n",
        "modelo = MultinomialNB()\n",
        "modelo.fit(treino_dados, treino_marcacoes)\n",
        "\n",
        "resultado = modelo.predict(teste_dados)\n",
        "\n",
        "acertos = resultado == teste_marcacoes\n",
        "\n",
        "total_de_acertos = sum(acertos)\n",
        "total_de_elementos = len(teste_dados)\n",
        "\n",
        "taxa_de_acerto = 100.0 * total_de_acertos / total_de_elementos\n",
        "\n",
        "print(f\"Taxa de acerto do algoritmo: {taxa_de_acerto}%\")\n",
        "print(f'Foram utilizados {total_de_elementos} registros para teste')\n",
        "\n",
        "acerto_base = max(Counter(teste_marcacoes).values())\n",
        "taxa_de_acerto_base = 100.0 * acerto_base / len(teste_marcacoes)\n",
        "print(f\"Taxa de acerto base: {taxa_de_acerto_base}%\")"
      ],
      "execution_count": 34,
      "outputs": [
        {
          "output_type": "stream",
          "text": [
            "Taxa de acerto do algoritmo: 75.0%\n",
            "Foram utilizados 8 registros para teste\n",
            "Taxa de acerto base: 62.5%\n"
          ],
          "name": "stdout"
        }
      ]
    },
    {
      "cell_type": "markdown",
      "metadata": {
        "id": "3sJJwU7miqtd"
      },
      "source": [
        "Vamos remover a variável 'logado' para testar a performance do modelo"
      ]
    },
    {
      "cell_type": "code",
      "metadata": {
        "colab": {
          "base_uri": "https://localhost:8080/"
        },
        "id": "ql9Gol53F2I3",
        "outputId": "ed4a1cd0-f71e-495b-df83-88a49f6c4a0a"
      },
      "source": [
        "import pandas as pd\n",
        "df = pd.read_csv('https://github.com/alura-cursos/machine-learning-introducao-a-classificacao/raw/master/busca2.csv')\n",
        "\n",
        "X_df = df[['home', 'busca']]\n",
        "Y_df = df['comprou']\n",
        "\n",
        "Xdummies_df = pd.get_dummies(X_df)\n",
        "Ydummies_df = Y_df\n",
        "\n",
        "X = Xdummies_df.values\n",
        "Y = Ydummies_df.values\n",
        "\n",
        "from collections import Counter\n",
        "\n",
        "porcentagem_treino = 0.9\n",
        "\n",
        "tamanho_de_treino = int(porcentagem_treino * len(Y))\n",
        "tamanho_de_teste = len(Y) - tamanho_de_treino\n",
        "\n",
        "treino_dados = X[:tamanho_de_treino]\n",
        "treino_marcacoes = Y[:tamanho_de_treino]\n",
        "\n",
        "teste_dados = X[-tamanho_de_teste:]\n",
        "teste_marcacoes = Y[-tamanho_de_teste:]\n",
        "\n",
        "from sklearn.naive_bayes import MultinomialNB\n",
        "modelo = MultinomialNB()\n",
        "modelo.fit(treino_dados, treino_marcacoes)\n",
        "\n",
        "resultado = modelo.predict(teste_dados)\n",
        "\n",
        "acertos = resultado == teste_marcacoes\n",
        "\n",
        "total_de_acertos = sum(acertos)\n",
        "total_de_elementos = len(teste_dados)\n",
        "\n",
        "taxa_de_acerto = 100.0 * total_de_acertos / total_de_elementos\n",
        "\n",
        "print(f\"Taxa de acerto do algoritmo: {taxa_de_acerto}%\")\n",
        "print(f'Foram utilizados {total_de_elementos} registros para teste')\n",
        "\n",
        "acerto_base = max(Counter(teste_marcacoes).values())\n",
        "taxa_de_acerto_base = 100.0 * acerto_base / len(teste_marcacoes)\n",
        "print(f\"Taxa de acerto base: {taxa_de_acerto_base}%\")"
      ],
      "execution_count": 36,
      "outputs": [
        {
          "output_type": "stream",
          "text": [
            "Taxa de acerto do algoritmo: 75.0%\n",
            "Foram utilizados 8 registros para teste\n",
            "Taxa de acerto base: 62.5%\n"
          ],
          "name": "stdout"
        }
      ]
    },
    {
      "cell_type": "markdown",
      "metadata": {
        "id": "2YHaSPlmjSf4"
      },
      "source": [
        "Agora, vamos remover a variável 'busca' para testar a performance do modelo"
      ]
    },
    {
      "cell_type": "code",
      "metadata": {
        "colab": {
          "base_uri": "https://localhost:8080/"
        },
        "id": "eRap44tvjCfr",
        "outputId": "50a3ce65-afce-4c25-eac1-dc0cc4e12ffc"
      },
      "source": [
        "import pandas as pd\n",
        "df = pd.read_csv('https://github.com/alura-cursos/machine-learning-introducao-a-classificacao/raw/master/busca2.csv')\n",
        "\n",
        "X_df = df[['home', 'logado']]\n",
        "Y_df = df['comprou']\n",
        "\n",
        "Xdummies_df = pd.get_dummies(X_df)\n",
        "Ydummies_df = Y_df\n",
        "\n",
        "X = Xdummies_df.values\n",
        "Y = Ydummies_df.values\n",
        "\n",
        "from collections import Counter\n",
        "\n",
        "porcentagem_treino = 0.9\n",
        "\n",
        "tamanho_de_treino = int(porcentagem_treino * len(Y))\n",
        "tamanho_de_teste = len(Y) - tamanho_de_treino\n",
        "\n",
        "treino_dados = X[:tamanho_de_treino]\n",
        "treino_marcacoes = Y[:tamanho_de_treino]\n",
        "\n",
        "teste_dados = X[-tamanho_de_teste:]\n",
        "teste_marcacoes = Y[-tamanho_de_teste:]\n",
        "\n",
        "from sklearn.naive_bayes import MultinomialNB\n",
        "modelo = MultinomialNB()\n",
        "modelo.fit(treino_dados, treino_marcacoes)\n",
        "\n",
        "resultado = modelo.predict(teste_dados)\n",
        "\n",
        "acertos = resultado == teste_marcacoes\n",
        "\n",
        "total_de_acertos = sum(acertos)\n",
        "total_de_elementos = len(teste_dados)\n",
        "\n",
        "taxa_de_acerto = 100.0 * total_de_acertos / total_de_elementos\n",
        "\n",
        "print(f\"Taxa de acerto do algoritmo: {taxa_de_acerto}%\")\n",
        "print(f'Foram utilizados {total_de_elementos} registros para teste')\n",
        "\n",
        "acerto_base = max(Counter(teste_marcacoes).values())\n",
        "taxa_de_acerto_base = 100.0 * acerto_base / len(teste_marcacoes)\n",
        "print(f\"Taxa de acerto base: {taxa_de_acerto_base}%\")"
      ],
      "execution_count": 37,
      "outputs": [
        {
          "output_type": "stream",
          "text": [
            "Taxa de acerto do algoritmo: 62.5%\n",
            "Foram utilizados 8 registros para teste\n",
            "Taxa de acerto base: 62.5%\n"
          ],
          "name": "stdout"
        }
      ]
    },
    {
      "cell_type": "markdown",
      "metadata": {
        "id": "wJsAzHk3jlTM"
      },
      "source": [
        "Finalmente, vamos remover a variável 'home' para testar a performance do modelo"
      ]
    },
    {
      "cell_type": "code",
      "metadata": {
        "colab": {
          "base_uri": "https://localhost:8080/"
        },
        "id": "-t9atu7Cja1h",
        "outputId": "03702305-e7a5-421d-ab9f-4ad8649f2c86"
      },
      "source": [
        "import pandas as pd\n",
        "df = pd.read_csv('https://github.com/alura-cursos/machine-learning-introducao-a-classificacao/raw/master/busca2.csv')\n",
        "\n",
        "X_df = df[['busca', 'logado']]\n",
        "Y_df = df['comprou']\n",
        "\n",
        "Xdummies_df = pd.get_dummies(X_df)\n",
        "Ydummies_df = Y_df\n",
        "\n",
        "X = Xdummies_df.values\n",
        "Y = Ydummies_df.values\n",
        "\n",
        "from collections import Counter\n",
        "\n",
        "porcentagem_treino = 0.9\n",
        "\n",
        "tamanho_de_treino = int(porcentagem_treino * len(Y))\n",
        "tamanho_de_teste = len(Y) - tamanho_de_treino\n",
        "\n",
        "treino_dados = X[:tamanho_de_treino]\n",
        "treino_marcacoes = Y[:tamanho_de_treino]\n",
        "\n",
        "teste_dados = X[-tamanho_de_teste:]\n",
        "teste_marcacoes = Y[-tamanho_de_teste:]\n",
        "\n",
        "from sklearn.naive_bayes import MultinomialNB\n",
        "modelo = MultinomialNB()\n",
        "modelo.fit(treino_dados, treino_marcacoes)\n",
        "\n",
        "resultado = modelo.predict(teste_dados)\n",
        "\n",
        "acertos = resultado == teste_marcacoes\n",
        "\n",
        "total_de_acertos = sum(acertos)\n",
        "total_de_elementos = len(teste_dados)\n",
        "\n",
        "taxa_de_acerto = 100.0 * total_de_acertos / total_de_elementos\n",
        "\n",
        "print(f\"Taxa de acerto do algoritmo: {taxa_de_acerto}%\")\n",
        "print(f'Foram utilizados {total_de_elementos} registros para teste')\n",
        "\n",
        "acerto_base = max(Counter(teste_marcacoes).values())\n",
        "taxa_de_acerto_base = 100.0 * acerto_base / len(teste_marcacoes)\n",
        "print(f\"Taxa de acerto base: {taxa_de_acerto_base}%\")"
      ],
      "execution_count": 38,
      "outputs": [
        {
          "output_type": "stream",
          "text": [
            "Taxa de acerto do algoritmo: 75.0%\n",
            "Foram utilizados 8 registros para teste\n",
            "Taxa de acerto base: 62.5%\n"
          ],
          "name": "stdout"
        }
      ]
    },
    {
      "cell_type": "markdown",
      "metadata": {
        "id": "ax657LItkotf"
      },
      "source": [
        "E se utilizarmos apenas a variável busca?"
      ]
    },
    {
      "cell_type": "code",
      "metadata": {
        "colab": {
          "base_uri": "https://localhost:8080/"
        },
        "id": "zwD-P5vfjqbZ",
        "outputId": "34f4478f-8429-4d6f-f7d0-61406746d0c6"
      },
      "source": [
        "import pandas as pd\n",
        "df = pd.read_csv('https://github.com/alura-cursos/machine-learning-introducao-a-classificacao/raw/master/busca2.csv')\n",
        "\n",
        "X_df = df[['busca']]\n",
        "Y_df = df['comprou']\n",
        "\n",
        "Xdummies_df = pd.get_dummies(X_df)\n",
        "Ydummies_df = Y_df\n",
        "\n",
        "X = Xdummies_df.values\n",
        "Y = Ydummies_df.values\n",
        "\n",
        "from collections import Counter\n",
        "\n",
        "porcentagem_treino = 0.9\n",
        "\n",
        "tamanho_de_treino = int(porcentagem_treino * len(Y))\n",
        "tamanho_de_teste = len(Y) - tamanho_de_treino\n",
        "\n",
        "treino_dados = X[:tamanho_de_treino]\n",
        "treino_marcacoes = Y[:tamanho_de_treino]\n",
        "\n",
        "teste_dados = X[-tamanho_de_teste:]\n",
        "teste_marcacoes = Y[-tamanho_de_teste:]\n",
        "\n",
        "from sklearn.naive_bayes import MultinomialNB\n",
        "modelo = MultinomialNB()\n",
        "modelo.fit(treino_dados, treino_marcacoes)\n",
        "\n",
        "resultado = modelo.predict(teste_dados)\n",
        "\n",
        "acertos = resultado == teste_marcacoes\n",
        "\n",
        "total_de_acertos = sum(acertos)\n",
        "total_de_elementos = len(teste_dados)\n",
        "\n",
        "taxa_de_acerto = 100.0 * total_de_acertos / total_de_elementos\n",
        "\n",
        "print(f\"Taxa de acerto do algoritmo: {taxa_de_acerto}%\")\n",
        "print(f'Foram utilizados {total_de_elementos} registros para teste')\n",
        "\n",
        "acerto_base = max(Counter(teste_marcacoes).values())\n",
        "taxa_de_acerto_base = 100.0 * acerto_base / len(teste_marcacoes)\n",
        "print(f\"Taxa de acerto base: {taxa_de_acerto_base}%\")"
      ],
      "execution_count": 39,
      "outputs": [
        {
          "output_type": "stream",
          "text": [
            "Taxa de acerto do algoritmo: 75.0%\n",
            "Foram utilizados 8 registros para teste\n",
            "Taxa de acerto base: 62.5%\n"
          ],
          "name": "stdout"
        }
      ]
    },
    {
      "cell_type": "markdown",
      "metadata": {
        "id": "iE4Fq3DAljnI"
      },
      "source": [
        "Iremos testar o algoritmo com outro classificador, o AdaBoost"
      ]
    },
    {
      "cell_type": "code",
      "metadata": {
        "colab": {
          "base_uri": "https://localhost:8080/"
        },
        "id": "aFvw0IYUkwxF",
        "outputId": "1121d2a3-0446-43e2-8a50-a0f5ec43e014"
      },
      "source": [
        "import pandas as pd\n",
        "df = pd.read_csv('https://github.com/alura-cursos/machine-learning-introducao-a-classificacao/raw/master/busca2.csv')\n",
        "\n",
        "X_df = df[['home', 'busca', 'logado']]\n",
        "Y_df = df['comprou']\n",
        "\n",
        "Xdummies_df = pd.get_dummies(X_df)\n",
        "Ydummies_df = Y_df\n",
        "\n",
        "X = Xdummies_df.values\n",
        "Y = Ydummies_df.values\n",
        "\n",
        "from collections import Counter\n",
        "\n",
        "porcentagem_treino = 0.9\n",
        "\n",
        "tamanho_de_treino = int(porcentagem_treino * len(Y))\n",
        "tamanho_de_teste = len(Y) - tamanho_de_treino\n",
        "\n",
        "treino_dados = X[:tamanho_de_treino]\n",
        "treino_marcacoes = Y[:tamanho_de_treino]\n",
        "\n",
        "teste_dados = X[-tamanho_de_teste:]\n",
        "teste_marcacoes = Y[-tamanho_de_teste:]\n",
        "\n",
        "# from sklearn.naive_bayes import MultinomialNB\n",
        "# modelo = MultinomialNB()\n",
        "from sklearn.ensemble import AdaBoostClassifier\n",
        "modelo = AdaBoostClassifier()\n",
        "\n",
        "modelo.fit(treino_dados, treino_marcacoes)\n",
        "\n",
        "resultado = modelo.predict(teste_dados)\n",
        "\n",
        "acertos = resultado == teste_marcacoes\n",
        "\n",
        "total_de_acertos = sum(acertos)\n",
        "total_de_elementos = len(teste_dados)\n",
        "\n",
        "taxa_de_acerto = 100.0 * total_de_acertos / total_de_elementos\n",
        "\n",
        "print(f\"Taxa de acerto do algoritmo: {taxa_de_acerto}%\")\n",
        "print(f'Foram utilizados {total_de_elementos} registros para teste')\n",
        "\n",
        "acerto_base = max(Counter(teste_marcacoes).values())\n",
        "taxa_de_acerto_base = 100.0 * acerto_base / len(teste_marcacoes)\n",
        "print(f\"Taxa de acerto base: {taxa_de_acerto_base}%\")"
      ],
      "execution_count": 40,
      "outputs": [
        {
          "output_type": "stream",
          "text": [
            "Taxa de acerto do algoritmo: 75.0%\n",
            "Foram utilizados 8 registros para teste\n",
            "Taxa de acerto base: 62.5%\n"
          ],
          "name": "stdout"
        }
      ]
    },
    {
      "cell_type": "markdown",
      "metadata": {
        "id": "qysthlCPl8Gs"
      },
      "source": [
        "Testando o AdaBoost com o dataset **busca**"
      ]
    },
    {
      "cell_type": "code",
      "metadata": {
        "colab": {
          "base_uri": "https://localhost:8080/"
        },
        "id": "uwKxhwUml0-Q",
        "outputId": "9cf61f9b-aa07-483f-f599-8d68a6709631"
      },
      "source": [
        "import pandas as pd\n",
        "df = pd.read_csv('https://github.com/alura-cursos/machine-learning-introducao-a-classificacao/raw/master/busca.csv')\n",
        "\n",
        "X_df = df[['home', 'busca', 'logado']]\n",
        "Y_df = df['comprou']\n",
        "\n",
        "Xdummies_df = pd.get_dummies(X_df)\n",
        "Ydummies_df = Y_df\n",
        "\n",
        "X = Xdummies_df.values\n",
        "Y = Ydummies_df.values\n",
        "\n",
        "from collections import Counter\n",
        "\n",
        "porcentagem_treino = 0.9\n",
        "\n",
        "tamanho_de_treino = int(porcentagem_treino * len(Y))\n",
        "tamanho_de_teste = len(Y) - tamanho_de_treino\n",
        "\n",
        "treino_dados = X[:tamanho_de_treino]\n",
        "treino_marcacoes = Y[:tamanho_de_treino]\n",
        "\n",
        "teste_dados = X[-tamanho_de_teste:]\n",
        "teste_marcacoes = Y[-tamanho_de_teste:]\n",
        "\n",
        "# from sklearn.naive_bayes import MultinomialNB\n",
        "# modelo = MultinomialNB()\n",
        "from sklearn.ensemble import AdaBoostClassifier\n",
        "modelo = AdaBoostClassifier()\n",
        "\n",
        "modelo.fit(treino_dados, treino_marcacoes)\n",
        "\n",
        "resultado = modelo.predict(teste_dados)\n",
        "\n",
        "acertos = resultado == teste_marcacoes\n",
        "\n",
        "total_de_acertos = sum(acertos)\n",
        "total_de_elementos = len(teste_dados)\n",
        "\n",
        "taxa_de_acerto = 100.0 * total_de_acertos / total_de_elementos\n",
        "\n",
        "print(f\"Taxa de acerto do algoritmo: {taxa_de_acerto}%\")\n",
        "print(f'Foram utilizados {total_de_elementos} registros para teste')\n",
        "\n",
        "acerto_base = max(Counter(teste_marcacoes).values())\n",
        "taxa_de_acerto_base = 100.0 * acerto_base / len(teste_marcacoes)\n",
        "print(f\"Taxa de acerto base: {taxa_de_acerto_base}%\")"
      ],
      "execution_count": 41,
      "outputs": [
        {
          "output_type": "stream",
          "text": [
            "Taxa de acerto do algoritmo: 85.0%\n",
            "Foram utilizados 100 registros para teste\n",
            "Taxa de acerto base: 82.0%\n"
          ],
          "name": "stdout"
        }
      ]
    },
    {
      "cell_type": "markdown",
      "metadata": {
        "id": "dHsMQ63in948"
      },
      "source": [
        "Executando os dois classificadores simultaneamente para comparar"
      ]
    },
    {
      "cell_type": "code",
      "metadata": {
        "colab": {
          "base_uri": "https://localhost:8080/"
        },
        "id": "oFtmQBE_mEFY",
        "outputId": "196dd352-d8cf-4679-b1de-669ff5b6d80d"
      },
      "source": [
        "import pandas as pd\n",
        "from collections import Counter\n",
        "\n",
        "df = pd.read_csv('https://github.com/alura-cursos/machine-learning-introducao-a-classificacao/raw/master/busca2.csv')\n",
        "X_df = df[['home','busca', 'logado']]\n",
        "Y_df = df['comprou']\n",
        "\n",
        "Xdummies_df = pd.get_dummies(X_df)\n",
        "Ydummies_df = Y_df\n",
        "\n",
        "X = Xdummies_df.values\n",
        "Y = Ydummies_df.values \n",
        "\n",
        "porcentagem_treino = 0.9\n",
        "\n",
        "tamanho_de_treino = int(porcentagem_treino * len(Y))\n",
        "tamanho_de_teste = len(Y) - tamanho_de_treino\n",
        "\n",
        "treino_dados = X[:tamanho_de_treino]\n",
        "treino_marcacoes = Y[:tamanho_de_treino]\n",
        "\n",
        "teste_dados = X[-tamanho_de_teste:]\n",
        "teste_marcacoes = Y[-tamanho_de_teste:]\n",
        "\n",
        "def fit_and_predict(nome, modelo, treino_dados, treino_marcacoes, teste_dados, teste_marcacoes):\n",
        "    modelo.fit(treino_dados, treino_marcacoes)\n",
        "    resultado = modelo.predict(teste_dados)\n",
        "    acertos = resultado == teste_marcacoes\n",
        "    total_de_acertos = sum(acertos)\n",
        "    total_de_elementos = len(teste_dados)\n",
        "    taxa_de_acerto = 100.0 * total_de_acertos / total_de_elementos\n",
        "    print(f\"Taxa de acerto do algoritmo {nome}: {taxa_de_acerto}\")\n",
        "\n",
        "\n",
        "from sklearn.naive_bayes import MultinomialNB\n",
        "modelo = MultinomialNB()\n",
        "fit_and_predict(\"MultinomialNB\", modelo, treino_dados, treino_marcacoes, teste_dados, teste_marcacoes)\n",
        "\n",
        "from sklearn.ensemble import AdaBoostClassifier\n",
        "modelo = AdaBoostClassifier()\n",
        "fit_and_predict(\"AdaBoostClassifier\", modelo, treino_dados, treino_marcacoes, teste_dados, teste_marcacoes)\n",
        "\n",
        "acerto_base = max(Counter(teste_marcacoes).values())\n",
        "taxa_de_acerto_base = 100.0 * acerto_base / len(teste_marcacoes)\n",
        "print(f\"Taxa de acerto base: {taxa_de_acerto_base}\")\n",
        "\n",
        "total_de_elementos = len(teste_dados)\n",
        "print(f\"Total de teste: {total_de_elementos}\")"
      ],
      "execution_count": 51,
      "outputs": [
        {
          "output_type": "stream",
          "text": [
            "Taxa de acerto do algoritmo MultinomialNB: 75.0\n",
            "Taxa de acerto do algoritmo AdaBoostClassifier: 75.0\n",
            "Taxa de acerto base: 62.5\n",
            "Total de teste: 8\n"
          ],
          "name": "stdout"
        }
      ]
    },
    {
      "cell_type": "markdown",
      "metadata": {
        "id": "UeNrqcrhxZIW"
      },
      "source": [
        "Vamos dividir o dataset em 3 partes:\n",
        "* 80% para treino.\n",
        "* 10% para teste.\n",
        "* 10% para teste no mundo real.\n",
        "\n",
        "Antes tínhamos apenas duas variáveis, isto é, as variáveis para treino e teste, porém, considerando que o nosso algoritmo precisa ser validado com dados do mundo real, precisaremos de uma terceira variável que representará esses dados para validação. Então agora, vamos alterar o nosso código."
      ]
    },
    {
      "cell_type": "code",
      "metadata": {
        "colab": {
          "base_uri": "https://localhost:8080/"
        },
        "id": "9HCB6dZXo7el",
        "outputId": "c46312fc-657d-4ade-b8b0-f90e9c381ee8"
      },
      "source": [
        "import pandas as pd\n",
        "from collections import Counter\n",
        "\n",
        "df = pd.read_csv('https://github.com/alura-cursos/machine-learning-introducao-a-classificacao/raw/master/busca.csv')\n",
        "X_df = df[['home','busca', 'logado']]\n",
        "Y_df = df['comprou']\n",
        "\n",
        "Xdummies_df = pd.get_dummies(X_df).astype(int)\n",
        "Ydummies_df = Y_df\n",
        "\n",
        "X = Xdummies_df.values\n",
        "Y = Ydummies_df.values \n",
        "\n",
        "porcentagem_de_treino = 0.8\n",
        "porcentagem_de_teste = 0.1\n",
        "\n",
        "tamanho_de_treino = int(porcentagem_de_treino * len(Y))\n",
        "tamanho_de_teste = int(porcentagem_de_teste * len(Y))\n",
        "tamanho_de_validacao = len(Y) - tamanho_de_treino - tamanho_de_teste\n",
        "\n",
        "treino_dados = X[:tamanho_de_treino]\n",
        "treino_marcacoes = Y[:tamanho_de_treino]\n",
        "\n",
        "fim_de_teste = tamanho_de_treino + tamanho_de_teste\n",
        "\n",
        "teste_dados = X[tamanho_de_treino:fim_de_teste]\n",
        "teste_marcacoes = Y[tamanho_de_treino:fim_de_teste]\n",
        "\n",
        "validacao_dados = X[fim_de_teste:]\n",
        "validacao_marcacoes = Y[fim_de_teste:]\n",
        "\n",
        "\n",
        "def fit_and_predict(nome, modelo, treino_dados, treino_marcacoes, teste_dados, teste_marcacoes):\n",
        "    modelo.fit(treino_dados, treino_marcacoes)\n",
        "    resultado = modelo.predict(teste_dados)\n",
        "    acertos = resultado == teste_marcacoes\n",
        "    total_de_acertos = sum(acertos)\n",
        "    total_de_elementos = len(teste_dados)\n",
        "    taxa_de_acerto = 100.0 * total_de_acertos / total_de_elementos\n",
        "    print(f\"Taxa de acerto do algoritmo {nome}: {taxa_de_acerto}\")\n",
        "    return taxa_de_acerto\n",
        "\n",
        "def teste_real(modelo, validacao_dados, validacao_marcacoes):\n",
        "    resultado = modelo.predict(validacao_dados)\n",
        "    acertos = resultado == validacao_marcacoes\n",
        "    total_de_acertos = sum(acertos)\n",
        "    total_de_elementos = len(validacao_marcacoes)\n",
        "    taxa_de_acerto = 100.0 * total_de_acertos / total_de_elementos\n",
        "    print(f\"Taxa de acerto do vencedor entre os dois algoritmos no mundo real: {taxa_de_acerto}\")\n",
        "\n",
        "from sklearn.naive_bayes import MultinomialNB\n",
        "modeloMultinomial = MultinomialNB()\n",
        "resultadoMultinomial = fit_and_predict(\"MultinomialNB\", modeloMultinomial, treino_dados, treino_marcacoes, teste_dados, teste_marcacoes)\n",
        "\n",
        "from sklearn.ensemble import AdaBoostClassifier\n",
        "modeloAdaBoost = AdaBoostClassifier()\n",
        "resultadoAdaBoost = fit_and_predict(\"AdaBoostClassifier\", modeloAdaBoost, treino_dados, treino_marcacoes, teste_dados, teste_marcacoes)\n",
        "\n",
        "if resultadoMultinomial > resultadoAdaBoost:\n",
        "    vencedor = modeloMultinomial\n",
        "else:\n",
        "    vencedor = modeloAdaBoost\n",
        "\n",
        "teste_real(vencedor, validacao_dados, validacao_marcacoes)\n",
        "\n",
        "acerto_base = max(Counter(validacao_marcacoes).values())\n",
        "taxa_de_acerto_base = 100.0 * acerto_base / len(validacao_marcacoes)\n",
        "print(f\"Taxa de acerto base: {taxa_de_acerto_base}\")\n",
        "\n",
        "total_de_elementos = len(validacao_dados)\n",
        "print(f\"Total de teste: {total_de_elementos}\")"
      ],
      "execution_count": 52,
      "outputs": [
        {
          "output_type": "stream",
          "text": [
            "Taxa de acerto do algoritmo MultinomialNB: 82.0\n",
            "Taxa de acerto do algoritmo AdaBoostClassifier: 84.0\n",
            "Taxa de acerto do vencedor entre os dois algoritmos no mundo real: 85.0\n",
            "Taxa de acerto base: 82.0\n",
            "Total de teste: 100\n"
          ],
          "name": "stdout"
        }
      ]
    },
    {
      "cell_type": "markdown",
      "metadata": {
        "id": "nNNiHt51z7u6"
      },
      "source": [
        "Para o dataset **busca** funcionou bem. Vamos testar como **busca2**."
      ]
    },
    {
      "cell_type": "code",
      "metadata": {
        "colab": {
          "base_uri": "https://localhost:8080/"
        },
        "id": "E5pZlfRIz1TU",
        "outputId": "a6555088-9dd5-4d29-8861-243be1c65a60"
      },
      "source": [
        "import pandas as pd\n",
        "from collections import Counter\n",
        "\n",
        "df = pd.read_csv('https://github.com/alura-cursos/machine-learning-introducao-a-classificacao/raw/master/busca2.csv')\n",
        "X_df = df[['home','busca', 'logado']]\n",
        "Y_df = df['comprou']\n",
        "\n",
        "Xdummies_df = pd.get_dummies(X_df).astype(int)\n",
        "Ydummies_df = Y_df\n",
        "\n",
        "X = Xdummies_df.values\n",
        "Y = Ydummies_df.values \n",
        "\n",
        "porcentagem_de_treino = 0.8\n",
        "porcentagem_de_teste = 0.1\n",
        "\n",
        "tamanho_de_treino = int(porcentagem_de_treino * len(Y))\n",
        "tamanho_de_teste = int(porcentagem_de_teste * len(Y))\n",
        "tamanho_de_validacao = len(Y) - tamanho_de_treino - tamanho_de_teste\n",
        "\n",
        "treino_dados = X[:tamanho_de_treino]\n",
        "treino_marcacoes = Y[:tamanho_de_treino]\n",
        "\n",
        "fim_de_teste = tamanho_de_treino + tamanho_de_teste\n",
        "\n",
        "teste_dados = X[tamanho_de_treino:fim_de_teste]\n",
        "teste_marcacoes = Y[tamanho_de_treino:fim_de_teste]\n",
        "\n",
        "validacao_dados = X[fim_de_teste:]\n",
        "validacao_marcacoes = Y[fim_de_teste:]\n",
        "\n",
        "\n",
        "def fit_and_predict(nome, modelo, treino_dados, treino_marcacoes, teste_dados, teste_marcacoes):\n",
        "    modelo.fit(treino_dados, treino_marcacoes)\n",
        "    resultado = modelo.predict(teste_dados)\n",
        "    acertos = resultado == teste_marcacoes\n",
        "    total_de_acertos = sum(acertos)\n",
        "    total_de_elementos = len(teste_dados)\n",
        "    taxa_de_acerto = 100.0 * total_de_acertos / total_de_elementos\n",
        "    print(f\"Taxa de acerto do algoritmo {nome}: {taxa_de_acerto}\")\n",
        "    return taxa_de_acerto\n",
        "\n",
        "def teste_real(modelo, validacao_dados, validacao_marcacoes):\n",
        "    resultado = modelo.predict(validacao_dados)\n",
        "    acertos = resultado == validacao_marcacoes\n",
        "    total_de_acertos = sum(acertos)\n",
        "    total_de_elementos = len(validacao_marcacoes)\n",
        "    taxa_de_acerto = 100.0 * total_de_acertos / total_de_elementos\n",
        "    print(f\"Taxa de acerto do vencedor entre os dois algoritmos no mundo real: {taxa_de_acerto}\")\n",
        "\n",
        "from sklearn.naive_bayes import MultinomialNB\n",
        "modeloMultinomial = MultinomialNB()\n",
        "resultadoMultinomial = fit_and_predict(\"MultinomialNB\", modeloMultinomial, treino_dados, treino_marcacoes, teste_dados, teste_marcacoes)\n",
        "\n",
        "from sklearn.ensemble import AdaBoostClassifier\n",
        "modeloAdaBoost = AdaBoostClassifier()\n",
        "resultadoAdaBoost = fit_and_predict(\"AdaBoostClassifier\", modeloAdaBoost, treino_dados, treino_marcacoes, teste_dados, teste_marcacoes)\n",
        "\n",
        "if resultadoMultinomial > resultadoAdaBoost:\n",
        "    vencedor = modeloMultinomial\n",
        "else:\n",
        "    vencedor = modeloAdaBoost\n",
        "\n",
        "teste_real(vencedor, validacao_dados, validacao_marcacoes)\n",
        "\n",
        "acerto_base = max(Counter(validacao_marcacoes).values())\n",
        "taxa_de_acerto_base = 100.0 * acerto_base / len(validacao_marcacoes)\n",
        "print(f\"Taxa de acerto base: {taxa_de_acerto_base}\")\n",
        "\n",
        "total_de_elementos = len(validacao_dados)\n",
        "print(f\"Total de teste: {total_de_elementos}\")"
      ],
      "execution_count": 53,
      "outputs": [
        {
          "output_type": "stream",
          "text": [
            "Taxa de acerto do algoritmo MultinomialNB: 85.71428571428571\n",
            "Taxa de acerto do algoritmo AdaBoostClassifier: 85.71428571428571\n",
            "Taxa de acerto do vencedor entre os dois algoritmos no mundo real: 62.5\n",
            "Taxa de acerto base: 62.5\n",
            "Total de teste: 8\n"
          ],
          "name": "stdout"
        }
      ]
    },
    {
      "cell_type": "code",
      "metadata": {
        "id": "kraZHUGO0GZ1"
      },
      "source": [
        ""
      ],
      "execution_count": null,
      "outputs": []
    }
  ]
}